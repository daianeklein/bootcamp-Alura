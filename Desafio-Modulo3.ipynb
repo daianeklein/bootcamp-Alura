{
 "cells": [
  {
   "cell_type": "markdown",
   "metadata": {},
   "source": [
    "# PROJETO MÓDULO III - Data Science Aplicada\n",
    "\n",
    "***\n",
    "\n",
    "## Estatística com python para análise de dados"
   ]
  },
  {
   "cell_type": "markdown",
   "metadata": {
    "heading_collapsed": true
   },
   "source": [
    "## O PROJETO"
   ]
  },
  {
   "cell_type": "markdown",
   "metadata": {
    "hidden": true
   },
   "source": [
    "<img src=\"https://i.ibb.co/FDCHGbL/Whats-App-Image-2021-01-08-at-18-59-40.jpg\" alt=\"Whats-App-Image-2021-01-08-at-18-59-40\" width=\"800\" height=\"662\" data-load=\"full\" style=\"\">"
   ]
  },
  {
   "cell_type": "markdown",
   "metadata": {
    "hidden": true
   },
   "source": [
    "### Importação das libs"
   ]
  },
  {
   "cell_type": "code",
   "execution_count": 1,
   "metadata": {
    "hidden": true
   },
   "outputs": [],
   "source": [
    "import              pandas                 as pd\n",
    "import              matplotlib.pyplot      as plt\n",
    "import              seaborn                as sns\n",
    "import              numpy                  as np\n",
    "\n",
    "import warnings\n",
    "warnings.filterwarnings('ignore')"
   ]
  },
  {
   "cell_type": "markdown",
   "metadata": {
    "heading_collapsed": true,
    "hidden": true
   },
   "source": [
    "### Importação dos Datasets"
   ]
  },
  {
   "cell_type": "code",
   "execution_count": 2,
   "metadata": {
    "hidden": true
   },
   "outputs": [
    {
     "data": {
      "text/html": [
       "<div>\n",
       "<style scoped>\n",
       "    .dataframe tbody tr th:only-of-type {\n",
       "        vertical-align: middle;\n",
       "    }\n",
       "\n",
       "    .dataframe tbody tr th {\n",
       "        vertical-align: top;\n",
       "    }\n",
       "\n",
       "    .dataframe thead th {\n",
       "        text-align: right;\n",
       "    }\n",
       "</style>\n",
       "<table border=\"1\" class=\"dataframe\">\n",
       "  <thead>\n",
       "    <tr style=\"text-align: right;\">\n",
       "      <th></th>\n",
       "      <th>ANOPESQ</th>\n",
       "      <th>PAIS</th>\n",
       "      <th>REGEOGR</th>\n",
       "      <th>VB00004</th>\n",
       "      <th>VB01001</th>\n",
       "      <th>VB01002</th>\n",
       "      <th>VB01003</th>\n",
       "      <th>VB01004</th>\n",
       "      <th>VB01005</th>\n",
       "      <th>VB01006</th>\n",
       "      <th>...</th>\n",
       "      <th>VE01P28A</th>\n",
       "      <th>VE01P68</th>\n",
       "      <th>VE01P69</th>\n",
       "      <th>VE01P70</th>\n",
       "      <th>VE01P71</th>\n",
       "      <th>VE01P72</th>\n",
       "      <th>V0041</th>\n",
       "      <th>aluno</th>\n",
       "      <th>escola</th>\n",
       "      <th>turma</th>\n",
       "    </tr>\n",
       "  </thead>\n",
       "  <tbody>\n",
       "    <tr>\n",
       "      <th>0</th>\n",
       "      <td>2015</td>\n",
       "      <td>76</td>\n",
       "      <td>1</td>\n",
       "      <td>1</td>\n",
       "      <td>2</td>\n",
       "      <td>1</td>\n",
       "      <td>13</td>\n",
       "      <td>7</td>\n",
       "      <td>7</td>\n",
       "      <td>1</td>\n",
       "      <td>...</td>\n",
       "      <td>1</td>\n",
       "      <td>1</td>\n",
       "      <td>1</td>\n",
       "      <td>1</td>\n",
       "      <td>1</td>\n",
       "      <td>1</td>\n",
       "      <td>1</td>\n",
       "      <td>1</td>\n",
       "      <td>1</td>\n",
       "      <td>296</td>\n",
       "    </tr>\n",
       "    <tr>\n",
       "      <th>1</th>\n",
       "      <td>2015</td>\n",
       "      <td>76</td>\n",
       "      <td>1</td>\n",
       "      <td>1</td>\n",
       "      <td>2</td>\n",
       "      <td>1</td>\n",
       "      <td>14</td>\n",
       "      <td>4</td>\n",
       "      <td>7</td>\n",
       "      <td>1</td>\n",
       "      <td>...</td>\n",
       "      <td>1</td>\n",
       "      <td>1</td>\n",
       "      <td>1</td>\n",
       "      <td>1</td>\n",
       "      <td>1</td>\n",
       "      <td>1</td>\n",
       "      <td>1</td>\n",
       "      <td>2</td>\n",
       "      <td>1</td>\n",
       "      <td>296</td>\n",
       "    </tr>\n",
       "    <tr>\n",
       "      <th>2</th>\n",
       "      <td>2015</td>\n",
       "      <td>76</td>\n",
       "      <td>1</td>\n",
       "      <td>1</td>\n",
       "      <td>1</td>\n",
       "      <td>4</td>\n",
       "      <td>13</td>\n",
       "      <td>6</td>\n",
       "      <td>7</td>\n",
       "      <td>1</td>\n",
       "      <td>...</td>\n",
       "      <td>1</td>\n",
       "      <td>1</td>\n",
       "      <td>1</td>\n",
       "      <td>1</td>\n",
       "      <td>1</td>\n",
       "      <td>1</td>\n",
       "      <td>1</td>\n",
       "      <td>3</td>\n",
       "      <td>1</td>\n",
       "      <td>296</td>\n",
       "    </tr>\n",
       "  </tbody>\n",
       "</table>\n",
       "<p>3 rows × 296 columns</p>\n",
       "</div>"
      ],
      "text/plain": [
       "   ANOPESQ  PAIS  REGEOGR  VB00004  VB01001  VB01002  VB01003  VB01004  \\\n",
       "0     2015    76        1        1        2        1       13        7   \n",
       "1     2015    76        1        1        2        1       14        4   \n",
       "2     2015    76        1        1        1        4       13        6   \n",
       "\n",
       "   VB01005  VB01006  ...  VE01P28A  VE01P68  VE01P69  VE01P70  VE01P71  \\\n",
       "0        7        1  ...         1        1        1        1        1   \n",
       "1        7        1  ...         1        1        1        1        1   \n",
       "2        7        1  ...         1        1        1        1        1   \n",
       "\n",
       "   VE01P72  V0041  aluno  escola  turma  \n",
       "0        1      1      1       1    296  \n",
       "1        1      1      2       1    296  \n",
       "2        1      1      3       1    296  \n",
       "\n",
       "[3 rows x 296 columns]"
      ]
     },
     "execution_count": 2,
     "metadata": {},
     "output_type": "execute_result"
    }
   ],
   "source": [
    "df = pd.read_csv('PENSE_AMOSTRA2_ALUNOESCOLA.CSV', sep=';')\n",
    "df.head(3)"
   ]
  },
  {
   "cell_type": "code",
   "execution_count": 3,
   "metadata": {
    "hidden": true
   },
   "outputs": [],
   "source": [
    "# Seleção das colunas\n",
    "colunas =['VE01P70', 'REGEOGR', 'V0008', 'VB01003', 'VB07004', 'VB07006', 'VB07007', 'VB07008', 'VB07009',\n",
    "         'VB07010', 'VB12001', 'VB12002', 'VB12003', 'VB11006', 'VB11007', 'VB11001', 'VB11002', 'VB11003',\n",
    "         'VB11004A', 'VB11005']"
   ]
  },
  {
   "cell_type": "code",
   "execution_count": 4,
   "metadata": {
    "hidden": true
   },
   "outputs": [],
   "source": [
    "# Selecionando somente as colunas que serão utilizadas para análise\n",
    "df = df[colunas]"
   ]
  },
  {
   "cell_type": "code",
   "execution_count": 5,
   "metadata": {
    "hidden": true
   },
   "outputs": [],
   "source": [
    "colunas = ['politica_contra_bu', 'regiao_geo', 'tipo_escola', 'idade', 'preocupacao_resp', 'amigos_trataram_bem',\n",
    "          'amigos_trataram_mal', 'motivo_bul', 'praticou_bu', 'ja_sofreu_bul', 'sentido_sozinho',\n",
    "          'sem_dormir', 'qt_amigos', 'imagem_corporal', 'sentimento_corpo', 'corpo', 'fazendo_corpo', 'remedio_perder_peso',\n",
    "          'remedio_perder_peso_sem_medico', 'remedio_ganhar_peso']"
   ]
  },
  {
   "cell_type": "code",
   "execution_count": 6,
   "metadata": {
    "hidden": true
   },
   "outputs": [],
   "source": [
    "# Renomeando as colunas\n",
    "df.columns = colunas"
   ]
  },
  {
   "cell_type": "markdown",
   "metadata": {
    "hidden": true
   },
   "source": [
    "### ENTENDIMENTO DOS DADOS"
   ]
  },
  {
   "cell_type": "markdown",
   "metadata": {
    "hidden": true
   },
   "source": [
    "Nesta seção, será criada uma variável contendo uma tabela com a quantidade de registros em cada uma das colunas.\n",
    "Esta forma de visualização tem como objetivo entender quais são os dados, analisando o dataset como um todo, poupando tempo e possibilitando um entendimento geral dos dados."
   ]
  },
  {
   "cell_type": "code",
   "execution_count": 7,
   "metadata": {
    "hidden": true
   },
   "outputs": [],
   "source": [
    "# Contando e agrupando\n",
    "table = df.apply(pd.Series.value_counts)\n",
    "\n",
    "# Alterando o tipo de dado para object e os valores nuloes (nan) para a palavra 'None'\n",
    "table = table.astype(object).replace(np.nan, 'None')\n",
    "\n",
    "# Substituindo a palavra 'None' para vazio (a fim de facilitar a visualização)\n",
    "table = table.replace('None', '')"
   ]
  },
  {
   "cell_type": "code",
   "execution_count": 8,
   "metadata": {
    "hidden": true
   },
   "outputs": [
    {
     "data": {
      "text/html": [
       "<div>\n",
       "<style scoped>\n",
       "    .dataframe tbody tr th:only-of-type {\n",
       "        vertical-align: middle;\n",
       "    }\n",
       "\n",
       "    .dataframe tbody tr th {\n",
       "        vertical-align: top;\n",
       "    }\n",
       "\n",
       "    .dataframe thead th {\n",
       "        text-align: right;\n",
       "    }\n",
       "</style>\n",
       "<table border=\"1\" class=\"dataframe\">\n",
       "  <thead>\n",
       "    <tr style=\"text-align: right;\">\n",
       "      <th></th>\n",
       "      <th>politica_contra_bu</th>\n",
       "      <th>regiao_geo</th>\n",
       "      <th>tipo_escola</th>\n",
       "      <th>idade</th>\n",
       "      <th>preocupacao_resp</th>\n",
       "      <th>amigos_trataram_bem</th>\n",
       "      <th>amigos_trataram_mal</th>\n",
       "      <th>motivo_bul</th>\n",
       "      <th>praticou_bu</th>\n",
       "      <th>ja_sofreu_bul</th>\n",
       "      <th>sentido_sozinho</th>\n",
       "      <th>sem_dormir</th>\n",
       "      <th>qt_amigos</th>\n",
       "      <th>imagem_corporal</th>\n",
       "      <th>sentimento_corpo</th>\n",
       "      <th>corpo</th>\n",
       "      <th>fazendo_corpo</th>\n",
       "      <th>remedio_perder_peso</th>\n",
       "      <th>remedio_perder_peso_sem_medico</th>\n",
       "      <th>remedio_ganhar_peso</th>\n",
       "    </tr>\n",
       "  </thead>\n",
       "  <tbody>\n",
       "    <tr>\n",
       "      <th>-1</th>\n",
       "      <td></td>\n",
       "      <td></td>\n",
       "      <td></td>\n",
       "      <td></td>\n",
       "      <td></td>\n",
       "      <td></td>\n",
       "      <td></td>\n",
       "      <td>9250</td>\n",
       "      <td></td>\n",
       "      <td></td>\n",
       "      <td></td>\n",
       "      <td></td>\n",
       "      <td></td>\n",
       "      <td></td>\n",
       "      <td></td>\n",
       "      <td></td>\n",
       "      <td></td>\n",
       "      <td></td>\n",
       "      <td></td>\n",
       "      <td></td>\n",
       "    </tr>\n",
       "    <tr>\n",
       "      <th>1</th>\n",
       "      <td>14732</td>\n",
       "      <td>3188</td>\n",
       "      <td>300</td>\n",
       "      <td></td>\n",
       "      <td>2493</td>\n",
       "      <td>1345</td>\n",
       "      <td>9147</td>\n",
       "      <td>403</td>\n",
       "      <td>2905</td>\n",
       "      <td>7584</td>\n",
       "      <td>5805</td>\n",
       "      <td>5701</td>\n",
       "      <td>642</td>\n",
       "      <td>7102</td>\n",
       "      <td>4608</td>\n",
       "      <td>952</td>\n",
       "      <td>6169</td>\n",
       "      <td>1262</td>\n",
       "      <td>1108</td>\n",
       "      <td>1321</td>\n",
       "    </tr>\n",
       "    <tr>\n",
       "      <th>2</th>\n",
       "      <td>1762</td>\n",
       "      <td>3465</td>\n",
       "      <td>9009</td>\n",
       "      <td></td>\n",
       "      <td>2476</td>\n",
       "      <td>1470</td>\n",
       "      <td>3541</td>\n",
       "      <td>241</td>\n",
       "      <td>13579</td>\n",
       "      <td>8533</td>\n",
       "      <td>3584</td>\n",
       "      <td>4736</td>\n",
       "      <td>988</td>\n",
       "      <td>6604</td>\n",
       "      <td>6920</td>\n",
       "      <td>3261</td>\n",
       "      <td>4688</td>\n",
       "      <td>15107</td>\n",
       "      <td>15243</td>\n",
       "      <td>15007</td>\n",
       "    </tr>\n",
       "    <tr>\n",
       "      <th>3</th>\n",
       "      <td></td>\n",
       "      <td>3276</td>\n",
       "      <td>3072</td>\n",
       "      <td></td>\n",
       "      <td>3608</td>\n",
       "      <td>3195</td>\n",
       "      <td>2550</td>\n",
       "      <td>705</td>\n",
       "      <td></td>\n",
       "      <td>387</td>\n",
       "      <td>4580</td>\n",
       "      <td>4149</td>\n",
       "      <td>2056</td>\n",
       "      <td>1969</td>\n",
       "      <td>1807</td>\n",
       "      <td>8822</td>\n",
       "      <td>2674</td>\n",
       "      <td></td>\n",
       "      <td></td>\n",
       "      <td></td>\n",
       "    </tr>\n",
       "    <tr>\n",
       "      <th>4</th>\n",
       "      <td></td>\n",
       "      <td>3207</td>\n",
       "      <td>4175</td>\n",
       "      <td></td>\n",
       "      <td>2818</td>\n",
       "      <td>4779</td>\n",
       "      <td>670</td>\n",
       "      <td>1110</td>\n",
       "      <td></td>\n",
       "      <td></td>\n",
       "      <td>1601</td>\n",
       "      <td>1374</td>\n",
       "      <td>12803</td>\n",
       "      <td>726</td>\n",
       "      <td>2326</td>\n",
       "      <td>2951</td>\n",
       "      <td>2859</td>\n",
       "      <td></td>\n",
       "      <td></td>\n",
       "      <td></td>\n",
       "    </tr>\n",
       "    <tr>\n",
       "      <th>5</th>\n",
       "      <td></td>\n",
       "      <td>3420</td>\n",
       "      <td></td>\n",
       "      <td></td>\n",
       "      <td>5070</td>\n",
       "      <td>5677</td>\n",
       "      <td>545</td>\n",
       "      <td>160</td>\n",
       "      <td></td>\n",
       "      <td></td>\n",
       "      <td>920</td>\n",
       "      <td>519</td>\n",
       "      <td></td>\n",
       "      <td></td>\n",
       "      <td>714</td>\n",
       "      <td>411</td>\n",
       "      <td></td>\n",
       "      <td></td>\n",
       "      <td></td>\n",
       "      <td></td>\n",
       "    </tr>\n",
       "    <tr>\n",
       "      <th>6</th>\n",
       "      <td></td>\n",
       "      <td></td>\n",
       "      <td></td>\n",
       "      <td></td>\n",
       "      <td></td>\n",
       "      <td></td>\n",
       "      <td></td>\n",
       "      <td>119</td>\n",
       "      <td></td>\n",
       "      <td></td>\n",
       "      <td></td>\n",
       "      <td></td>\n",
       "      <td></td>\n",
       "      <td></td>\n",
       "      <td></td>\n",
       "      <td></td>\n",
       "      <td></td>\n",
       "      <td></td>\n",
       "      <td></td>\n",
       "      <td></td>\n",
       "    </tr>\n",
       "    <tr>\n",
       "      <th>7</th>\n",
       "      <td></td>\n",
       "      <td></td>\n",
       "      <td></td>\n",
       "      <td></td>\n",
       "      <td></td>\n",
       "      <td></td>\n",
       "      <td></td>\n",
       "      <td>4489</td>\n",
       "      <td></td>\n",
       "      <td></td>\n",
       "      <td></td>\n",
       "      <td></td>\n",
       "      <td></td>\n",
       "      <td></td>\n",
       "      <td></td>\n",
       "      <td></td>\n",
       "      <td></td>\n",
       "      <td></td>\n",
       "      <td></td>\n",
       "      <td></td>\n",
       "    </tr>\n",
       "    <tr>\n",
       "      <th>9</th>\n",
       "      <td>62</td>\n",
       "      <td></td>\n",
       "      <td></td>\n",
       "      <td></td>\n",
       "      <td></td>\n",
       "      <td></td>\n",
       "      <td></td>\n",
       "      <td></td>\n",
       "      <td></td>\n",
       "      <td></td>\n",
       "      <td></td>\n",
       "      <td></td>\n",
       "      <td></td>\n",
       "      <td></td>\n",
       "      <td></td>\n",
       "      <td></td>\n",
       "      <td></td>\n",
       "      <td></td>\n",
       "      <td></td>\n",
       "      <td></td>\n",
       "    </tr>\n",
       "    <tr>\n",
       "      <th>11</th>\n",
       "      <td></td>\n",
       "      <td></td>\n",
       "      <td></td>\n",
       "      <td>2072</td>\n",
       "      <td></td>\n",
       "      <td></td>\n",
       "      <td></td>\n",
       "      <td></td>\n",
       "      <td></td>\n",
       "      <td></td>\n",
       "      <td></td>\n",
       "      <td></td>\n",
       "      <td></td>\n",
       "      <td></td>\n",
       "      <td></td>\n",
       "      <td></td>\n",
       "      <td></td>\n",
       "      <td></td>\n",
       "      <td></td>\n",
       "      <td></td>\n",
       "    </tr>\n",
       "    <tr>\n",
       "      <th>12</th>\n",
       "      <td></td>\n",
       "      <td></td>\n",
       "      <td></td>\n",
       "      <td>2634</td>\n",
       "      <td></td>\n",
       "      <td></td>\n",
       "      <td></td>\n",
       "      <td></td>\n",
       "      <td></td>\n",
       "      <td></td>\n",
       "      <td></td>\n",
       "      <td></td>\n",
       "      <td></td>\n",
       "      <td></td>\n",
       "      <td></td>\n",
       "      <td></td>\n",
       "      <td></td>\n",
       "      <td></td>\n",
       "      <td></td>\n",
       "      <td></td>\n",
       "    </tr>\n",
       "    <tr>\n",
       "      <th>13</th>\n",
       "      <td></td>\n",
       "      <td></td>\n",
       "      <td></td>\n",
       "      <td>2561</td>\n",
       "      <td></td>\n",
       "      <td></td>\n",
       "      <td></td>\n",
       "      <td></td>\n",
       "      <td></td>\n",
       "      <td></td>\n",
       "      <td></td>\n",
       "      <td></td>\n",
       "      <td></td>\n",
       "      <td></td>\n",
       "      <td></td>\n",
       "      <td></td>\n",
       "      <td></td>\n",
       "      <td></td>\n",
       "      <td></td>\n",
       "      <td></td>\n",
       "    </tr>\n",
       "    <tr>\n",
       "      <th>14</th>\n",
       "      <td></td>\n",
       "      <td></td>\n",
       "      <td></td>\n",
       "      <td>2133</td>\n",
       "      <td></td>\n",
       "      <td></td>\n",
       "      <td></td>\n",
       "      <td></td>\n",
       "      <td></td>\n",
       "      <td></td>\n",
       "      <td></td>\n",
       "      <td></td>\n",
       "      <td></td>\n",
       "      <td></td>\n",
       "      <td></td>\n",
       "      <td></td>\n",
       "      <td></td>\n",
       "      <td></td>\n",
       "      <td></td>\n",
       "      <td></td>\n",
       "    </tr>\n",
       "    <tr>\n",
       "      <th>15</th>\n",
       "      <td></td>\n",
       "      <td></td>\n",
       "      <td></td>\n",
       "      <td>2425</td>\n",
       "      <td></td>\n",
       "      <td></td>\n",
       "      <td></td>\n",
       "      <td></td>\n",
       "      <td></td>\n",
       "      <td></td>\n",
       "      <td></td>\n",
       "      <td></td>\n",
       "      <td></td>\n",
       "      <td></td>\n",
       "      <td></td>\n",
       "      <td></td>\n",
       "      <td></td>\n",
       "      <td></td>\n",
       "      <td></td>\n",
       "      <td></td>\n",
       "    </tr>\n",
       "    <tr>\n",
       "      <th>16</th>\n",
       "      <td></td>\n",
       "      <td></td>\n",
       "      <td></td>\n",
       "      <td>2270</td>\n",
       "      <td></td>\n",
       "      <td></td>\n",
       "      <td></td>\n",
       "      <td></td>\n",
       "      <td></td>\n",
       "      <td></td>\n",
       "      <td></td>\n",
       "      <td></td>\n",
       "      <td></td>\n",
       "      <td></td>\n",
       "      <td></td>\n",
       "      <td></td>\n",
       "      <td></td>\n",
       "      <td></td>\n",
       "      <td></td>\n",
       "      <td></td>\n",
       "    </tr>\n",
       "    <tr>\n",
       "      <th>17</th>\n",
       "      <td></td>\n",
       "      <td></td>\n",
       "      <td></td>\n",
       "      <td>1537</td>\n",
       "      <td></td>\n",
       "      <td></td>\n",
       "      <td></td>\n",
       "      <td></td>\n",
       "      <td></td>\n",
       "      <td></td>\n",
       "      <td></td>\n",
       "      <td></td>\n",
       "      <td></td>\n",
       "      <td></td>\n",
       "      <td></td>\n",
       "      <td></td>\n",
       "      <td></td>\n",
       "      <td></td>\n",
       "      <td></td>\n",
       "      <td></td>\n",
       "    </tr>\n",
       "    <tr>\n",
       "      <th>18</th>\n",
       "      <td></td>\n",
       "      <td></td>\n",
       "      <td></td>\n",
       "      <td>563</td>\n",
       "      <td></td>\n",
       "      <td></td>\n",
       "      <td></td>\n",
       "      <td></td>\n",
       "      <td></td>\n",
       "      <td></td>\n",
       "      <td></td>\n",
       "      <td></td>\n",
       "      <td></td>\n",
       "      <td></td>\n",
       "      <td></td>\n",
       "      <td></td>\n",
       "      <td></td>\n",
       "      <td></td>\n",
       "      <td></td>\n",
       "      <td></td>\n",
       "    </tr>\n",
       "    <tr>\n",
       "      <th>19</th>\n",
       "      <td></td>\n",
       "      <td></td>\n",
       "      <td></td>\n",
       "      <td>361</td>\n",
       "      <td></td>\n",
       "      <td></td>\n",
       "      <td></td>\n",
       "      <td></td>\n",
       "      <td></td>\n",
       "      <td></td>\n",
       "      <td></td>\n",
       "      <td></td>\n",
       "      <td></td>\n",
       "      <td></td>\n",
       "      <td></td>\n",
       "      <td></td>\n",
       "      <td></td>\n",
       "      <td></td>\n",
       "      <td></td>\n",
       "      <td></td>\n",
       "    </tr>\n",
       "    <tr>\n",
       "      <th>99</th>\n",
       "      <td></td>\n",
       "      <td></td>\n",
       "      <td></td>\n",
       "      <td></td>\n",
       "      <td>91</td>\n",
       "      <td>90</td>\n",
       "      <td>103</td>\n",
       "      <td>79</td>\n",
       "      <td>72</td>\n",
       "      <td>52</td>\n",
       "      <td>66</td>\n",
       "      <td>77</td>\n",
       "      <td>67</td>\n",
       "      <td>155</td>\n",
       "      <td>181</td>\n",
       "      <td>159</td>\n",
       "      <td>166</td>\n",
       "      <td>187</td>\n",
       "      <td>205</td>\n",
       "      <td>228</td>\n",
       "    </tr>\n",
       "  </tbody>\n",
       "</table>\n",
       "</div>"
      ],
      "text/plain": [
       "    politica_contra_bu regiao_geo tipo_escola idade preocupacao_resp  \\\n",
       "-1                                                                     \n",
       " 1               14732       3188         300                   2493   \n",
       " 2                1762       3465        9009                   2476   \n",
       " 3                           3276        3072                   3608   \n",
       " 4                           3207        4175                   2818   \n",
       " 5                           3420                               5070   \n",
       " 6                                                                     \n",
       " 7                                                                     \n",
       " 9                  62                                                 \n",
       " 11                                            2072                    \n",
       " 12                                            2634                    \n",
       " 13                                            2561                    \n",
       " 14                                            2133                    \n",
       " 15                                            2425                    \n",
       " 16                                            2270                    \n",
       " 17                                            1537                    \n",
       " 18                                             563                    \n",
       " 19                                             361                    \n",
       " 99                                                               91   \n",
       "\n",
       "    amigos_trataram_bem amigos_trataram_mal motivo_bul praticou_bu  \\\n",
       "-1                                                9250               \n",
       " 1                 1345                9147        403        2905   \n",
       " 2                 1470                3541        241       13579   \n",
       " 3                 3195                2550        705               \n",
       " 4                 4779                 670       1110               \n",
       " 5                 5677                 545        160               \n",
       " 6                                                 119               \n",
       " 7                                                4489               \n",
       " 9                                                                   \n",
       " 11                                                                  \n",
       " 12                                                                  \n",
       " 13                                                                  \n",
       " 14                                                                  \n",
       " 15                                                                  \n",
       " 16                                                                  \n",
       " 17                                                                  \n",
       " 18                                                                  \n",
       " 19                                                                  \n",
       " 99                  90                 103         79          72   \n",
       "\n",
       "    ja_sofreu_bul sentido_sozinho sem_dormir qt_amigos imagem_corporal  \\\n",
       "-1                                                                       \n",
       " 1           7584            5805       5701       642            7102   \n",
       " 2           8533            3584       4736       988            6604   \n",
       " 3            387            4580       4149      2056            1969   \n",
       " 4                           1601       1374     12803             726   \n",
       " 5                            920        519                             \n",
       " 6                                                                       \n",
       " 7                                                                       \n",
       " 9                                                                       \n",
       " 11                                                                      \n",
       " 12                                                                      \n",
       " 13                                                                      \n",
       " 14                                                                      \n",
       " 15                                                                      \n",
       " 16                                                                      \n",
       " 17                                                                      \n",
       " 18                                                                      \n",
       " 19                                                                      \n",
       " 99            52              66         77        67             155   \n",
       "\n",
       "    sentimento_corpo corpo fazendo_corpo remedio_perder_peso  \\\n",
       "-1                                                             \n",
       " 1              4608   952          6169                1262   \n",
       " 2              6920  3261          4688               15107   \n",
       " 3              1807  8822          2674                       \n",
       " 4              2326  2951          2859                       \n",
       " 5               714   411                                     \n",
       " 6                                                             \n",
       " 7                                                             \n",
       " 9                                                             \n",
       " 11                                                            \n",
       " 12                                                            \n",
       " 13                                                            \n",
       " 14                                                            \n",
       " 15                                                            \n",
       " 16                                                            \n",
       " 17                                                            \n",
       " 18                                                            \n",
       " 19                                                            \n",
       " 99              181   159           166                 187   \n",
       "\n",
       "    remedio_perder_peso_sem_medico remedio_ganhar_peso  \n",
       "-1                                                      \n",
       " 1                            1108                1321  \n",
       " 2                           15243               15007  \n",
       " 3                                                      \n",
       " 4                                                      \n",
       " 5                                                      \n",
       " 6                                                      \n",
       " 7                                                      \n",
       " 9                                                      \n",
       " 11                                                     \n",
       " 12                                                     \n",
       " 13                                                     \n",
       " 14                                                     \n",
       " 15                                                     \n",
       " 16                                                     \n",
       " 17                                                     \n",
       " 18                                                     \n",
       " 19                                                     \n",
       " 99                            205                 228  "
      ]
     },
     "execution_count": 8,
     "metadata": {},
     "output_type": "execute_result"
    }
   ],
   "source": [
    "# Visualizando a tabela com a qt. de dados\n",
    "table"
   ]
  },
  {
   "cell_type": "markdown",
   "metadata": {
    "heading_collapsed": true
   },
   "source": [
    "## POLÍTICA CONTRA BULLYING"
   ]
  },
  {
   "cell_type": "markdown",
   "metadata": {
    "hidden": true
   },
   "source": [
    "***\n",
    "\n",
    "Em 2016 entrou em vigor a Lei nº 13.185 que classifica o bullying como intimidação sistemática, quando há violência física ou psicológica em atos de humilhação ou discriminação. A classificação também inclui ataques físicos, insultos, ameaças, comentários e apelidos pejorativos, entre outros. \n",
    "\n",
    "Fonte: <a href=\"http://portal.mec.gov.br/component/tags/tag/34487#:~:text=A%20Lei%20n%C2%BA%2013.185%2C%20em,e%20apelidos%20pejorativos%2C%20entre%20outros.\">Ministério da Educação</a>"
   ]
  },
  {
   "cell_type": "markdown",
   "metadata": {
    "hidden": true
   },
   "source": [
    "<img src=\"https://i.ibb.co/TcQGPp3/Captura-de-Tela-2021-01-07-a-s-22-13-32.png\" alt=\"Captura-de-Tela-2021-01-07-a-s-22-13-32\" width=\"540\" height=\"281\">\n"
   ]
  },
  {
   "cell_type": "markdown",
   "metadata": {
    "hidden": true
   },
   "source": [
    "Como analisado abaixo, a maior parte dos alunos responderam afirmativamente a pergunta:\n",
    "\n",
    "**A escola tem alguma política, norma ou regra escrita que proíba bullying nas suas dependências?**"
   ]
  },
  {
   "cell_type": "code",
   "execution_count": 9,
   "metadata": {
    "hidden": true
   },
   "outputs": [
    {
     "data": {
      "text/html": [
       "<div>\n",
       "<style scoped>\n",
       "    .dataframe tbody tr th:only-of-type {\n",
       "        vertical-align: middle;\n",
       "    }\n",
       "\n",
       "    .dataframe tbody tr th {\n",
       "        vertical-align: top;\n",
       "    }\n",
       "\n",
       "    .dataframe thead th {\n",
       "        text-align: right;\n",
       "    }\n",
       "</style>\n",
       "<table border=\"1\" class=\"dataframe\">\n",
       "  <thead>\n",
       "    <tr style=\"text-align: right;\">\n",
       "      <th></th>\n",
       "      <th>Qt</th>\n",
       "      <th>Perc</th>\n",
       "    </tr>\n",
       "  </thead>\n",
       "  <tbody>\n",
       "    <tr>\n",
       "      <th>1</th>\n",
       "      <td>14732</td>\n",
       "      <td>88.982846</td>\n",
       "    </tr>\n",
       "    <tr>\n",
       "      <th>2</th>\n",
       "      <td>1762</td>\n",
       "      <td>10.642667</td>\n",
       "    </tr>\n",
       "    <tr>\n",
       "      <th>9</th>\n",
       "      <td>62</td>\n",
       "      <td>0.374487</td>\n",
       "    </tr>\n",
       "  </tbody>\n",
       "</table>\n",
       "</div>"
      ],
      "text/plain": [
       "      Qt       Perc\n",
       "1  14732  88.982846\n",
       "2   1762  10.642667\n",
       "9     62   0.374487"
      ]
     },
     "execution_count": 9,
     "metadata": {},
     "output_type": "execute_result"
    }
   ],
   "source": [
    "# Criando e agrupando\n",
    "q = df['politica_contra_bu'].value_counts()\n",
    "p = df['politica_contra_bu'].value_counts(normalize = True) * 100\n",
    "\n",
    "# Criando um DataFrame\n",
    "t = pd.DataFrame({'Qt' : q, 'Perc' : p})\n",
    "t "
   ]
  },
  {
   "cell_type": "code",
   "execution_count": 10,
   "metadata": {
    "hidden": true
   },
   "outputs": [
    {
     "data": {
      "text/html": [
       "<div>\n",
       "<style scoped>\n",
       "    .dataframe tbody tr th:only-of-type {\n",
       "        vertical-align: middle;\n",
       "    }\n",
       "\n",
       "    .dataframe tbody tr th {\n",
       "        vertical-align: top;\n",
       "    }\n",
       "\n",
       "    .dataframe thead th {\n",
       "        text-align: right;\n",
       "    }\n",
       "</style>\n",
       "<table border=\"1\" class=\"dataframe\">\n",
       "  <thead>\n",
       "    <tr style=\"text-align: right;\">\n",
       "      <th></th>\n",
       "      <th>Qt</th>\n",
       "      <th>Perc</th>\n",
       "    </tr>\n",
       "  </thead>\n",
       "  <tbody>\n",
       "    <tr>\n",
       "      <th>12</th>\n",
       "      <td>262</td>\n",
       "      <td>14.869467</td>\n",
       "    </tr>\n",
       "    <tr>\n",
       "      <th>15</th>\n",
       "      <td>252</td>\n",
       "      <td>14.301930</td>\n",
       "    </tr>\n",
       "    <tr>\n",
       "      <th>14</th>\n",
       "      <td>250</td>\n",
       "      <td>14.188422</td>\n",
       "    </tr>\n",
       "    <tr>\n",
       "      <th>13</th>\n",
       "      <td>237</td>\n",
       "      <td>13.450624</td>\n",
       "    </tr>\n",
       "    <tr>\n",
       "      <th>11</th>\n",
       "      <td>216</td>\n",
       "      <td>12.258797</td>\n",
       "    </tr>\n",
       "    <tr>\n",
       "      <th>16</th>\n",
       "      <td>211</td>\n",
       "      <td>11.975028</td>\n",
       "    </tr>\n",
       "    <tr>\n",
       "      <th>17</th>\n",
       "      <td>178</td>\n",
       "      <td>10.102157</td>\n",
       "    </tr>\n",
       "    <tr>\n",
       "      <th>18</th>\n",
       "      <td>92</td>\n",
       "      <td>5.221339</td>\n",
       "    </tr>\n",
       "    <tr>\n",
       "      <th>19</th>\n",
       "      <td>64</td>\n",
       "      <td>3.632236</td>\n",
       "    </tr>\n",
       "  </tbody>\n",
       "</table>\n",
       "</div>"
      ],
      "text/plain": [
       "     Qt       Perc\n",
       "12  262  14.869467\n",
       "15  252  14.301930\n",
       "14  250  14.188422\n",
       "13  237  13.450624\n",
       "11  216  12.258797\n",
       "16  211  11.975028\n",
       "17  178  10.102157\n",
       "18   92   5.221339\n",
       "19   64   3.632236"
      ]
     },
     "execution_count": 10,
     "metadata": {},
     "output_type": "execute_result"
    }
   ],
   "source": [
    "# Selecionando os alunos que responderam 'nao' para política contra bullying e\n",
    "# calculando a qt. e o percentual por idade\n",
    "\n",
    "q = df[df['politica_contra_bu'] == 2]['idade'].value_counts()\n",
    "p = df[df['politica_contra_bu'] == 2]['idade'].value_counts(normalize = True) * 100\n",
    "\n",
    "#Criando dataframe\n",
    "t = pd.DataFrame({'Qt' : q, 'Perc' : p}).sort_values(by='Perc', ascending=False)\n",
    "t "
   ]
  },
  {
   "cell_type": "code",
   "execution_count": 11,
   "metadata": {
    "hidden": true
   },
   "outputs": [
    {
     "data": {
      "text/html": [
       "<div>\n",
       "<style scoped>\n",
       "    .dataframe tbody tr th:only-of-type {\n",
       "        vertical-align: middle;\n",
       "    }\n",
       "\n",
       "    .dataframe tbody tr th {\n",
       "        vertical-align: top;\n",
       "    }\n",
       "\n",
       "    .dataframe thead th {\n",
       "        text-align: right;\n",
       "    }\n",
       "</style>\n",
       "<table border=\"1\" class=\"dataframe\">\n",
       "  <thead>\n",
       "    <tr style=\"text-align: right;\">\n",
       "      <th></th>\n",
       "      <th>Qt</th>\n",
       "      <th>Perc</th>\n",
       "    </tr>\n",
       "  </thead>\n",
       "  <tbody>\n",
       "    <tr>\n",
       "      <th>12</th>\n",
       "      <td>2372</td>\n",
       "      <td>16.101005</td>\n",
       "    </tr>\n",
       "    <tr>\n",
       "      <th>13</th>\n",
       "      <td>2324</td>\n",
       "      <td>15.775183</td>\n",
       "    </tr>\n",
       "    <tr>\n",
       "      <th>15</th>\n",
       "      <td>2171</td>\n",
       "      <td>14.736628</td>\n",
       "    </tr>\n",
       "    <tr>\n",
       "      <th>16</th>\n",
       "      <td>2041</td>\n",
       "      <td>13.854195</td>\n",
       "    </tr>\n",
       "    <tr>\n",
       "      <th>14</th>\n",
       "      <td>1883</td>\n",
       "      <td>12.781700</td>\n",
       "    </tr>\n",
       "    <tr>\n",
       "      <th>11</th>\n",
       "      <td>1856</td>\n",
       "      <td>12.598425</td>\n",
       "    </tr>\n",
       "    <tr>\n",
       "      <th>17</th>\n",
       "      <td>1322</td>\n",
       "      <td>8.973663</td>\n",
       "    </tr>\n",
       "    <tr>\n",
       "      <th>18</th>\n",
       "      <td>466</td>\n",
       "      <td>3.163182</td>\n",
       "    </tr>\n",
       "    <tr>\n",
       "      <th>19</th>\n",
       "      <td>297</td>\n",
       "      <td>2.016020</td>\n",
       "    </tr>\n",
       "  </tbody>\n",
       "</table>\n",
       "</div>"
      ],
      "text/plain": [
       "      Qt       Perc\n",
       "12  2372  16.101005\n",
       "13  2324  15.775183\n",
       "15  2171  14.736628\n",
       "16  2041  13.854195\n",
       "14  1883  12.781700\n",
       "11  1856  12.598425\n",
       "17  1322   8.973663\n",
       "18   466   3.163182\n",
       "19   297   2.016020"
      ]
     },
     "execution_count": 11,
     "metadata": {},
     "output_type": "execute_result"
    }
   ],
   "source": [
    "# Selecionando os alunos que responderam 'sim' para política contra bullying e\n",
    "# calculando a qt. e o percentual por idade\n",
    "\n",
    "q = df[df['politica_contra_bu'] == 1]['idade'].value_counts()\n",
    "p = df[df['politica_contra_bu'] == 1]['idade'].value_counts(normalize = True) * 100\n",
    "\n",
    "# Criando dataframe\n",
    "t = pd.DataFrame({'Qt' : q, 'Perc' : p}).sort_values(by='Perc', ascending=False)\n",
    "t "
   ]
  },
  {
   "cell_type": "code",
   "execution_count": 12,
   "metadata": {
    "hidden": true
   },
   "outputs": [
    {
     "data": {
      "image/png": "[encoded data removed]",
      "text/plain": [
       "<Figure size 576x360 with 1 Axes>"
      ]
     },
     "metadata": {
      "needs_background": "light"
     },
     "output_type": "display_data"
    }
   ],
   "source": [
    "plt.figure(figsize=(8, 5))\n",
    "\n",
    "ax = sns.countplot(data=df, x='idade' ,hue='politica_contra_bu')\n",
    "\n",
    "plt.title('QT. DE ALUNOS AGRUPADOS POR RESPOSTA REF POLÍTICA CONTRA BULLYING',\n",
    "               pad = 20,\n",
    "         fontsize = 13, color ='dimgrey', fontweight = 'bold')\n",
    "\n",
    "ax = sns.despine(bottom = True, left=True)\n",
    "ax = plt.xlabel('IDADE', color = 'grey', labelpad = 20, fontsize = 8)\n",
    "ax = plt.ylabel('QTDADE', color = 'grey', labelpad = 20, fontsize = 8)\n",
    "ax = plt.legend(labels=['Sim', 'Não', 'Não informado'])"
   ]
  },
  {
   "cell_type": "markdown",
   "metadata": {
    "hidden": true
   },
   "source": [
    "Quase 90% dos alunos responderam que existem políticas, regras ou normas que proíbem bullying nas dependências da escola.\n",
    "\n",
    "A maior quantidade de alunos que não responderam a pergunta se concentra nas maiores idades\n",
    "\n",
    "Alunos que reponderam \"sim\" se concentram nos 12, 13, 15 anos, seguido por 16 e 11 anos.\n",
    "\n",
    "Vale lembrar que se trata de **quantidades**, ou seja, na amostra, pode haver maior quantidade de alunos em determinadas idades, o que, logicamente, altera a visualização do gráfico.\n",
    "\n",
    "***\n",
    "\n",
    "***"
   ]
  },
  {
   "cell_type": "markdown",
   "metadata": {
    "heading_collapsed": true
   },
   "source": [
    "## MÉDIA, MEDIANA E DESVIO PADRÃO"
   ]
  },
  {
   "cell_type": "markdown",
   "metadata": {
    "hidden": true
   },
   "source": [
    "**MÉDIA**: A média é provavelmente a estatística mais conhecida e utilizada. De forma bastante resumida, concentra a posição média dos valores. É mais indicada quando os números estão distribuidos de maneira mais uniforme, uma vez que são bastante suscetíveis à outliers.\n",
    "\n",
    "**MEDIANA**: A mediana é o valor que se concentra exatamente no meio do conjunto de dados.\n",
    "\n",
    "1 . Para realizar o cálculo, caso o conjunto de dados seja ímpar, basta pegar o número que se encontra exatamente no meio.\n",
    "\n",
    "2 . Caso o conjunto de dados possuir um número par, basta calcular a média dos dois números que estiverem exatamente no meio, conforme exemplo a seguir:\n",
    "\n",
    "<img class=\"alignnone wp-image-13633\" src=\"https://blog.professorferretto.com.br/wp-content/uploads/2017/05/calculo-de-mediana-com-sequencia-par.png\" alt=\"Exemplo de cálculo da mediana com sequência de elementos par\" width=\"601\" height=\"293\">\n",
    "\n",
    "Fonte: <a href=\"https://blog.professorferretto.com.br/moda-media-e-mediana-medidas-de-tendencia-central/.\"> BLOG DO FERRETTO </a>\n",
    "\n",
    "\n",
    "\n",
    "**DESVIO PADRÃO** O desvio padrão é bastante utilizado para identificar a variabilidade. Aproximadamente, o desvio padrão será a distância média do centro, que neste caso, centro seria a média.\n",
    "\n",
    "O desvio padrão da população toda é representado pela letra grega σ. Já o desvio padrão da amostra é representado pela letra S.\n",
    "\n",
    "<img class=\"XqHOTb IGEbUc\" alt=\"\\sigma={\\sqrt {\\frac {\\sum(x_{i}-{\\mu})^{2}}{N}}}\" src=\"https://www.gstatic.com/education/formulas2/-1/en/population_standard_deviation.svg\" role=\"img\" data-atf=\"0\">"
   ]
  },
  {
   "cell_type": "markdown",
   "metadata": {
    "hidden": true
   },
   "source": [
    "### MOTIVO DO BULLYING"
   ]
  },
  {
   "cell_type": "markdown",
   "metadata": {
    "hidden": true
   },
   "source": [
    "Para exemplificar o conceito de média e mediana, serão analisados os motivos de bullying respondidos pelos alunos"
   ]
  },
  {
   "attachments": {
    "image.png": {
     "image/png": "[encoded data removed]"
    }
   },
   "cell_type": "markdown",
   "metadata": {
    "hidden": true
   },
   "source": [
    "VB07008\tNOS ÚLTIMOS 30 DIAS, qual o motivo/causa de seus colegas terem te esculachado, zombado, zoado, caçoado, mangado, intimidado ou humilhado?\n",
    "\n",
    "-1\tPulo no questionário\n",
    "1\tA minha cor ou raça\n",
    "2\tA minha religião\n",
    "3\tA aparência do meu rosto\n",
    "4\tA aparência do meu corpo\n",
    "5\tA minha orientação sexual\n",
    "6\tA minha região de origem\n",
    "7\tOutros motivos/causas\n",
    "99\tNão informado![image.png](attachment:image.png)"
   ]
  },
  {
   "cell_type": "code",
   "execution_count": 13,
   "metadata": {
    "hidden": true
   },
   "outputs": [
    {
     "data": {
      "image/png": "[encoded data removed]",
      "text/plain": [
       "<Figure size 432x288 with 1 Axes>"
      ]
     },
     "metadata": {
      "needs_background": "light"
     },
     "output_type": "display_data"
    }
   ],
   "source": [
    "# Copiando o dataframe original (evitar erros)\n",
    "a = df.copy()\n",
    "\n",
    "# Criando dicionario com as respostas\n",
    "rotulos = {-1 : 'Pulou', 1:'Cor/Raca', 2:'Religiao', 3: 'Aparencia Rosto', 4: 'Aparencia Corpo',\n",
    "          5: 'Orientacao sexual', 6: 'Região origem', 7: 'Outros', 8: 'Não informado'}\n",
    "\n",
    "# Traduzinho o dicionario\n",
    "a['motivo_bul'] = a['motivo_bul'].map(rotulos)\n",
    "\n",
    "# Plotando e configuando o gráfico\n",
    "ax = (a['motivo_bul'].value_counts()).plot(kind='bar')\n",
    "\n",
    "ax = plt.title('MOTIVOS DE BULLYING',\n",
    "               pad = 20,\n",
    "         fontsize = 13, color ='dimgrey', fontweight = 'bold')\n",
    "\n",
    "ax = sns.despine(bottom = True, left=True)\n",
    "ax = plt.xlabel('MOTIVOS', color = 'grey', labelpad = 20, fontsize = 8)\n",
    "ax = plt.ylabel('QUANTIDADE', color = 'grey', labelpad = 20, fontsize = 8)\n"
   ]
  },
  {
   "cell_type": "markdown",
   "metadata": {
    "hidden": true
   },
   "source": [
    "A grande maioria dos alunos pulam o motivo de bullying.\n",
    "\n",
    "A aparencia do corpo e do rosto são os dois principais motivos de bullying que foram possíveis identificar.\n",
    " "
   ]
  },
  {
   "cell_type": "markdown",
   "metadata": {
    "hidden": true
   },
   "source": [
    "####  BULLYING POR APARÊNCIA - MÉDIA DE IDADE"
   ]
  },
  {
   "cell_type": "code",
   "execution_count": 14,
   "metadata": {
    "hidden": true
   },
   "outputs": [],
   "source": [
    "# Criando uma variável para filtrar os dados que possuem a palavra 'aparencia' na coluna 'motiv_bul'\n",
    "b = a['motivo_bul'].str.contains('Aparencia')\n",
    "\n",
    "# Criando uma coluna na variável 'a' conforme variável 'b'\n",
    "a['aparencia'] = b"
   ]
  },
  {
   "cell_type": "code",
   "execution_count": 15,
   "metadata": {
    "hidden": true
   },
   "outputs": [
    {
     "data": {
      "text/plain": [
       "13.832506887052341"
      ]
     },
     "execution_count": 15,
     "metadata": {},
     "output_type": "execute_result"
    }
   ],
   "source": [
    "# Média de idade das crianças que sofrem bullying por conta da aparência\n",
    "media = a[a['aparencia'] == True]['idade'].mean()\n",
    "media "
   ]
  },
  {
   "cell_type": "code",
   "execution_count": 16,
   "metadata": {
    "hidden": true
   },
   "outputs": [
    {
     "data": {
      "text/plain": [
       "14.0"
      ]
     },
     "execution_count": 16,
     "metadata": {},
     "output_type": "execute_result"
    }
   ],
   "source": [
    "# Mediana de idade das crianças que sofrem bullying por conta da aparência\n",
    "mediana = a[a['aparencia'] == True]['idade'].median()\n",
    "mediana"
   ]
  },
  {
   "cell_type": "code",
   "execution_count": 17,
   "metadata": {
    "hidden": true
   },
   "outputs": [
    {
     "data": {
      "text/plain": [
       "1.9863206518330716"
      ]
     },
     "execution_count": 17,
     "metadata": {},
     "output_type": "execute_result"
    }
   ],
   "source": [
    "a[a['aparencia'] == True]['idade'].std()"
   ]
  },
  {
   "cell_type": "markdown",
   "metadata": {
    "heading_collapsed": true
   },
   "source": [
    "## HISTOGRAMA"
   ]
  },
  {
   "cell_type": "markdown",
   "metadata": {
    "hidden": true
   },
   "source": [
    "O histograma é uma forma de visualização \n",
    "\n",
    "1 . Caso os dados apresentem valores muito discrepante na parte superior do conjunto de dados, o histograma ficará distorcido para a direita. A média será maior do que a mediana.\n",
    "\n",
    "2 . Caso os dados apresentem valores muito discrepantes na parte inferior do conjunto de dados, o histograma ficará distorcido para esquerda. A média será menor do que a mediana.\n",
    "\n",
    "3 . Caso os dados sejam simétricos, representando uma normalidade, a média e a mediana terão aproximadamente o mesmo valor.\n",
    "\n",
    "<img border=\"0\" data-original-height=\"386\" data-original-width=\"549\" src=\"https://3.bp.blogspot.com/-ieYxAgEBaxU/WvSQXoLhpqI/AAAAAAAAEeM/3lSn5M_VXYgoWUz6YOGguurvX7DcORkwACEwYBhgL/s1600/assime2.JPG\">\n",
    "\n",
    "Fonte: <a href=\"http://soniavieira.blogspot.com/2018/05/por-conta-de-umapergunta-sobre-questao_83.html.\"> Sonia Vieira </a>"
   ]
  },
  {
   "cell_type": "code",
   "execution_count": 18,
   "metadata": {
    "hidden": true
   },
   "outputs": [
    {
     "data": {
      "image/png": "[encoded data removed]",
      "text/plain": [
       "<Figure size 720x360 with 1 Axes>"
      ]
     },
     "metadata": {
      "needs_background": "light"
     },
     "output_type": "display_data"
    }
   ],
   "source": [
    "plt.figure(figsize=(10,5))\n",
    "\n",
    "ax = sns.histplot(a[a['aparencia'] == True]['idade'], bins = 9, kde = True, element=\"step\")\n",
    "\n",
    "ax = plt.title('IDADE ALUNOS QUE SOFRERAM BULLYING DEVIDO APARÊNCIA',\n",
    "               pad = 20,\n",
    "         fontsize = 13, color ='dimgrey', fontweight = 'bold')\n",
    "\n",
    "ax = sns.despine(bottom = True, left=True)\n",
    "ax = plt.xlabel('IDADE', color = 'grey', labelpad = 20, fontsize = 8)\n",
    "ax = plt.ylabel('QUANTIDADE', color = 'grey', labelpad = 20, fontsize = 8)\n",
    "\n",
    "plt.axvline(x=media, linewidth=2, color='red', linestyle='--', label ='Média')\n",
    "plt.axvline(x=mediana, linewidth=2, color='orange', linestyle='--', label ='Mediana')\n",
    "\n",
    "plt.legend()\n",
    "ax;"
   ]
  },
  {
   "cell_type": "markdown",
   "metadata": {
    "heading_collapsed": true
   },
   "source": [
    "## BOX PLOT"
   ]
  },
  {
   "cell_type": "markdown",
   "metadata": {
    "hidden": true
   },
   "source": [
    "O Box Plot é um método de visualização de estatística descritiva.\n",
    "Com ele, é possível visualizar a mediana, quartis e outliers.\n",
    "\n",
    "O box plot dá uma idéia da posição, dispersão, assimetria, caudas e dados discrepantes. A posição central é dada pela mediana e a dispersão por dq. As posições relativas de q1, q2, q3 dão uma noção da assimetria da distribuição. Os comprimentos das caudas são dados pelas linhas que vão do retângulo aos valores remotos e pelos valores atípicos.\n",
    "(Bussab e Morettin, Estatística básica, Ed. Saraiva, 2010)\n",
    "\n",
    "<img alt=\"Box Plot | Simply Psychology\" src=\"https://www.simplypsychology.org/boxplot.jpg\" data-noaft=\"1\" jsname=\"HiaYvf\" jsaction=\"load:XAeZkd;\" style=\"width: 435px; height: 223.158px; \">"
   ]
  },
  {
   "cell_type": "markdown",
   "metadata": {
    "hidden": true
   },
   "source": [
    "### SENTIMENTO EM RELAÇÃO AO CORPO"
   ]
  },
  {
   "attachments": {
    "image.png": {
     "image/png": "[encoded data removed]"
    }
   },
   "cell_type": "markdown",
   "metadata": {
    "hidden": true
   },
   "source": [
    "VB11007\tComo você se sente em relação ao seu corpo?\n",
    "\n",
    "1\tMuito satisfeito(a)\n",
    "2\tSatisfeito(a)\n",
    "3\tIndiferente\n",
    "4\tInsatisfeito(a)\n",
    "5\tMuito insatisfeito(a)\n",
    "99\tNão informado![image.png](attachment:image.png)"
   ]
  },
  {
   "cell_type": "code",
   "execution_count": 19,
   "metadata": {
    "hidden": true
   },
   "outputs": [],
   "source": [
    "# Selecionando somente os alunos que sofreram bullying pela aparência do corpo\n",
    "a = df[df['motivo_bul'] == 4]\n",
    "\n",
    "# Dicionário com as respostas\n",
    "l = {1:'1 Muito satisfeito', 2:'2 Satisfeito', 3:'3 Indiferente', 4:'4 Insatisfeito', \n",
    "      5:'5 Muito insatisfeito', 99:'6 Não Informado'}\n",
    "\n",
    "# Traduzinho o dicionario\n",
    "a['sentimento_corpo'] = a['sentimento_corpo'].map(l)"
   ]
  },
  {
   "cell_type": "code",
   "execution_count": 20,
   "metadata": {
    "hidden": true
   },
   "outputs": [
    {
     "data": {
      "image/png": "[encoded data removed]",
      "text/plain": [
       "<Figure size 936x360 with 1 Axes>"
      ]
     },
     "metadata": {
      "needs_background": "light"
     },
     "output_type": "display_data"
    }
   ],
   "source": [
    "# Plot\n",
    "plt.figure(figsize=(13, 5))\n",
    "ax = sns.boxplot(data = a, x ='sentimento_corpo', y='idade', hue='sentimento_corpo', \n",
    "                 palette = 'crest', linewidth = 0.5, dodge=False, order=l.values())\n",
    "\n",
    "sns.despine(bottom = True, left=True)\n",
    "\n",
    "plt.title('BOX PLOT - SSENTIMENTO EM RELAÇÃO AO CORPO POR IDADE')\n",
    "plt.xlabel('SENTIMENTO EM RELACAO AO CORPO', color = 'grey', labelpad = 20, fontsize = 8)\n",
    "plt.ylabel('IDADE', color = 'grey', labelpad = 20, fontsize = 8)\n",
    "\n",
    "# \"Movendo\" a legenda\n",
    "plt.legend(loc=(1.03, -0.1), borderaxespad=0)\n",
    "\n",
    "ax;"
   ]
  },
  {
   "cell_type": "markdown",
   "metadata": {},
   "source": [
    "## CORRELAÇÃO E CAUSALIDADE"
   ]
  },
  {
   "cell_type": "markdown",
   "metadata": {},
   "source": [
    "Confundindo com frequência, correlação e causalidade são dois termos diferentes.\n",
    "\n",
    "**Correlação:** Observa-se se duas variáveis numéricas possuem alguma tipo de relação, ou seja, uma possível existência de ligação. Quando a variável X aumenta, a Y também aumenta (e vice-versa). Exemplo: Aumento de temperatura x consumo de sorvete - Quanto maior a temperatura, maior o consumo de cerveja.\n",
    "\n",
    "**TIPOS DE CORRELAÇÃO**\n",
    "\n",
    "<img loading=\"lazy\" data-attachment-id=\"325\" data-permalink=\"https://segredosdaestatistica.wordpress.com/semanas/semana-5-correlacoes/correlacao-2/\" data-orig-file=\"https://segredosdaestatistica.files.wordpress.com/2016/04/correlac3a7c3a3o.jpg\" data-orig-size=\"640,418\" data-comments-opened=\"1\" data-image-meta=\"{&quot;aperture&quot;:&quot;0&quot;,&quot;credit&quot;:&quot;&quot;,&quot;camera&quot;:&quot;&quot;,&quot;caption&quot;:&quot;&quot;,&quot;created_timestamp&quot;:&quot;0&quot;,&quot;copyright&quot;:&quot;&quot;,&quot;focal_length&quot;:&quot;0&quot;,&quot;iso&quot;:&quot;0&quot;,&quot;shutter_speed&quot;:&quot;0&quot;,&quot;title&quot;:&quot;&quot;,&quot;orientation&quot;:&quot;0&quot;}\" data-image-title=\"correlação\" data-image-description=\"\" data-medium-file=\"https://segredosdaestatistica.files.wordpress.com/2016/04/correlac3a7c3a3o.jpg?w=300\" data-large-file=\"https://segredosdaestatistica.files.wordpress.com/2016/04/correlac3a7c3a3o.jpg?w=593\" class=\"alignnone size-full wp-image-325\" src=\"https://segredosdaestatistica.files.wordpress.com/2016/04/correlac3a7c3a3o.jpg?w=593&amp;h=387\" alt=\"correlação\" width=\"593\" height=\"387\" srcset=\"https://segredosdaestatistica.files.wordpress.com/2016/04/correlac3a7c3a3o.jpg?w=593&amp;h=387 593w, https://segredosdaestatistica.files.wordpress.com/2016/04/correlac3a7c3a3o.jpg?w=150&amp;h=98 150w, https://segredosdaestatistica.files.wordpress.com/2016/04/correlac3a7c3a3o.jpg?w=300&amp;h=196 300w, https://segredosdaestatistica.files.wordpress.com/2016/04/correlac3a7c3a3o.jpg 640w\" sizes=\"(max-width: 593px) 100vw, 593px\">\n",
    "\n",
    "Fonte: <a href=\"https://segredosdaestatistica.wordpress.com/semanas/semana-5-correlacoes/\"> Segredos da Estatística </a>\n",
    "\n",
    "***\n",
    "\n",
    "**Interpretando os gráficos de dispersão**\n",
    "- Se os dados formarem uma linha ascendente, conforme você se movimenta da esquerda para a direita, isso indica a existência de uma relação linear (ou proporcional) positiva. Conforme x aumenta (movendo-se uma unidade para a direita), y aumenta (movendo-se para cima) um determinado valor.\n",
    "\n",
    "\n",
    "- Se os dados formarem uma linha descendente conforme você se movimenta da esquerda para a direita, isso indica a existência de uma relação relação linear (ou proporcional) negativa. Significa que conforme x aumenta (movimentando-se uma unidade para a direita), y diminui (movimentando-se para baixo) uma determinada quantia.\n",
    "\n",
    "- Se os dados não se parecerem com nenhum tipo de linha (nem mesmo vagamente), isso indica que não existe nenhum tipo de relação linear entre as variáveis.\n",
    "\n",
    "Rumsey, Deborah. Estatística Para Leigos (p. 469). Alta Books. Edição do Kindle. \n",
    "\n",
    "***\n",
    "\n",
    "O exemplo bastante claro e até \"engraçado\" é a relação entre a temperatura do ambiente e a quantidade de cricrilar dos grilos. A proposta é que você deve contar a quantidade de vezes que um grilo cricila por 15 seg, somar 40 e saberá a temperatura do ambiente. (Lembre-se de converter para graus Celsius)\n",
    "<br>\n",
    "<br>\n",
    "<img loading=\"lazy\" data-attachment-id=\"23157\" data-permalink=\"https://wohaliterapias.wordpress.com/grilo-verde/\" data-orig-file=\"https://wohaliterapias.files.wordpress.com/2020/01/grilo-verde.jpg\" data-orig-size=\"400,300\" data-comments-opened=\"1\" data-image-meta=\"{&quot;aperture&quot;:&quot;0&quot;,&quot;credit&quot;:&quot;&quot;,&quot;camera&quot;:&quot;&quot;,&quot;caption&quot;:&quot;&quot;,&quot;created_timestamp&quot;:&quot;0&quot;,&quot;copyright&quot;:&quot;&quot;,&quot;focal_length&quot;:&quot;0&quot;,&quot;iso&quot;:&quot;0&quot;,&quot;shutter_speed&quot;:&quot;0&quot;,&quot;title&quot;:&quot;&quot;,&quot;orientation&quot;:&quot;0&quot;}\" data-image-title=\"grilo-verde\" data-image-description=\"\" data-medium-file=\"https://wohaliterapias.files.wordpress.com/2020/01/grilo-verde.jpg?w=300\" data-large-file=\"https://wohaliterapias.files.wordpress.com/2020/01/grilo-verde.jpg?w=400\" src=\"https://wohaliterapias.files.wordpress.com/2020/01/grilo-verde.jpg?w=400\" alt=\"\" class=\"wp-image-23157\" width=\"400\" height=\"300\" srcset=\"https://wohaliterapias.files.wordpress.com/2020/01/grilo-verde.jpg 400w, https://wohaliterapias.files.wordpress.com/2020/01/grilo-verde.jpg?w=150 100w, https://wohaliterapias.files.wordpress.com/2020/01/grilo-verde.jpg?w=300 200w\" sizes=\"(max-width: 600px) 100vw, 600px\">\n",
    "\n",
    "Neste exemplo, parece existir uma relação linear positiva entre o número de vezes que um grilo crica e a temperatura externa. Ou seja, quanto mais o grilo cricrilar, maior é a temperatura. Rumsey, Deborah. Estatística Para Leigos (p. 469). Alta Books. Edição do Kindle. \n",
    "\n",
    "Você pode saber clicando aqui: <a href=\"https://www.tecmundo.com.br/ciencia/18444-voce-pode-medir-a-temperatura-de-um-ambiente-ouvindo-os-grilos-la-fora.htm\"> Você pode medir a temperatura de um ambiente ouvindo os grilos lá fora </a>\n",
    "\n",
    "\n",
    "***\n",
    "\n",
    "**Causalidade:** Diferentemente da correlação, causalidade se trata da relação entre um evento A e um evento B, ou seja, quando ocorrer o A, o evento B será impactado.\n",
    "\n",
    "Para entender a diferença entre correlação e causalidade de forma clara, tomando como exemplo a grilo e a temperatura. Trata-se de uma correlação, como foi falado. Não pode ser considerado uma causalidade, uma vez que não é porquê o grilo crica que a temperatura se eleva. A variação de temperatura tem outras origens que não estão relacionadas aos grilos."
   ]
  },
  {
   "cell_type": "markdown",
   "metadata": {},
   "source": [
    "### ANALISANDO A CORRELAÇÃO"
   ]
  },
  {
   "cell_type": "markdown",
   "metadata": {},
   "source": [
    "Dando continuidade na análise e observar a correlação entre as variáveis, primeiramente, serão selecionadas as variáveis alvo.\n",
    "\n",
    "O objetivo é entender o comportamento dos alunos que sofrem bullying devido a aparência do corpo (primeiro motivo identificado na pesquisa - 1 pulou e 2 classificado como 'outros'), assim, serão consideradas as colunas:\n",
    "\n",
    "- amigos_trataram_bem e amigos_trataram_mal\n",
    "\n",
    "- sentido_sozinho\n",
    "\n",
    "- sem_dormir\n",
    "\n",
    "- qt_amigos\n",
    "\n",
    "- imagem_corporal\n",
    "\n",
    "- sentimento_corpo\n",
    "\n",
    "- fazendo_corpo\n",
    "\n",
    "- remedio_perder_peso\n",
    "\n",
    "- remedio_perder_peso_sem_medico\n",
    "\n",
    "- remedio_ganhar_peso"
   ]
  },
  {
   "cell_type": "code",
   "execution_count": 21,
   "metadata": {},
   "outputs": [],
   "source": [
    "# colunas selecionadas\n",
    "c = ['motivo_bul','amigos_trataram_bem', 'amigos_trataram_mal', 'sentido_sozinho','sem_dormir', 'qt_amigos', \n",
    "     'imagem_corporal', 'sentimento_corpo', 'corpo', 'fazendo_corpo', 'remedio_perder_peso', \n",
    "     'remedio_perder_peso_sem_medico', 'remedio_ganhar_peso']\n",
    "\n",
    "# 'Filtrando' o dataframe com as colunas selecionadas\n",
    "c = df[c]\n",
    "\n",
    "# Selecionando somente os alunos que sofreram bullyng devido a aparência do corpo\n",
    "c = c[c['motivo_bul'] == 4]"
   ]
  },
  {
   "cell_type": "code",
   "execution_count": 22,
   "metadata": {},
   "outputs": [
    {
     "data": {
      "text/html": [
       "<div>\n",
       "<style scoped>\n",
       "    .dataframe tbody tr th:only-of-type {\n",
       "        vertical-align: middle;\n",
       "    }\n",
       "\n",
       "    .dataframe tbody tr th {\n",
       "        vertical-align: top;\n",
       "    }\n",
       "\n",
       "    .dataframe thead th {\n",
       "        text-align: right;\n",
       "    }\n",
       "</style>\n",
       "<table border=\"1\" class=\"dataframe\">\n",
       "  <thead>\n",
       "    <tr style=\"text-align: right;\">\n",
       "      <th></th>\n",
       "      <th>motivo_bul</th>\n",
       "      <th>amigos_trataram_bem</th>\n",
       "      <th>amigos_trataram_mal</th>\n",
       "      <th>sentido_sozinho</th>\n",
       "      <th>sem_dormir</th>\n",
       "      <th>qt_amigos</th>\n",
       "      <th>imagem_corporal</th>\n",
       "      <th>sentimento_corpo</th>\n",
       "      <th>corpo</th>\n",
       "      <th>fazendo_corpo</th>\n",
       "      <th>remedio_perder_peso</th>\n",
       "      <th>remedio_perder_peso_sem_medico</th>\n",
       "      <th>remedio_ganhar_peso</th>\n",
       "    </tr>\n",
       "  </thead>\n",
       "  <tbody>\n",
       "    <tr>\n",
       "      <th>1</th>\n",
       "      <td></td>\n",
       "      <td>80</td>\n",
       "      <td></td>\n",
       "      <td>267</td>\n",
       "      <td>276</td>\n",
       "      <td>49</td>\n",
       "      <td>401</td>\n",
       "      <td>140</td>\n",
       "      <td>120</td>\n",
       "      <td>278</td>\n",
       "      <td>128</td>\n",
       "      <td>105</td>\n",
       "      <td>90</td>\n",
       "    </tr>\n",
       "    <tr>\n",
       "      <th>2</th>\n",
       "      <td></td>\n",
       "      <td>173</td>\n",
       "      <td>459</td>\n",
       "      <td>214</td>\n",
       "      <td>304</td>\n",
       "      <td>91</td>\n",
       "      <td>468</td>\n",
       "      <td>283</td>\n",
       "      <td>173</td>\n",
       "      <td>551</td>\n",
       "      <td>979</td>\n",
       "      <td>998</td>\n",
       "      <td>1013</td>\n",
       "    </tr>\n",
       "    <tr>\n",
       "      <th>3</th>\n",
       "      <td></td>\n",
       "      <td>317</td>\n",
       "      <td>405</td>\n",
       "      <td>342</td>\n",
       "      <td>330</td>\n",
       "      <td>184</td>\n",
       "      <td>162</td>\n",
       "      <td>194</td>\n",
       "      <td>239</td>\n",
       "      <td>214</td>\n",
       "      <td></td>\n",
       "      <td></td>\n",
       "      <td></td>\n",
       "    </tr>\n",
       "    <tr>\n",
       "      <th>4</th>\n",
       "      <td>1110</td>\n",
       "      <td>317</td>\n",
       "      <td>135</td>\n",
       "      <td>182</td>\n",
       "      <td>146</td>\n",
       "      <td>786</td>\n",
       "      <td>77</td>\n",
       "      <td>329</td>\n",
       "      <td>449</td>\n",
       "      <td>63</td>\n",
       "      <td></td>\n",
       "      <td></td>\n",
       "      <td></td>\n",
       "    </tr>\n",
       "    <tr>\n",
       "      <th>5</th>\n",
       "      <td></td>\n",
       "      <td>221</td>\n",
       "      <td>111</td>\n",
       "      <td>105</td>\n",
       "      <td>54</td>\n",
       "      <td></td>\n",
       "      <td></td>\n",
       "      <td>160</td>\n",
       "      <td>128</td>\n",
       "      <td></td>\n",
       "      <td></td>\n",
       "      <td></td>\n",
       "      <td></td>\n",
       "    </tr>\n",
       "    <tr>\n",
       "      <th>99</th>\n",
       "      <td></td>\n",
       "      <td>2</td>\n",
       "      <td></td>\n",
       "      <td></td>\n",
       "      <td></td>\n",
       "      <td></td>\n",
       "      <td>2</td>\n",
       "      <td>4</td>\n",
       "      <td>1</td>\n",
       "      <td>4</td>\n",
       "      <td>3</td>\n",
       "      <td>7</td>\n",
       "      <td>7</td>\n",
       "    </tr>\n",
       "  </tbody>\n",
       "</table>\n",
       "</div>"
      ],
      "text/plain": [
       "   motivo_bul  amigos_trataram_bem amigos_trataram_mal sentido_sozinho  \\\n",
       "1                               80                                 267   \n",
       "2                              173                 459             214   \n",
       "3                              317                 405             342   \n",
       "4        1110                  317                 135             182   \n",
       "5                              221                 111             105   \n",
       "99                               2                                       \n",
       "\n",
       "   sem_dormir qt_amigos imagem_corporal  sentimento_corpo  corpo  \\\n",
       "1         276        49             401               140    120   \n",
       "2         304        91             468               283    173   \n",
       "3         330       184             162               194    239   \n",
       "4         146       786              77               329    449   \n",
       "5          54                                         160    128   \n",
       "99                                    2                 4      1   \n",
       "\n",
       "   fazendo_corpo remedio_perder_peso remedio_perder_peso_sem_medico  \\\n",
       "1            278                 128                            105   \n",
       "2            551                 979                            998   \n",
       "3            214                                                      \n",
       "4             63                                                      \n",
       "5                                                                     \n",
       "99             4                   3                              7   \n",
       "\n",
       "   remedio_ganhar_peso  \n",
       "1                   90  \n",
       "2                 1013  \n",
       "3                       \n",
       "4                       \n",
       "5                       \n",
       "99                   7  "
      ]
     },
     "execution_count": 22,
     "metadata": {},
     "output_type": "execute_result"
    }
   ],
   "source": [
    "# Visualizando se as respostas são ordinais (é possível classificá-las? ex: meses do ano) \n",
    "tabela = c.copy()\n",
    "\n",
    "# Contando e agrupando\n",
    "tabela = tabela.apply(pd.Series.value_counts)\n",
    "\n",
    "# Alterando o tipo de dado para object e os valores nuloes (nan) para a palavra 'None'\n",
    "tabela = tabela.astype(object).replace(np.nan, 'None')\n",
    "\n",
    "# Substituindo a palavra 'None' para vazio (a fim de facilitar a visualização)\n",
    "tabela = tabela.replace('None', '')\n",
    "\n",
    "tabela"
   ]
  },
  {
   "attachments": {
    "image.png": {
     "image/png": "[encoded data removed]"
    }
   },
   "cell_type": "markdown",
   "metadata": {},
   "source": [
    "**ATENÇÃO**\n",
    "\n",
    "Conforme dicionário de dados, foram analisadas as respostas para identificar quais poderiam ser consideradas ordinais.\n",
    "\n",
    "Exemplo:\n",
    "\n",
    "VB07007\tNos últimos 30 dias, com que frequência algum dos seus colegas de escola te esculacharam, zoaram, mangaram, intimidaram ou caçoaram tanto que você ficou magoado, incomodado, aborrecido, ofendido ou humilhado?\n",
    "1\tNunca\n",
    "2\tRaramente\n",
    "3\tÀs vezes\n",
    "4\tNa maior parte do tempo\n",
    "5\tSempre![image.png](attachment:image.png)\n",
    "\n",
    "Entende-se que quanto maior for o número de resposta, pior. Ou seja, considerando que a pergunta se refere a quantas vezes o aluno foi esculachado/zoado/humilhado, etc., a resposta 1 (que seria nunca) é melhor do que a 5 (que é sempre).\n",
    "\n",
    "Assim, analisando todas as outras variáveis, foram selecionadas novamente as variáveis onde as respostas podem ser classificadas da mesma forma."
   ]
  },
  {
   "cell_type": "code",
   "execution_count": 24,
   "metadata": {},
   "outputs": [
    {
     "data": {
      "text/plain": [
       "4    329\n",
       "2    283\n",
       "3    194\n",
       "5    160\n",
       "1    140\n",
       "Name: sentimento_corpo, dtype: int64"
      ]
     },
     "execution_count": 24,
     "metadata": {},
     "output_type": "execute_result"
    }
   ],
   "source": [
    "# Selecionando as variáveis\n",
    "var = c[['amigos_trataram_mal', 'sentido_sozinho', 'sem_dormir', 'sentimento_corpo']] \n",
    "\n",
    "# Verificando que existem respostas com 99, o que pode distorcer os resultados. Estas resposta (apenas 4) serão\n",
    "# excluidas do dataframe\n",
    "# Selecionando os índices que possuem resposta 99\n",
    "r = var[var['sentimento_corpo'] == 99].index\n",
    "\n",
    "# Excluindo os indices (variável r)\n",
    "var.drop(r, axis=0, inplace = True)\n",
    "\n",
    "# Verificando se está correto\n",
    "var['sentimento_corpo'].value_counts()"
   ]
  },
  {
   "cell_type": "markdown",
   "metadata": {},
   "source": [
    "### COEFICIENTE DE CORRELAÇÃO"
   ]
  },
  {
   "cell_type": "code",
   "execution_count": 59,
   "metadata": {},
   "outputs": [
    {
     "data": {
      "text/plain": [
       "<AxesSubplot:>"
      ]
     },
     "execution_count": 59,
     "metadata": {},
     "output_type": "execute_result"
    },
    {
     "data": {
      "image/png": "[encoded data removed]",
      "text/plain": [
       "<Figure size 576x360 with 2 Axes>"
      ]
     },
     "metadata": {
      "needs_background": "light"
     },
     "output_type": "display_data"
    }
   ],
   "source": [
    "# Plotando a matiz de correlação\n",
    "correlacao = var.corr()\n",
    "\n",
    "mask = np.triu(np.ones_like(correlacao, dtype=bool))\n",
    "\n",
    "plt.figure(figsize=(8,5))\n",
    "sns.heatmap(correlacao, annot=True, square = True, mask = mask, cmap = 'Blues')"
   ]
  },
  {
   "cell_type": "code",
   "execution_count": 70,
   "metadata": {},
   "outputs": [
    {
     "data": {
      "text/plain": [
       "Text(0, 0.5, 'DIFICULDADES PARA DORMIR')"
      ]
     },
     "execution_count": 70,
     "metadata": {},
     "output_type": "execute_result"
    },
    {
     "data": {
      "image/png": "[encoded data removed]",
      "text/plain": [
       "<Figure size 1440x864 with 2 Axes>"
      ]
     },
     "metadata": {
      "needs_background": "light"
     },
     "output_type": "display_data"
    }
   ],
   "source": [
    "plt.figure(figsize=(20, 12))\n",
    "\n",
    "ax = plt.subplot(2, 2, 1)\n",
    "ax = sns.regplot(data =var, x='sentido_sozinho', y='sem_dormir', truncate=False, marker='')\n",
    "\n",
    "sns.despine(bottom = True, left=True)\n",
    "\n",
    "plt.title('RETA DE REGRESSÃO: ALUNOS COM DIFICULDADE PARA DORMIR x SENTIDO SOZINHO')\n",
    "plt.xlabel('SE SENTINDO SOZINHO', color = 'grey', labelpad = 20, fontsize = 8)\n",
    "plt.ylabel('DIFICULDADES PARA DORMIR', color = 'grey', labelpad = 20, fontsize = 8)\n",
    "\n",
    "####\n",
    "\n",
    "ax2 = plt.subplot(2,2,2)\n",
    "ax2 = sns.regplot(data =var, x='amigos_trataram_mal', y='sem_dormir', truncate=False, marker='')\n",
    "\n",
    "sns.despine(bottom = True, left=True)\n",
    "\n",
    "plt.title('ALUNOS COM DIFICULDADE PARA DORMIR x TRATAMENTO DE AMIGOS')\n",
    "plt.xlabel('AMIGOS TRATAM MAL', color = 'grey', labelpad = 20, fontsize = 8)\n",
    "plt.ylabel('DIFICULDADES PARA DORMIR', color = 'grey', labelpad = 20, fontsize = 8)\n"
   ]
  },
  {
   "cell_type": "code",
   "execution_count": null,
   "metadata": {},
   "outputs": [],
   "source": []
  }
 ],
 "metadata": {
  "kernelspec": {
   "display_name": "Python 3",
   "language": "python",
   "name": "python3"
  },
  "language_info": {
   "codemirror_mode": {
    "name": "ipython",
    "version": 3
   },
   "file_extension": ".py",
   "mimetype": "text/x-python",
   "name": "python",
   "nbconvert_exporter": "python",
   "pygments_lexer": "ipython3",
   "version": "3.7.6"
  },
  "toc": {
   "base_numbering": 1,
   "nav_menu": {},
   "number_sections": true,
   "sideBar": true,
   "skip_h1_title": false,
   "title_cell": "Table of Contents",
   "title_sidebar": "Contents",
   "toc_cell": false,
   "toc_position": {},
   "toc_section_display": true,
   "toc_window_display": false
  }
 },
 "nbformat": 4,
 "nbformat_minor": 4
}
