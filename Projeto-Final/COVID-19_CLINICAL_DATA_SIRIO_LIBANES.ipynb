{
 "cells": [
  {
   "cell_type": "markdown",
   "metadata": {},
   "source": [
    "# LIB'S"
   ]
  },
  {
   "cell_type": "code",
   "execution_count": 221,
   "metadata": {},
   "outputs": [],
   "source": [
    "import           pandas           as pd\n",
    "import           kaggle           as kg\n",
    "import           numpy            as np\n",
    "import           seaborn          as sns\n",
    "\n",
    "import matplotlib.pyplot          as plt\n",
    "\n",
    "from sklearn.preprocessing import MinMaxScaler\n",
    "from sklearn import preprocessing\n",
    "\n",
    "import warnings\n",
    "warnings.filterwarnings('ignore')"
   ]
  },
  {
   "cell_type": "markdown",
   "metadata": {},
   "source": [
    "# HELPER FUNCTIONS"
   ]
  },
  {
   "cell_type": "code",
   "execution_count": 151,
   "metadata": {},
   "outputs": [],
   "source": [
    "#plot graficos\n",
    "def plotar_barplot (titulo, labelx, labely, dataset):\n",
    "    plt.figure(figsize=(16, 4))\n",
    "    ax = sns.barplot(data = dataset, color = 'steelblue')\n",
    "    sns.despine(bottom=True, left=True)\n",
    "    ax.set_title(titulo, fontsize=16, color = 'dimgrey', pad = 20)\n",
    "    ax.set_xlabel(labelx, fontsize = 12, color = 'grey', labelpad = 20)\n",
    "    ax.set_ylabel(labely, fontsize = 12, color = 'grey', labelpad = 20)\n",
    "    ax = ax"
   ]
  },
  {
   "cell_type": "markdown",
   "metadata": {},
   "source": [
    "# DATASET'S"
   ]
  },
  {
   "cell_type": "code",
   "execution_count": 2,
   "metadata": {},
   "outputs": [
    {
     "data": {
      "text/html": [
       "<div>\n",
       "<style scoped>\n",
       "    .dataframe tbody tr th:only-of-type {\n",
       "        vertical-align: middle;\n",
       "    }\n",
       "\n",
       "    .dataframe tbody tr th {\n",
       "        vertical-align: top;\n",
       "    }\n",
       "\n",
       "    .dataframe thead th {\n",
       "        text-align: right;\n",
       "    }\n",
       "</style>\n",
       "<table border=\"1\" class=\"dataframe\">\n",
       "  <thead>\n",
       "    <tr style=\"text-align: right;\">\n",
       "      <th></th>\n",
       "      <th>PATIENT_VISIT_IDENTIFIER</th>\n",
       "      <th>AGE_ABOVE65</th>\n",
       "      <th>AGE_PERCENTIL</th>\n",
       "      <th>GENDER</th>\n",
       "      <th>DISEASE GROUPING 1</th>\n",
       "      <th>DISEASE GROUPING 2</th>\n",
       "      <th>DISEASE GROUPING 3</th>\n",
       "      <th>DISEASE GROUPING 4</th>\n",
       "      <th>DISEASE GROUPING 5</th>\n",
       "      <th>DISEASE GROUPING 6</th>\n",
       "      <th>...</th>\n",
       "      <th>TEMPERATURE_DIFF</th>\n",
       "      <th>OXYGEN_SATURATION_DIFF</th>\n",
       "      <th>BLOODPRESSURE_DIASTOLIC_DIFF_REL</th>\n",
       "      <th>BLOODPRESSURE_SISTOLIC_DIFF_REL</th>\n",
       "      <th>HEART_RATE_DIFF_REL</th>\n",
       "      <th>RESPIRATORY_RATE_DIFF_REL</th>\n",
       "      <th>TEMPERATURE_DIFF_REL</th>\n",
       "      <th>OXYGEN_SATURATION_DIFF_REL</th>\n",
       "      <th>WINDOW</th>\n",
       "      <th>ICU</th>\n",
       "    </tr>\n",
       "  </thead>\n",
       "  <tbody>\n",
       "    <tr>\n",
       "      <th>0</th>\n",
       "      <td>0</td>\n",
       "      <td>1</td>\n",
       "      <td>60th</td>\n",
       "      <td>0</td>\n",
       "      <td>0.0</td>\n",
       "      <td>0.0</td>\n",
       "      <td>0.0</td>\n",
       "      <td>0.0</td>\n",
       "      <td>1.0</td>\n",
       "      <td>1.0</td>\n",
       "      <td>...</td>\n",
       "      <td>-1.000000</td>\n",
       "      <td>-1.000000</td>\n",
       "      <td>-1.000000</td>\n",
       "      <td>-1.000000</td>\n",
       "      <td>-1.000000</td>\n",
       "      <td>-1.000000</td>\n",
       "      <td>-1.000000</td>\n",
       "      <td>-1.000000</td>\n",
       "      <td>0-2</td>\n",
       "      <td>0</td>\n",
       "    </tr>\n",
       "    <tr>\n",
       "      <th>1</th>\n",
       "      <td>0</td>\n",
       "      <td>1</td>\n",
       "      <td>60th</td>\n",
       "      <td>0</td>\n",
       "      <td>0.0</td>\n",
       "      <td>0.0</td>\n",
       "      <td>0.0</td>\n",
       "      <td>0.0</td>\n",
       "      <td>1.0</td>\n",
       "      <td>1.0</td>\n",
       "      <td>...</td>\n",
       "      <td>-1.000000</td>\n",
       "      <td>-1.000000</td>\n",
       "      <td>-1.000000</td>\n",
       "      <td>-1.000000</td>\n",
       "      <td>-1.000000</td>\n",
       "      <td>-1.000000</td>\n",
       "      <td>-1.000000</td>\n",
       "      <td>-1.000000</td>\n",
       "      <td>2-4</td>\n",
       "      <td>0</td>\n",
       "    </tr>\n",
       "    <tr>\n",
       "      <th>2</th>\n",
       "      <td>0</td>\n",
       "      <td>1</td>\n",
       "      <td>60th</td>\n",
       "      <td>0</td>\n",
       "      <td>0.0</td>\n",
       "      <td>0.0</td>\n",
       "      <td>0.0</td>\n",
       "      <td>0.0</td>\n",
       "      <td>1.0</td>\n",
       "      <td>1.0</td>\n",
       "      <td>...</td>\n",
       "      <td>NaN</td>\n",
       "      <td>NaN</td>\n",
       "      <td>NaN</td>\n",
       "      <td>NaN</td>\n",
       "      <td>NaN</td>\n",
       "      <td>NaN</td>\n",
       "      <td>NaN</td>\n",
       "      <td>NaN</td>\n",
       "      <td>4-6</td>\n",
       "      <td>0</td>\n",
       "    </tr>\n",
       "    <tr>\n",
       "      <th>3</th>\n",
       "      <td>0</td>\n",
       "      <td>1</td>\n",
       "      <td>60th</td>\n",
       "      <td>0</td>\n",
       "      <td>0.0</td>\n",
       "      <td>0.0</td>\n",
       "      <td>0.0</td>\n",
       "      <td>0.0</td>\n",
       "      <td>1.0</td>\n",
       "      <td>1.0</td>\n",
       "      <td>...</td>\n",
       "      <td>-1.000000</td>\n",
       "      <td>-1.000000</td>\n",
       "      <td>NaN</td>\n",
       "      <td>NaN</td>\n",
       "      <td>NaN</td>\n",
       "      <td>NaN</td>\n",
       "      <td>-1.000000</td>\n",
       "      <td>-1.000000</td>\n",
       "      <td>6-12</td>\n",
       "      <td>0</td>\n",
       "    </tr>\n",
       "    <tr>\n",
       "      <th>4</th>\n",
       "      <td>0</td>\n",
       "      <td>1</td>\n",
       "      <td>60th</td>\n",
       "      <td>0</td>\n",
       "      <td>0.0</td>\n",
       "      <td>0.0</td>\n",
       "      <td>0.0</td>\n",
       "      <td>0.0</td>\n",
       "      <td>1.0</td>\n",
       "      <td>1.0</td>\n",
       "      <td>...</td>\n",
       "      <td>-0.238095</td>\n",
       "      <td>-0.818182</td>\n",
       "      <td>-0.389967</td>\n",
       "      <td>0.407558</td>\n",
       "      <td>-0.230462</td>\n",
       "      <td>0.096774</td>\n",
       "      <td>-0.242282</td>\n",
       "      <td>-0.814433</td>\n",
       "      <td>ABOVE_12</td>\n",
       "      <td>1</td>\n",
       "    </tr>\n",
       "    <tr>\n",
       "      <th>...</th>\n",
       "      <td>...</td>\n",
       "      <td>...</td>\n",
       "      <td>...</td>\n",
       "      <td>...</td>\n",
       "      <td>...</td>\n",
       "      <td>...</td>\n",
       "      <td>...</td>\n",
       "      <td>...</td>\n",
       "      <td>...</td>\n",
       "      <td>...</td>\n",
       "      <td>...</td>\n",
       "      <td>...</td>\n",
       "      <td>...</td>\n",
       "      <td>...</td>\n",
       "      <td>...</td>\n",
       "      <td>...</td>\n",
       "      <td>...</td>\n",
       "      <td>...</td>\n",
       "      <td>...</td>\n",
       "      <td>...</td>\n",
       "      <td>...</td>\n",
       "    </tr>\n",
       "    <tr>\n",
       "      <th>1920</th>\n",
       "      <td>384</td>\n",
       "      <td>0</td>\n",
       "      <td>50th</td>\n",
       "      <td>1</td>\n",
       "      <td>0.0</td>\n",
       "      <td>0.0</td>\n",
       "      <td>0.0</td>\n",
       "      <td>0.0</td>\n",
       "      <td>0.0</td>\n",
       "      <td>0.0</td>\n",
       "      <td>...</td>\n",
       "      <td>-1.000000</td>\n",
       "      <td>-1.000000</td>\n",
       "      <td>-1.000000</td>\n",
       "      <td>-1.000000</td>\n",
       "      <td>-1.000000</td>\n",
       "      <td>-1.000000</td>\n",
       "      <td>-1.000000</td>\n",
       "      <td>-1.000000</td>\n",
       "      <td>0-2</td>\n",
       "      <td>0</td>\n",
       "    </tr>\n",
       "    <tr>\n",
       "      <th>1921</th>\n",
       "      <td>384</td>\n",
       "      <td>0</td>\n",
       "      <td>50th</td>\n",
       "      <td>1</td>\n",
       "      <td>0.0</td>\n",
       "      <td>0.0</td>\n",
       "      <td>0.0</td>\n",
       "      <td>0.0</td>\n",
       "      <td>0.0</td>\n",
       "      <td>0.0</td>\n",
       "      <td>...</td>\n",
       "      <td>-1.000000</td>\n",
       "      <td>-1.000000</td>\n",
       "      <td>-1.000000</td>\n",
       "      <td>-1.000000</td>\n",
       "      <td>-1.000000</td>\n",
       "      <td>-1.000000</td>\n",
       "      <td>-1.000000</td>\n",
       "      <td>-1.000000</td>\n",
       "      <td>2-4</td>\n",
       "      <td>0</td>\n",
       "    </tr>\n",
       "    <tr>\n",
       "      <th>1922</th>\n",
       "      <td>384</td>\n",
       "      <td>0</td>\n",
       "      <td>50th</td>\n",
       "      <td>1</td>\n",
       "      <td>0.0</td>\n",
       "      <td>0.0</td>\n",
       "      <td>0.0</td>\n",
       "      <td>0.0</td>\n",
       "      <td>0.0</td>\n",
       "      <td>0.0</td>\n",
       "      <td>...</td>\n",
       "      <td>-1.000000</td>\n",
       "      <td>-1.000000</td>\n",
       "      <td>-1.000000</td>\n",
       "      <td>-1.000000</td>\n",
       "      <td>-1.000000</td>\n",
       "      <td>-1.000000</td>\n",
       "      <td>-1.000000</td>\n",
       "      <td>-1.000000</td>\n",
       "      <td>4-6</td>\n",
       "      <td>0</td>\n",
       "    </tr>\n",
       "    <tr>\n",
       "      <th>1923</th>\n",
       "      <td>384</td>\n",
       "      <td>0</td>\n",
       "      <td>50th</td>\n",
       "      <td>1</td>\n",
       "      <td>0.0</td>\n",
       "      <td>0.0</td>\n",
       "      <td>0.0</td>\n",
       "      <td>0.0</td>\n",
       "      <td>0.0</td>\n",
       "      <td>0.0</td>\n",
       "      <td>...</td>\n",
       "      <td>-1.000000</td>\n",
       "      <td>-1.000000</td>\n",
       "      <td>-1.000000</td>\n",
       "      <td>-1.000000</td>\n",
       "      <td>-1.000000</td>\n",
       "      <td>-1.000000</td>\n",
       "      <td>-1.000000</td>\n",
       "      <td>-1.000000</td>\n",
       "      <td>6-12</td>\n",
       "      <td>0</td>\n",
       "    </tr>\n",
       "    <tr>\n",
       "      <th>1924</th>\n",
       "      <td>384</td>\n",
       "      <td>0</td>\n",
       "      <td>50th</td>\n",
       "      <td>1</td>\n",
       "      <td>0.0</td>\n",
       "      <td>0.0</td>\n",
       "      <td>1.0</td>\n",
       "      <td>0.0</td>\n",
       "      <td>0.0</td>\n",
       "      <td>0.0</td>\n",
       "      <td>...</td>\n",
       "      <td>-0.547619</td>\n",
       "      <td>-0.838384</td>\n",
       "      <td>-0.701863</td>\n",
       "      <td>-0.585967</td>\n",
       "      <td>-0.763868</td>\n",
       "      <td>-0.612903</td>\n",
       "      <td>-0.551337</td>\n",
       "      <td>-0.835052</td>\n",
       "      <td>ABOVE_12</td>\n",
       "      <td>0</td>\n",
       "    </tr>\n",
       "  </tbody>\n",
       "</table>\n",
       "<p>1925 rows × 231 columns</p>\n",
       "</div>"
      ],
      "text/plain": [
       "      PATIENT_VISIT_IDENTIFIER  AGE_ABOVE65 AGE_PERCENTIL  GENDER  \\\n",
       "0                            0            1          60th       0   \n",
       "1                            0            1          60th       0   \n",
       "2                            0            1          60th       0   \n",
       "3                            0            1          60th       0   \n",
       "4                            0            1          60th       0   \n",
       "...                        ...          ...           ...     ...   \n",
       "1920                       384            0          50th       1   \n",
       "1921                       384            0          50th       1   \n",
       "1922                       384            0          50th       1   \n",
       "1923                       384            0          50th       1   \n",
       "1924                       384            0          50th       1   \n",
       "\n",
       "      DISEASE GROUPING 1  DISEASE GROUPING 2  DISEASE GROUPING 3  \\\n",
       "0                    0.0                 0.0                 0.0   \n",
       "1                    0.0                 0.0                 0.0   \n",
       "2                    0.0                 0.0                 0.0   \n",
       "3                    0.0                 0.0                 0.0   \n",
       "4                    0.0                 0.0                 0.0   \n",
       "...                  ...                 ...                 ...   \n",
       "1920                 0.0                 0.0                 0.0   \n",
       "1921                 0.0                 0.0                 0.0   \n",
       "1922                 0.0                 0.0                 0.0   \n",
       "1923                 0.0                 0.0                 0.0   \n",
       "1924                 0.0                 0.0                 1.0   \n",
       "\n",
       "      DISEASE GROUPING 4  DISEASE GROUPING 5  DISEASE GROUPING 6  ...  \\\n",
       "0                    0.0                 1.0                 1.0  ...   \n",
       "1                    0.0                 1.0                 1.0  ...   \n",
       "2                    0.0                 1.0                 1.0  ...   \n",
       "3                    0.0                 1.0                 1.0  ...   \n",
       "4                    0.0                 1.0                 1.0  ...   \n",
       "...                  ...                 ...                 ...  ...   \n",
       "1920                 0.0                 0.0                 0.0  ...   \n",
       "1921                 0.0                 0.0                 0.0  ...   \n",
       "1922                 0.0                 0.0                 0.0  ...   \n",
       "1923                 0.0                 0.0                 0.0  ...   \n",
       "1924                 0.0                 0.0                 0.0  ...   \n",
       "\n",
       "      TEMPERATURE_DIFF  OXYGEN_SATURATION_DIFF  \\\n",
       "0            -1.000000               -1.000000   \n",
       "1            -1.000000               -1.000000   \n",
       "2                  NaN                     NaN   \n",
       "3            -1.000000               -1.000000   \n",
       "4            -0.238095               -0.818182   \n",
       "...                ...                     ...   \n",
       "1920         -1.000000               -1.000000   \n",
       "1921         -1.000000               -1.000000   \n",
       "1922         -1.000000               -1.000000   \n",
       "1923         -1.000000               -1.000000   \n",
       "1924         -0.547619               -0.838384   \n",
       "\n",
       "      BLOODPRESSURE_DIASTOLIC_DIFF_REL  BLOODPRESSURE_SISTOLIC_DIFF_REL  \\\n",
       "0                            -1.000000                        -1.000000   \n",
       "1                            -1.000000                        -1.000000   \n",
       "2                                  NaN                              NaN   \n",
       "3                                  NaN                              NaN   \n",
       "4                            -0.389967                         0.407558   \n",
       "...                                ...                              ...   \n",
       "1920                         -1.000000                        -1.000000   \n",
       "1921                         -1.000000                        -1.000000   \n",
       "1922                         -1.000000                        -1.000000   \n",
       "1923                         -1.000000                        -1.000000   \n",
       "1924                         -0.701863                        -0.585967   \n",
       "\n",
       "      HEART_RATE_DIFF_REL  RESPIRATORY_RATE_DIFF_REL  TEMPERATURE_DIFF_REL  \\\n",
       "0               -1.000000                  -1.000000             -1.000000   \n",
       "1               -1.000000                  -1.000000             -1.000000   \n",
       "2                     NaN                        NaN                   NaN   \n",
       "3                     NaN                        NaN             -1.000000   \n",
       "4               -0.230462                   0.096774             -0.242282   \n",
       "...                   ...                        ...                   ...   \n",
       "1920            -1.000000                  -1.000000             -1.000000   \n",
       "1921            -1.000000                  -1.000000             -1.000000   \n",
       "1922            -1.000000                  -1.000000             -1.000000   \n",
       "1923            -1.000000                  -1.000000             -1.000000   \n",
       "1924            -0.763868                  -0.612903             -0.551337   \n",
       "\n",
       "      OXYGEN_SATURATION_DIFF_REL    WINDOW  ICU  \n",
       "0                      -1.000000       0-2    0  \n",
       "1                      -1.000000       2-4    0  \n",
       "2                            NaN       4-6    0  \n",
       "3                      -1.000000      6-12    0  \n",
       "4                      -0.814433  ABOVE_12    1  \n",
       "...                          ...       ...  ...  \n",
       "1920                   -1.000000       0-2    0  \n",
       "1921                   -1.000000       2-4    0  \n",
       "1922                   -1.000000       4-6    0  \n",
       "1923                   -1.000000      6-12    0  \n",
       "1924                   -0.835052  ABOVE_12    0  \n",
       "\n",
       "[1925 rows x 231 columns]"
      ]
     },
     "execution_count": 2,
     "metadata": {},
     "output_type": "execute_result"
    }
   ],
   "source": [
    "# Download do dataset do Kaggle\n",
    "kg.api.authenticate()\n",
    "kg.api.dataset_download_files(dataset=\"Sírio-Libanes/covid19\", path='gt.zip', unzip=True)\n",
    "\n",
    "# Lendo o arquivo\n",
    "df = pd.read_excel('gt.zip/Kaggle_Sirio_Libanes_ICU_Prediction.xlsx', engine='openpyxl')\n",
    "df"
   ]
  },
  {
   "cell_type": "markdown",
   "metadata": {},
   "source": [
    "# VERIFICANDO DATASET"
   ]
  },
  {
   "cell_type": "code",
   "execution_count": 3,
   "metadata": {},
   "outputs": [
    {
     "data": {
      "text/plain": [
       "(1925, 231)"
      ]
     },
     "execution_count": 3,
     "metadata": {},
     "output_type": "execute_result"
    }
   ],
   "source": [
    "# Tamanho\n",
    "df.shape"
   ]
  },
  {
   "cell_type": "code",
   "execution_count": 4,
   "metadata": {},
   "outputs": [
    {
     "data": {
      "text/html": [
       "<div>\n",
       "<style scoped>\n",
       "    .dataframe tbody tr th:only-of-type {\n",
       "        vertical-align: middle;\n",
       "    }\n",
       "\n",
       "    .dataframe tbody tr th {\n",
       "        vertical-align: top;\n",
       "    }\n",
       "\n",
       "    .dataframe thead th {\n",
       "        text-align: right;\n",
       "    }\n",
       "</style>\n",
       "<table border=\"1\" class=\"dataframe\">\n",
       "  <thead>\n",
       "    <tr style=\"text-align: right;\">\n",
       "      <th></th>\n",
       "      <th>PATIENT_VISIT_IDENTIFIER</th>\n",
       "      <th>AGE_ABOVE65</th>\n",
       "      <th>GENDER</th>\n",
       "      <th>DISEASE GROUPING 1</th>\n",
       "      <th>DISEASE GROUPING 2</th>\n",
       "      <th>DISEASE GROUPING 3</th>\n",
       "      <th>DISEASE GROUPING 4</th>\n",
       "      <th>DISEASE GROUPING 5</th>\n",
       "      <th>DISEASE GROUPING 6</th>\n",
       "      <th>HTN</th>\n",
       "      <th>...</th>\n",
       "      <th>RESPIRATORY_RATE_DIFF</th>\n",
       "      <th>TEMPERATURE_DIFF</th>\n",
       "      <th>OXYGEN_SATURATION_DIFF</th>\n",
       "      <th>BLOODPRESSURE_DIASTOLIC_DIFF_REL</th>\n",
       "      <th>BLOODPRESSURE_SISTOLIC_DIFF_REL</th>\n",
       "      <th>HEART_RATE_DIFF_REL</th>\n",
       "      <th>RESPIRATORY_RATE_DIFF_REL</th>\n",
       "      <th>TEMPERATURE_DIFF_REL</th>\n",
       "      <th>OXYGEN_SATURATION_DIFF_REL</th>\n",
       "      <th>ICU</th>\n",
       "    </tr>\n",
       "  </thead>\n",
       "  <tbody>\n",
       "    <tr>\n",
       "      <th>count</th>\n",
       "      <td>1925.000000</td>\n",
       "      <td>1925.000000</td>\n",
       "      <td>1925.000000</td>\n",
       "      <td>1920.000000</td>\n",
       "      <td>1920.000000</td>\n",
       "      <td>1920.000000</td>\n",
       "      <td>1920.000000</td>\n",
       "      <td>1920.000000</td>\n",
       "      <td>1920.000000</td>\n",
       "      <td>1920.000000</td>\n",
       "      <td>...</td>\n",
       "      <td>1177.000000</td>\n",
       "      <td>1231.000000</td>\n",
       "      <td>1239.000000</td>\n",
       "      <td>1240.000000</td>\n",
       "      <td>1240.000000</td>\n",
       "      <td>1240.000000</td>\n",
       "      <td>1177.000000</td>\n",
       "      <td>1231.000000</td>\n",
       "      <td>1239.000000</td>\n",
       "      <td>1925.000000</td>\n",
       "    </tr>\n",
       "    <tr>\n",
       "      <th>mean</th>\n",
       "      <td>192.000000</td>\n",
       "      <td>0.467532</td>\n",
       "      <td>0.368831</td>\n",
       "      <td>0.108333</td>\n",
       "      <td>0.028125</td>\n",
       "      <td>0.097917</td>\n",
       "      <td>0.019792</td>\n",
       "      <td>0.128125</td>\n",
       "      <td>0.046875</td>\n",
       "      <td>0.213021</td>\n",
       "      <td>...</td>\n",
       "      <td>-0.703683</td>\n",
       "      <td>-0.770338</td>\n",
       "      <td>-0.887196</td>\n",
       "      <td>-0.786997</td>\n",
       "      <td>-0.715950</td>\n",
       "      <td>-0.817800</td>\n",
       "      <td>-0.719147</td>\n",
       "      <td>-0.771327</td>\n",
       "      <td>-0.886982</td>\n",
       "      <td>0.267532</td>\n",
       "    </tr>\n",
       "    <tr>\n",
       "      <th>std</th>\n",
       "      <td>111.168431</td>\n",
       "      <td>0.499074</td>\n",
       "      <td>0.482613</td>\n",
       "      <td>0.310882</td>\n",
       "      <td>0.165373</td>\n",
       "      <td>0.297279</td>\n",
       "      <td>0.139320</td>\n",
       "      <td>0.334316</td>\n",
       "      <td>0.211426</td>\n",
       "      <td>0.409549</td>\n",
       "      <td>...</td>\n",
       "      <td>0.482097</td>\n",
       "      <td>0.319001</td>\n",
       "      <td>0.296147</td>\n",
       "      <td>0.324754</td>\n",
       "      <td>0.419103</td>\n",
       "      <td>0.270217</td>\n",
       "      <td>0.446600</td>\n",
       "      <td>0.317694</td>\n",
       "      <td>0.296772</td>\n",
       "      <td>0.442787</td>\n",
       "    </tr>\n",
       "    <tr>\n",
       "      <th>min</th>\n",
       "      <td>0.000000</td>\n",
       "      <td>0.000000</td>\n",
       "      <td>0.000000</td>\n",
       "      <td>0.000000</td>\n",
       "      <td>0.000000</td>\n",
       "      <td>0.000000</td>\n",
       "      <td>0.000000</td>\n",
       "      <td>0.000000</td>\n",
       "      <td>0.000000</td>\n",
       "      <td>0.000000</td>\n",
       "      <td>...</td>\n",
       "      <td>-1.000000</td>\n",
       "      <td>-1.000000</td>\n",
       "      <td>-1.000000</td>\n",
       "      <td>-1.000000</td>\n",
       "      <td>-1.000000</td>\n",
       "      <td>-1.000000</td>\n",
       "      <td>-1.000000</td>\n",
       "      <td>-1.000000</td>\n",
       "      <td>-1.000000</td>\n",
       "      <td>0.000000</td>\n",
       "    </tr>\n",
       "    <tr>\n",
       "      <th>25%</th>\n",
       "      <td>96.000000</td>\n",
       "      <td>0.000000</td>\n",
       "      <td>0.000000</td>\n",
       "      <td>0.000000</td>\n",
       "      <td>0.000000</td>\n",
       "      <td>0.000000</td>\n",
       "      <td>0.000000</td>\n",
       "      <td>0.000000</td>\n",
       "      <td>0.000000</td>\n",
       "      <td>0.000000</td>\n",
       "      <td>...</td>\n",
       "      <td>-1.000000</td>\n",
       "      <td>-1.000000</td>\n",
       "      <td>-1.000000</td>\n",
       "      <td>-1.000000</td>\n",
       "      <td>-1.000000</td>\n",
       "      <td>-1.000000</td>\n",
       "      <td>-1.000000</td>\n",
       "      <td>-1.000000</td>\n",
       "      <td>-1.000000</td>\n",
       "      <td>0.000000</td>\n",
       "    </tr>\n",
       "    <tr>\n",
       "      <th>50%</th>\n",
       "      <td>192.000000</td>\n",
       "      <td>0.000000</td>\n",
       "      <td>0.000000</td>\n",
       "      <td>0.000000</td>\n",
       "      <td>0.000000</td>\n",
       "      <td>0.000000</td>\n",
       "      <td>0.000000</td>\n",
       "      <td>0.000000</td>\n",
       "      <td>0.000000</td>\n",
       "      <td>0.000000</td>\n",
       "      <td>...</td>\n",
       "      <td>-1.000000</td>\n",
       "      <td>-0.976190</td>\n",
       "      <td>-0.979798</td>\n",
       "      <td>-1.000000</td>\n",
       "      <td>-0.984944</td>\n",
       "      <td>-0.989822</td>\n",
       "      <td>-1.000000</td>\n",
       "      <td>-0.975924</td>\n",
       "      <td>-0.980333</td>\n",
       "      <td>0.000000</td>\n",
       "    </tr>\n",
       "    <tr>\n",
       "      <th>75%</th>\n",
       "      <td>288.000000</td>\n",
       "      <td>1.000000</td>\n",
       "      <td>1.000000</td>\n",
       "      <td>0.000000</td>\n",
       "      <td>0.000000</td>\n",
       "      <td>0.000000</td>\n",
       "      <td>0.000000</td>\n",
       "      <td>0.000000</td>\n",
       "      <td>0.000000</td>\n",
       "      <td>0.000000</td>\n",
       "      <td>...</td>\n",
       "      <td>-0.647059</td>\n",
       "      <td>-0.595238</td>\n",
       "      <td>-0.878788</td>\n",
       "      <td>-0.645482</td>\n",
       "      <td>-0.522176</td>\n",
       "      <td>-0.662529</td>\n",
       "      <td>-0.634409</td>\n",
       "      <td>-0.594677</td>\n",
       "      <td>-0.880155</td>\n",
       "      <td>1.000000</td>\n",
       "    </tr>\n",
       "    <tr>\n",
       "      <th>max</th>\n",
       "      <td>384.000000</td>\n",
       "      <td>1.000000</td>\n",
       "      <td>1.000000</td>\n",
       "      <td>1.000000</td>\n",
       "      <td>1.000000</td>\n",
       "      <td>1.000000</td>\n",
       "      <td>1.000000</td>\n",
       "      <td>1.000000</td>\n",
       "      <td>1.000000</td>\n",
       "      <td>1.000000</td>\n",
       "      <td>...</td>\n",
       "      <td>1.000000</td>\n",
       "      <td>1.000000</td>\n",
       "      <td>1.000000</td>\n",
       "      <td>1.000000</td>\n",
       "      <td>1.000000</td>\n",
       "      <td>1.000000</td>\n",
       "      <td>1.000000</td>\n",
       "      <td>1.000000</td>\n",
       "      <td>1.000000</td>\n",
       "      <td>1.000000</td>\n",
       "    </tr>\n",
       "  </tbody>\n",
       "</table>\n",
       "<p>8 rows × 229 columns</p>\n",
       "</div>"
      ],
      "text/plain": [
       "       PATIENT_VISIT_IDENTIFIER  AGE_ABOVE65       GENDER  DISEASE GROUPING 1  \\\n",
       "count               1925.000000  1925.000000  1925.000000         1920.000000   \n",
       "mean                 192.000000     0.467532     0.368831            0.108333   \n",
       "std                  111.168431     0.499074     0.482613            0.310882   \n",
       "min                    0.000000     0.000000     0.000000            0.000000   \n",
       "25%                   96.000000     0.000000     0.000000            0.000000   \n",
       "50%                  192.000000     0.000000     0.000000            0.000000   \n",
       "75%                  288.000000     1.000000     1.000000            0.000000   \n",
       "max                  384.000000     1.000000     1.000000            1.000000   \n",
       "\n",
       "       DISEASE GROUPING 2  DISEASE GROUPING 3  DISEASE GROUPING 4  \\\n",
       "count         1920.000000         1920.000000         1920.000000   \n",
       "mean             0.028125            0.097917            0.019792   \n",
       "std              0.165373            0.297279            0.139320   \n",
       "min              0.000000            0.000000            0.000000   \n",
       "25%              0.000000            0.000000            0.000000   \n",
       "50%              0.000000            0.000000            0.000000   \n",
       "75%              0.000000            0.000000            0.000000   \n",
       "max              1.000000            1.000000            1.000000   \n",
       "\n",
       "       DISEASE GROUPING 5  DISEASE GROUPING 6          HTN  ...  \\\n",
       "count         1920.000000         1920.000000  1920.000000  ...   \n",
       "mean             0.128125            0.046875     0.213021  ...   \n",
       "std              0.334316            0.211426     0.409549  ...   \n",
       "min              0.000000            0.000000     0.000000  ...   \n",
       "25%              0.000000            0.000000     0.000000  ...   \n",
       "50%              0.000000            0.000000     0.000000  ...   \n",
       "75%              0.000000            0.000000     0.000000  ...   \n",
       "max              1.000000            1.000000     1.000000  ...   \n",
       "\n",
       "       RESPIRATORY_RATE_DIFF  TEMPERATURE_DIFF  OXYGEN_SATURATION_DIFF  \\\n",
       "count            1177.000000       1231.000000             1239.000000   \n",
       "mean               -0.703683         -0.770338               -0.887196   \n",
       "std                 0.482097          0.319001                0.296147   \n",
       "min                -1.000000         -1.000000               -1.000000   \n",
       "25%                -1.000000         -1.000000               -1.000000   \n",
       "50%                -1.000000         -0.976190               -0.979798   \n",
       "75%                -0.647059         -0.595238               -0.878788   \n",
       "max                 1.000000          1.000000                1.000000   \n",
       "\n",
       "       BLOODPRESSURE_DIASTOLIC_DIFF_REL  BLOODPRESSURE_SISTOLIC_DIFF_REL  \\\n",
       "count                       1240.000000                      1240.000000   \n",
       "mean                          -0.786997                        -0.715950   \n",
       "std                            0.324754                         0.419103   \n",
       "min                           -1.000000                        -1.000000   \n",
       "25%                           -1.000000                        -1.000000   \n",
       "50%                           -1.000000                        -0.984944   \n",
       "75%                           -0.645482                        -0.522176   \n",
       "max                            1.000000                         1.000000   \n",
       "\n",
       "       HEART_RATE_DIFF_REL  RESPIRATORY_RATE_DIFF_REL  TEMPERATURE_DIFF_REL  \\\n",
       "count          1240.000000                1177.000000           1231.000000   \n",
       "mean             -0.817800                  -0.719147             -0.771327   \n",
       "std               0.270217                   0.446600              0.317694   \n",
       "min              -1.000000                  -1.000000             -1.000000   \n",
       "25%              -1.000000                  -1.000000             -1.000000   \n",
       "50%              -0.989822                  -1.000000             -0.975924   \n",
       "75%              -0.662529                  -0.634409             -0.594677   \n",
       "max               1.000000                   1.000000              1.000000   \n",
       "\n",
       "       OXYGEN_SATURATION_DIFF_REL          ICU  \n",
       "count                 1239.000000  1925.000000  \n",
       "mean                    -0.886982     0.267532  \n",
       "std                      0.296772     0.442787  \n",
       "min                     -1.000000     0.000000  \n",
       "25%                     -1.000000     0.000000  \n",
       "50%                     -0.980333     0.000000  \n",
       "75%                     -0.880155     1.000000  \n",
       "max                      1.000000     1.000000  \n",
       "\n",
       "[8 rows x 229 columns]"
      ]
     },
     "execution_count": 4,
     "metadata": {},
     "output_type": "execute_result"
    }
   ],
   "source": [
    "# Descricão dos dados\n",
    "df.describe()"
   ]
  },
  {
   "cell_type": "code",
   "execution_count": 5,
   "metadata": {},
   "outputs": [
    {
     "name": "stdout",
     "output_type": "stream",
     "text": [
      "PATIENT_VISIT_IDENTIFIER\n",
      "AGE_ABOVE65\n",
      "AGE_PERCENTIL\n",
      "GENDER\n",
      "DISEASE GROUPING 1\n",
      "DISEASE GROUPING 2\n",
      "DISEASE GROUPING 3\n",
      "DISEASE GROUPING 4\n",
      "DISEASE GROUPING 5\n",
      "DISEASE GROUPING 6\n",
      "HTN\n",
      "IMMUNOCOMPROMISED\n",
      "OTHER\n",
      "ALBUMIN_MEDIAN\n",
      "ALBUMIN_MEAN\n",
      "ALBUMIN_MIN\n",
      "ALBUMIN_MAX\n",
      "ALBUMIN_DIFF\n",
      "BE_ARTERIAL_MEDIAN\n",
      "BE_ARTERIAL_MEAN\n",
      "BE_ARTERIAL_MIN\n",
      "BE_ARTERIAL_MAX\n",
      "BE_ARTERIAL_DIFF\n",
      "BE_VENOUS_MEDIAN\n",
      "BE_VENOUS_MEAN\n",
      "BE_VENOUS_MIN\n",
      "BE_VENOUS_MAX\n",
      "BE_VENOUS_DIFF\n",
      "BIC_ARTERIAL_MEDIAN\n",
      "BIC_ARTERIAL_MEAN\n",
      "BIC_ARTERIAL_MIN\n",
      "BIC_ARTERIAL_MAX\n",
      "BIC_ARTERIAL_DIFF\n",
      "BIC_VENOUS_MEDIAN\n",
      "BIC_VENOUS_MEAN\n",
      "BIC_VENOUS_MIN\n",
      "BIC_VENOUS_MAX\n",
      "BIC_VENOUS_DIFF\n",
      "BILLIRUBIN_MEDIAN\n",
      "BILLIRUBIN_MEAN\n",
      "BILLIRUBIN_MIN\n",
      "BILLIRUBIN_MAX\n",
      "BILLIRUBIN_DIFF\n",
      "BLAST_MEDIAN\n",
      "BLAST_MEAN\n",
      "BLAST_MIN\n",
      "BLAST_MAX\n",
      "BLAST_DIFF\n",
      "CALCIUM_MEDIAN\n",
      "CALCIUM_MEAN\n",
      "CALCIUM_MIN\n",
      "CALCIUM_MAX\n",
      "CALCIUM_DIFF\n",
      "CREATININ_MEDIAN\n",
      "CREATININ_MEAN\n",
      "CREATININ_MIN\n",
      "CREATININ_MAX\n",
      "CREATININ_DIFF\n",
      "FFA_MEDIAN\n",
      "FFA_MEAN\n",
      "FFA_MIN\n",
      "FFA_MAX\n",
      "FFA_DIFF\n",
      "GGT_MEDIAN\n",
      "GGT_MEAN\n",
      "GGT_MIN\n",
      "GGT_MAX\n",
      "GGT_DIFF\n",
      "GLUCOSE_MEDIAN\n",
      "GLUCOSE_MEAN\n",
      "GLUCOSE_MIN\n",
      "GLUCOSE_MAX\n",
      "GLUCOSE_DIFF\n",
      "HEMATOCRITE_MEDIAN\n",
      "HEMATOCRITE_MEAN\n",
      "HEMATOCRITE_MIN\n",
      "HEMATOCRITE_MAX\n",
      "HEMATOCRITE_DIFF\n",
      "HEMOGLOBIN_MEDIAN\n",
      "HEMOGLOBIN_MEAN\n",
      "HEMOGLOBIN_MIN\n",
      "HEMOGLOBIN_MAX\n",
      "HEMOGLOBIN_DIFF\n",
      "INR_MEDIAN\n",
      "INR_MEAN\n",
      "INR_MIN\n",
      "INR_MAX\n",
      "INR_DIFF\n",
      "LACTATE_MEDIAN\n",
      "LACTATE_MEAN\n",
      "LACTATE_MIN\n",
      "LACTATE_MAX\n",
      "LACTATE_DIFF\n",
      "LEUKOCYTES_MEDIAN\n",
      "LEUKOCYTES_MEAN\n",
      "LEUKOCYTES_MIN\n",
      "LEUKOCYTES_MAX\n",
      "LEUKOCYTES_DIFF\n",
      "LINFOCITOS_MEDIAN\n",
      "LINFOCITOS_MEAN\n",
      "LINFOCITOS_MIN\n",
      "LINFOCITOS_MAX\n",
      "LINFOCITOS_DIFF\n",
      "NEUTROPHILES_MEDIAN\n",
      "NEUTROPHILES_MEAN\n",
      "NEUTROPHILES_MIN\n",
      "NEUTROPHILES_MAX\n",
      "NEUTROPHILES_DIFF\n",
      "P02_ARTERIAL_MEDIAN\n",
      "P02_ARTERIAL_MEAN\n",
      "P02_ARTERIAL_MIN\n",
      "P02_ARTERIAL_MAX\n",
      "P02_ARTERIAL_DIFF\n",
      "P02_VENOUS_MEDIAN\n",
      "P02_VENOUS_MEAN\n",
      "P02_VENOUS_MIN\n",
      "P02_VENOUS_MAX\n",
      "P02_VENOUS_DIFF\n",
      "PC02_ARTERIAL_MEDIAN\n",
      "PC02_ARTERIAL_MEAN\n",
      "PC02_ARTERIAL_MIN\n",
      "PC02_ARTERIAL_MAX\n",
      "PC02_ARTERIAL_DIFF\n",
      "PC02_VENOUS_MEDIAN\n",
      "PC02_VENOUS_MEAN\n",
      "PC02_VENOUS_MIN\n",
      "PC02_VENOUS_MAX\n",
      "PC02_VENOUS_DIFF\n",
      "PCR_MEDIAN\n",
      "PCR_MEAN\n",
      "PCR_MIN\n",
      "PCR_MAX\n",
      "PCR_DIFF\n",
      "PH_ARTERIAL_MEDIAN\n",
      "PH_ARTERIAL_MEAN\n",
      "PH_ARTERIAL_MIN\n",
      "PH_ARTERIAL_MAX\n",
      "PH_ARTERIAL_DIFF\n",
      "PH_VENOUS_MEDIAN\n",
      "PH_VENOUS_MEAN\n",
      "PH_VENOUS_MIN\n",
      "PH_VENOUS_MAX\n",
      "PH_VENOUS_DIFF\n",
      "PLATELETS_MEDIAN\n",
      "PLATELETS_MEAN\n",
      "PLATELETS_MIN\n",
      "PLATELETS_MAX\n",
      "PLATELETS_DIFF\n",
      "POTASSIUM_MEDIAN\n",
      "POTASSIUM_MEAN\n",
      "POTASSIUM_MIN\n",
      "POTASSIUM_MAX\n",
      "POTASSIUM_DIFF\n",
      "SAT02_ARTERIAL_MEDIAN\n",
      "SAT02_ARTERIAL_MEAN\n",
      "SAT02_ARTERIAL_MIN\n",
      "SAT02_ARTERIAL_MAX\n",
      "SAT02_ARTERIAL_DIFF\n",
      "SAT02_VENOUS_MEDIAN\n",
      "SAT02_VENOUS_MEAN\n",
      "SAT02_VENOUS_MIN\n",
      "SAT02_VENOUS_MAX\n",
      "SAT02_VENOUS_DIFF\n",
      "SODIUM_MEDIAN\n",
      "SODIUM_MEAN\n",
      "SODIUM_MIN\n",
      "SODIUM_MAX\n",
      "SODIUM_DIFF\n",
      "TGO_MEDIAN\n",
      "TGO_MEAN\n",
      "TGO_MIN\n",
      "TGO_MAX\n",
      "TGO_DIFF\n",
      "TGP_MEDIAN\n",
      "TGP_MEAN\n",
      "TGP_MIN\n",
      "TGP_MAX\n",
      "TGP_DIFF\n",
      "TTPA_MEDIAN\n",
      "TTPA_MEAN\n",
      "TTPA_MIN\n",
      "TTPA_MAX\n",
      "TTPA_DIFF\n",
      "UREA_MEDIAN\n",
      "UREA_MEAN\n",
      "UREA_MIN\n",
      "UREA_MAX\n",
      "UREA_DIFF\n",
      "DIMER_MEDIAN\n",
      "DIMER_MEAN\n",
      "DIMER_MIN\n",
      "DIMER_MAX\n",
      "DIMER_DIFF\n",
      "BLOODPRESSURE_DIASTOLIC_MEAN\n",
      "BLOODPRESSURE_SISTOLIC_MEAN\n",
      "HEART_RATE_MEAN\n",
      "RESPIRATORY_RATE_MEAN\n",
      "TEMPERATURE_MEAN\n",
      "OXYGEN_SATURATION_MEAN\n",
      "BLOODPRESSURE_DIASTOLIC_MEDIAN\n",
      "BLOODPRESSURE_SISTOLIC_MEDIAN\n",
      "HEART_RATE_MEDIAN\n",
      "RESPIRATORY_RATE_MEDIAN\n",
      "TEMPERATURE_MEDIAN\n",
      "OXYGEN_SATURATION_MEDIAN\n",
      "BLOODPRESSURE_DIASTOLIC_MIN\n",
      "BLOODPRESSURE_SISTOLIC_MIN\n",
      "HEART_RATE_MIN\n",
      "RESPIRATORY_RATE_MIN\n",
      "TEMPERATURE_MIN\n",
      "OXYGEN_SATURATION_MIN\n",
      "BLOODPRESSURE_DIASTOLIC_MAX\n",
      "BLOODPRESSURE_SISTOLIC_MAX\n",
      "HEART_RATE_MAX\n",
      "RESPIRATORY_RATE_MAX\n",
      "TEMPERATURE_MAX\n",
      "OXYGEN_SATURATION_MAX\n",
      "BLOODPRESSURE_DIASTOLIC_DIFF\n",
      "BLOODPRESSURE_SISTOLIC_DIFF\n",
      "HEART_RATE_DIFF\n",
      "RESPIRATORY_RATE_DIFF\n",
      "TEMPERATURE_DIFF\n",
      "OXYGEN_SATURATION_DIFF\n",
      "BLOODPRESSURE_DIASTOLIC_DIFF_REL\n",
      "BLOODPRESSURE_SISTOLIC_DIFF_REL\n",
      "HEART_RATE_DIFF_REL\n",
      "RESPIRATORY_RATE_DIFF_REL\n",
      "TEMPERATURE_DIFF_REL\n",
      "OXYGEN_SATURATION_DIFF_REL\n",
      "WINDOW\n",
      "ICU\n"
     ]
    }
   ],
   "source": [
    "# Colunas\n",
    "for i in df.columns:\n",
    "    print (i)"
   ]
  },
  {
   "cell_type": "code",
   "execution_count": 6,
   "metadata": {},
   "outputs": [
    {
     "data": {
      "text/plain": [
       "223863"
      ]
     },
     "execution_count": 6,
     "metadata": {},
     "output_type": "execute_result"
    }
   ],
   "source": [
    "#Valores nulos\n",
    "df.isna().sum().sum()"
   ]
  },
  {
   "cell_type": "markdown",
   "metadata": {},
   "source": [
    "# ANÁLISES MACROS"
   ]
  },
  {
   "cell_type": "code",
   "execution_count": 34,
   "metadata": {},
   "outputs": [],
   "source": [
    "colunas = ['PATIENT_VISIT_IDENTIFIER', 'DISEASE GROUPING 1', 'DISEASE GROUPING 2','DISEASE GROUPING 3','DISEASE GROUPING 4','DISEASE GROUPING 5','DISEASE GROUPING 6']"
   ]
  },
  {
   "cell_type": "code",
   "execution_count": 152,
   "metadata": {},
   "outputs": [
    {
     "data": {
      "image/png": "[encoded data removed]",
      "text/plain": [
       "<Figure size 1152x288 with 1 Axes>"
      ]
     },
     "metadata": {
      "needs_background": "light"
     },
     "output_type": "display_data"
    }
   ],
   "source": [
    "a = pd.DataFrame(df[colunas].groupby('PATIENT_VISIT_IDENTIFIER', as_index=False).sum().sum())[1:].T\n",
    "\n",
    "plotar_barplot('Quantidade de Pacientes por Doença', 'Doença', 'Quantidade', a)"
   ]
  },
  {
   "cell_type": "code",
   "execution_count": null,
   "metadata": {},
   "outputs": [],
   "source": []
  },
  {
   "cell_type": "code",
   "execution_count": 208,
   "metadata": {},
   "outputs": [
    {
     "data": {
      "text/plain": [
       "<AxesSubplot:xlabel='ICU', ylabel='ALBUMIN_MEAN'>"
      ]
     },
     "execution_count": 208,
     "metadata": {},
     "output_type": "execute_result"
    },
    {
     "data": {
      "image/png": "[encoded data removed]",
      "text/plain": [
       "<Figure size 432x288 with 1 Axes>"
      ]
     },
     "metadata": {
      "needs_background": "light"
     },
     "output_type": "display_data"
    }
   ],
   "source": [
    "sns.barplot(data = df[['ALBUMIN_MEAN', 'ICU']], y='ALBUMIN_MEAN', x='ICU')"
   ]
  },
  {
   "cell_type": "code",
   "execution_count": 225,
   "metadata": {},
   "outputs": [
    {
     "data": {
      "text/html": [
       "<div>\n",
       "<style scoped>\n",
       "    .dataframe tbody tr th:only-of-type {\n",
       "        vertical-align: middle;\n",
       "    }\n",
       "\n",
       "    .dataframe tbody tr th {\n",
       "        vertical-align: top;\n",
       "    }\n",
       "\n",
       "    .dataframe thead th {\n",
       "        text-align: right;\n",
       "    }\n",
       "</style>\n",
       "<table border=\"1\" class=\"dataframe\">\n",
       "  <thead>\n",
       "    <tr style=\"text-align: right;\">\n",
       "      <th></th>\n",
       "      <th>TEMPERATURE_MEAN</th>\n",
       "      <th>TEMPERATURE_MEDIAN</th>\n",
       "      <th>TEMPERATURE_MIN</th>\n",
       "      <th>TEMPERATURE_MAX</th>\n",
       "      <th>TEMPERATURE_DIFF</th>\n",
       "      <th>TEMPERATURE_DIFF_REL</th>\n",
       "    </tr>\n",
       "  </thead>\n",
       "  <tbody>\n",
       "    <tr>\n",
       "      <th>0</th>\n",
       "      <td>-0.285714</td>\n",
       "      <td>-0.285714</td>\n",
       "      <td>0.208791</td>\n",
       "      <td>-0.420290</td>\n",
       "      <td>-1.000000</td>\n",
       "      <td>-1.000000</td>\n",
       "    </tr>\n",
       "    <tr>\n",
       "      <th>1</th>\n",
       "      <td>0.535714</td>\n",
       "      <td>0.535714</td>\n",
       "      <td>0.714286</td>\n",
       "      <td>0.246377</td>\n",
       "      <td>-1.000000</td>\n",
       "      <td>-1.000000</td>\n",
       "    </tr>\n",
       "    <tr>\n",
       "      <th>2</th>\n",
       "      <td>NaN</td>\n",
       "      <td>NaN</td>\n",
       "      <td>NaN</td>\n",
       "      <td>NaN</td>\n",
       "      <td>NaN</td>\n",
       "      <td>NaN</td>\n",
       "    </tr>\n",
       "    <tr>\n",
       "      <th>3</th>\n",
       "      <td>-0.107143</td>\n",
       "      <td>-0.107143</td>\n",
       "      <td>0.318681</td>\n",
       "      <td>-0.275362</td>\n",
       "      <td>-1.000000</td>\n",
       "      <td>-1.000000</td>\n",
       "    </tr>\n",
       "    <tr>\n",
       "      <th>4</th>\n",
       "      <td>0.033779</td>\n",
       "      <td>0.035714</td>\n",
       "      <td>0.098901</td>\n",
       "      <td>0.362319</td>\n",
       "      <td>-0.238095</td>\n",
       "      <td>-0.242282</td>\n",
       "    </tr>\n",
       "    <tr>\n",
       "      <th>...</th>\n",
       "      <td>...</td>\n",
       "      <td>...</td>\n",
       "      <td>...</td>\n",
       "      <td>...</td>\n",
       "      <td>...</td>\n",
       "      <td>...</td>\n",
       "    </tr>\n",
       "    <tr>\n",
       "      <th>1920</th>\n",
       "      <td>0.535714</td>\n",
       "      <td>0.535714</td>\n",
       "      <td>0.714286</td>\n",
       "      <td>0.246377</td>\n",
       "      <td>-1.000000</td>\n",
       "      <td>-1.000000</td>\n",
       "    </tr>\n",
       "    <tr>\n",
       "      <th>1921</th>\n",
       "      <td>0.142857</td>\n",
       "      <td>0.142857</td>\n",
       "      <td>0.472527</td>\n",
       "      <td>-0.072464</td>\n",
       "      <td>-1.000000</td>\n",
       "      <td>-1.000000</td>\n",
       "    </tr>\n",
       "    <tr>\n",
       "      <th>1922</th>\n",
       "      <td>0.142857</td>\n",
       "      <td>0.142857</td>\n",
       "      <td>0.472527</td>\n",
       "      <td>-0.072464</td>\n",
       "      <td>-1.000000</td>\n",
       "      <td>-1.000000</td>\n",
       "    </tr>\n",
       "    <tr>\n",
       "      <th>1923</th>\n",
       "      <td>0.285714</td>\n",
       "      <td>0.285714</td>\n",
       "      <td>0.560440</td>\n",
       "      <td>0.043478</td>\n",
       "      <td>-1.000000</td>\n",
       "      <td>-1.000000</td>\n",
       "    </tr>\n",
       "    <tr>\n",
       "      <th>1924</th>\n",
       "      <td>0.050595</td>\n",
       "      <td>0.071429</td>\n",
       "      <td>0.186813</td>\n",
       "      <td>0.101449</td>\n",
       "      <td>-0.547619</td>\n",
       "      <td>-0.551337</td>\n",
       "    </tr>\n",
       "  </tbody>\n",
       "</table>\n",
       "<p>1925 rows × 6 columns</p>\n",
       "</div>"
      ],
      "text/plain": [
       "      TEMPERATURE_MEAN  TEMPERATURE_MEDIAN  TEMPERATURE_MIN  TEMPERATURE_MAX  \\\n",
       "0            -0.285714           -0.285714         0.208791        -0.420290   \n",
       "1             0.535714            0.535714         0.714286         0.246377   \n",
       "2                  NaN                 NaN              NaN              NaN   \n",
       "3            -0.107143           -0.107143         0.318681        -0.275362   \n",
       "4             0.033779            0.035714         0.098901         0.362319   \n",
       "...                ...                 ...              ...              ...   \n",
       "1920          0.535714            0.535714         0.714286         0.246377   \n",
       "1921          0.142857            0.142857         0.472527        -0.072464   \n",
       "1922          0.142857            0.142857         0.472527        -0.072464   \n",
       "1923          0.285714            0.285714         0.560440         0.043478   \n",
       "1924          0.050595            0.071429         0.186813         0.101449   \n",
       "\n",
       "      TEMPERATURE_DIFF  TEMPERATURE_DIFF_REL  \n",
       "0            -1.000000             -1.000000  \n",
       "1            -1.000000             -1.000000  \n",
       "2                  NaN                   NaN  \n",
       "3            -1.000000             -1.000000  \n",
       "4            -0.238095             -0.242282  \n",
       "...                ...                   ...  \n",
       "1920         -1.000000             -1.000000  \n",
       "1921         -1.000000             -1.000000  \n",
       "1922         -1.000000             -1.000000  \n",
       "1923         -1.000000             -1.000000  \n",
       "1924         -0.547619             -0.551337  \n",
       "\n",
       "[1925 rows x 6 columns]"
      ]
     },
     "execution_count": 225,
     "metadata": {},
     "output_type": "execute_result"
    }
   ],
   "source": [
    "temp = ['TEMPERATURE_MEAN',\n",
    "'TEMPERATURE_MEDIAN',\n",
    "'TEMPERATURE_MIN',\n",
    "'TEMPERATURE_MAX',\n",
    "'TEMPERATURE_DIFF',\n",
    "'TEMPERATURE_DIFF_REL']\n",
    "\n",
    "df[temp]\n"
   ]
  },
  {
   "cell_type": "code",
   "execution_count": 202,
   "metadata": {},
   "outputs": [
    {
     "data": {
      "image/png": "[encoded data removed]",
      "text/plain": [
       "<Figure size 360x360 with 1 Axes>"
      ]
     },
     "metadata": {
      "needs_background": "light"
     },
     "output_type": "display_data"
    },
    {
     "data": {
      "image/png": "[encoded data removed]",
      "text/plain": [
       "<Figure size 360x360 with 1 Axes>"
      ]
     },
     "metadata": {
      "needs_background": "light"
     },
     "output_type": "display_data"
    },
    {
     "data": {
      "image/png": "[encoded data removed]",
      "text/plain": [
       "<Figure size 360x360 with 1 Axes>"
      ]
     },
     "metadata": {
      "needs_background": "light"
     },
     "output_type": "display_data"
    },
    {
     "data": {
      "image/png": "[encoded data removed]",
      "text/plain": [
       "<Figure size 360x360 with 1 Axes>"
      ]
     },
     "metadata": {
      "needs_background": "light"
     },
     "output_type": "display_data"
    },
    {
     "data": {
      "image/png": "[encoded data removed]",
      "text/plain": [
       "<Figure size 360x360 with 1 Axes>"
      ]
     },
     "metadata": {
      "needs_background": "light"
     },
     "output_type": "display_data"
    },
    {
     "data": {
      "image/png": "[encoded data removed]",
      "text/plain": [
       "<Figure size 360x360 with 1 Axes>"
      ]
     },
     "metadata": {
      "needs_background": "light"
     },
     "output_type": "display_data"
    },
    {
     "data": {
      "image/png": "[encoded data removed]",
      "text/plain": [
       "<Figure size 360x360 with 1 Axes>"
      ]
     },
     "metadata": {
      "needs_background": "light"
     },
     "output_type": "display_data"
    },
    {
     "data": {
      "image/png": "[encoded data removed]",
      "text/plain": [
       "<Figure size 360x360 with 1 Axes>"
      ]
     },
     "metadata": {
      "needs_background": "light"
     },
     "output_type": "display_data"
    },
    {
     "data": {
      "image/png": "[encoded data removed]",
      "text/plain": [
       "<Figure size 360x360 with 1 Axes>"
      ]
     },
     "metadata": {
      "needs_background": "light"
     },
     "output_type": "display_data"
    },
    {
     "data": {
      "image/png": "[encoded data removed]",
      "text/plain": [
       "<Figure size 360x360 with 1 Axes>"
      ]
     },
     "metadata": {
      "needs_background": "light"
     },
     "output_type": "display_data"
    },
    {
     "data": {
      "image/png": "[encoded data removed]",
      "text/plain": [
       "<Figure size 360x360 with 1 Axes>"
      ]
     },
     "metadata": {
      "needs_background": "light"
     },
     "output_type": "display_data"
    },
    {
     "data": {
      "image/png": "[encoded data removed]",
      "text/plain": [
       "<Figure size 360x360 with 1 Axes>"
      ]
     },
     "metadata": {
      "needs_background": "light"
     },
     "output_type": "display_data"
    },
    {
     "data": {
      "image/png": "[encoded data removed]",
      "text/plain": [
       "<Figure size 360x360 with 1 Axes>"
      ]
     },
     "metadata": {
      "needs_background": "light"
     },
     "output_type": "display_data"
    },
    {
     "data": {
      "image/png": "[encoded data removed]",
      "text/plain": [
       "<Figure size 360x360 with 1 Axes>"
      ]
     },
     "metadata": {
      "needs_background": "light"
     },
     "output_type": "display_data"
    },
    {
     "data": {
      "image/png": "[encoded data removed]",
      "text/plain": [
       "<Figure size 360x360 with 1 Axes>"
      ]
     },
     "metadata": {
      "needs_background": "light"
     },
     "output_type": "display_data"
    },
    {
     "data": {
      "image/png": "[encoded data removed]",
      "text/plain": [
       "<Figure size 360x360 with 1 Axes>"
      ]
     },
     "metadata": {
      "needs_background": "light"
     },
     "output_type": "display_data"
    },
    {
     "data": {
      "image/png": "[encoded data removed]",
      "text/plain": [
       "<Figure size 360x360 with 1 Axes>"
      ]
     },
     "metadata": {
      "needs_background": "light"
     },
     "output_type": "display_data"
    },
    {
     "data": {
      "image/png": "[encoded data removed]",
      "text/plain": [
       "<Figure size 360x360 with 1 Axes>"
      ]
     },
     "metadata": {
      "needs_background": "light"
     },
     "output_type": "display_data"
    },
    {
     "data": {
      "image/png": "[encoded data removed]",
      "text/plain": [
       "<Figure size 360x360 with 1 Axes>"
      ]
     },
     "metadata": {
      "needs_background": "light"
     },
     "output_type": "display_data"
    },
    {
     "data": {
      "image/png": "[encoded data removed]",
      "text/plain": [
       "<Figure size 360x360 with 1 Axes>"
      ]
     },
     "metadata": {
      "needs_background": "light"
     },
     "output_type": "display_data"
    },
    {
     "data": {
      "image/png": "[encoded data removed]",
      "text/plain": [
       "<Figure size 360x360 with 1 Axes>"
      ]
     },
     "metadata": {
      "needs_background": "light"
     },
     "output_type": "display_data"
    },
    {
     "data": {
      "image/png": "[encoded data removed]",
      "text/plain": [
       "<Figure size 360x360 with 1 Axes>"
      ]
     },
     "metadata": {
      "needs_background": "light"
     },
     "output_type": "display_data"
    },
    {
     "data": {
      "image/png": "[encoded data removed]",
      "text/plain": [
       "<Figure size 360x360 with 1 Axes>"
      ]
     },
     "metadata": {
      "needs_background": "light"
     },
     "output_type": "display_data"
    },
    {
     "data": {
      "image/png": "[encoded data removed]",
      "text/plain": [
       "<Figure size 360x360 with 1 Axes>"
      ]
     },
     "metadata": {
      "needs_background": "light"
     },
     "output_type": "display_data"
    },
    {
     "data": {
      "image/png": "[encoded data removed]",
      "text/plain": [
       "<Figure size 360x360 with 1 Axes>"
      ]
     },
     "metadata": {
      "needs_background": "light"
     },
     "output_type": "display_data"
    },
    {
     "data": {
      "image/png": "[encoded data removed]",
      "text/plain": [
       "<Figure size 360x360 with 1 Axes>"
      ]
     },
     "metadata": {
      "needs_background": "light"
     },
     "output_type": "display_data"
    },
    {
     "data": {
      "image/png": "[encoded data removed]",
      "text/plain": [
       "<Figure size 360x360 with 1 Axes>"
      ]
     },
     "metadata": {
      "needs_background": "light"
     },
     "output_type": "display_data"
    },
    {
     "data": {
      "image/png": "[encoded data removed]",
      "text/plain": [
       "<Figure size 360x360 with 1 Axes>"
      ]
     },
     "metadata": {
      "needs_background": "light"
     },
     "output_type": "display_data"
    },
    {
     "data": {
      "image/png": "[encoded data removed]",
      "text/plain": [
       "<Figure size 360x360 with 1 Axes>"
      ]
     },
     "metadata": {
      "needs_background": "light"
     },
     "output_type": "display_data"
    },
    {
     "data": {
      "image/png": "[encoded data removed]",
      "text/plain": [
       "<Figure size 360x360 with 1 Axes>"
      ]
     },
     "metadata": {
      "needs_background": "light"
     },
     "output_type": "display_data"
    },
    {
     "data": {
      "image/png": "[encoded data removed]",
      "text/plain": [
       "<Figure size 360x360 with 1 Axes>"
      ]
     },
     "metadata": {
      "needs_background": "light"
     },
     "output_type": "display_data"
    },
    {
     "data": {
      "image/png": "[encoded data removed]",
      "text/plain": [
       "<Figure size 360x360 with 1 Axes>"
      ]
     },
     "metadata": {
      "needs_background": "light"
     },
     "output_type": "display_data"
    },
    {
     "data": {
      "image/png": "[encoded data removed]",
      "text/plain": [
       "<Figure size 360x360 with 1 Axes>"
      ]
     },
     "metadata": {
      "needs_background": "light"
     },
     "output_type": "display_data"
    },
    {
     "data": {
      "image/png": "[encoded data removed]",
      "text/plain": [
       "<Figure size 360x360 with 1 Axes>"
      ]
     },
     "metadata": {
      "needs_background": "light"
     },
     "output_type": "display_data"
    },
    {
     "data": {
      "image/png": "[encoded data removed]",
      "text/plain": [
       "<Figure size 360x360 with 1 Axes>"
      ]
     },
     "metadata": {
      "needs_background": "light"
     },
     "output_type": "display_data"
    },
    {
     "data": {
      "image/png": "[encoded data removed]",
      "text/plain": [
       "<Figure size 360x360 with 1 Axes>"
      ]
     },
     "metadata": {
      "needs_background": "light"
     },
     "output_type": "display_data"
    },
    {
     "data": {
      "image/png": "[encoded data removed]",
      "text/plain": [
       "<Figure size 360x360 with 1 Axes>"
      ]
     },
     "metadata": {
      "needs_background": "light"
     },
     "output_type": "display_data"
    },
    {
     "data": {
      "image/png": "[encoded data removed]",
      "text/plain": [
       "<Figure size 360x360 with 1 Axes>"
      ]
     },
     "metadata": {
      "needs_background": "light"
     },
     "output_type": "display_data"
    },
    {
     "data": {
      "image/png": "[encoded data removed]",
      "text/plain": [
       "<Figure size 360x360 with 1 Axes>"
      ]
     },
     "metadata": {
      "needs_background": "light"
     },
     "output_type": "display_data"
    },
    {
     "data": {
      "image/png": "[encoded data removed]",
      "text/plain": [
       "<Figure size 360x360 with 1 Axes>"
      ]
     },
     "metadata": {
      "needs_background": "light"
     },
     "output_type": "display_data"
    },
    {
     "data": {
      "image/png": "[encoded data removed]",
      "text/plain": [
       "<Figure size 360x360 with 1 Axes>"
      ]
     },
     "metadata": {
      "needs_background": "light"
     },
     "output_type": "display_data"
    },
    {
     "data": {
      "image/png": "[encoded data removed]",
      "text/plain": [
       "<Figure size 360x360 with 1 Axes>"
      ]
     },
     "metadata": {
      "needs_background": "light"
     },
     "output_type": "display_data"
    }
   ],
   "source": [
    "for i in df.columns:\n",
    "    if 'MEDIAN' in i:\n",
    "        plt.figure(figsize=(5,5))\n",
    "        sns.barplot(data = df[[i, 'ICU']], y=i, x='ICU')"
   ]
  },
  {
   "cell_type": "code",
   "execution_count": null,
   "metadata": {},
   "outputs": [],
   "source": []
  },
  {
   "cell_type": "code",
   "execution_count": null,
   "metadata": {},
   "outputs": [],
   "source": []
  }
 ],
 "metadata": {
  "kernelspec": {
   "display_name": "Python 3",
   "language": "python",
   "name": "python3"
  },
  "language_info": {
   "codemirror_mode": {
    "name": "ipython",
    "version": 3
   },
   "file_extension": ".py",
   "mimetype": "text/x-python",
   "name": "python",
   "nbconvert_exporter": "python",
   "pygments_lexer": "ipython3",
   "version": "3.7.6"
  },
  "toc": {
   "base_numbering": 1,
   "nav_menu": {},
   "number_sections": true,
   "sideBar": true,
   "skip_h1_title": false,
   "title_cell": "Table of Contents",
   "title_sidebar": "Contents",
   "toc_cell": false,
   "toc_position": {},
   "toc_section_display": true,
   "toc_window_display": false
  }
 },
 "nbformat": 4,
 "nbformat_minor": 4
}
