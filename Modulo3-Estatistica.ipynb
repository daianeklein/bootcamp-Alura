{
 "cells": [
  {
   "cell_type": "markdown",
   "metadata": {},
   "source": [
    "# BOOTCAMP ALURA - ANÁLISE DE DADOS DA SAÚDE"
   ]
  },
  {
   "cell_type": "markdown",
   "metadata": {
    "heading_collapsed": true
   },
   "source": [
    "## Sobre o projeto\n",
    "\n",
    "Data Science Aplicada é um bootcamp promovido pela Alura que consiste em analisar dados da saúde pública brasileira.\n",
    "O bootcamp está organizado em módulos com duração de 12 semanas"
   ]
  },
  {
   "cell_type": "markdown",
   "metadata": {
    "hidden": true
   },
   "source": [
    "***\n",
    "\n",
    "Este notebook possui as análises do módulo 3\n",
    "\n",
    "**Análise descritiva e testes estatísticos**\n",
    "\n",
    "***"
   ]
  },
  {
   "cell_type": "markdown",
   "metadata": {},
   "source": [
    "## Dataset Utilizado"
   ]
  },
  {
   "cell_type": "markdown",
   "metadata": {},
   "source": [
    "O dataset utilizado neste módulo está disponível no site do IBGE.\n",
    "\n",
    "**Arquivo:** PeNSE_2015_AMOSTRA2\n",
    "\n",
    "Disponível em: <a href=\"https://www.ibge.gov.br/estatisticas/downloads-estatisticas.html?caminho=pense/2015/microdados/\"> IBGE</a>"
   ]
  },
  {
   "cell_type": "markdown",
   "metadata": {},
   "source": [
    "## Módulo 3"
   ]
  },
  {
   "cell_type": "markdown",
   "metadata": {},
   "source": [
    "### IMPORTAÇÃO DAS BIBLIOTECAS"
   ]
  },
  {
   "cell_type": "code",
   "execution_count": 17,
   "metadata": {},
   "outputs": [],
   "source": [
    "import pandas           as pd\n",
    "import numpy            as np\n",
    "\n",
    "from zipfile            import ZipFile"
   ]
  },
  {
   "cell_type": "markdown",
   "metadata": {},
   "source": [
    "### Libs Import"
   ]
  },
  {
   "cell_type": "code",
   "execution_count": 2,
   "metadata": {},
   "outputs": [
    {
     "data": {
      "text/html": [
       "<div>\n",
       "<style scoped>\n",
       "    .dataframe tbody tr th:only-of-type {\n",
       "        vertical-align: middle;\n",
       "    }\n",
       "\n",
       "    .dataframe tbody tr th {\n",
       "        vertical-align: top;\n",
       "    }\n",
       "\n",
       "    .dataframe thead th {\n",
       "        text-align: right;\n",
       "    }\n",
       "</style>\n",
       "<table border=\"1\" class=\"dataframe\">\n",
       "  <thead>\n",
       "    <tr style=\"text-align: right;\">\n",
       "      <th></th>\n",
       "      <th>ANOPESQ</th>\n",
       "      <th>PAIS</th>\n",
       "      <th>REGEOGR</th>\n",
       "      <th>VB00004</th>\n",
       "      <th>VB01001</th>\n",
       "      <th>VB01002</th>\n",
       "      <th>VB01003</th>\n",
       "      <th>VB01004</th>\n",
       "      <th>VB01005</th>\n",
       "      <th>VB01006</th>\n",
       "      <th>...</th>\n",
       "      <th>ESTRATO_EXP</th>\n",
       "      <th>ESTRATOGEOREG</th>\n",
       "      <th>PESO</th>\n",
       "      <th>V0006</th>\n",
       "      <th>V0007</th>\n",
       "      <th>V0008</th>\n",
       "      <th>V0041</th>\n",
       "      <th>aluno</th>\n",
       "      <th>escola</th>\n",
       "      <th>turma</th>\n",
       "    </tr>\n",
       "  </thead>\n",
       "  <tbody>\n",
       "    <tr>\n",
       "      <th>0</th>\n",
       "      <td>2015</td>\n",
       "      <td>76</td>\n",
       "      <td>1</td>\n",
       "      <td>1</td>\n",
       "      <td>2</td>\n",
       "      <td>1</td>\n",
       "      <td>13</td>\n",
       "      <td>7</td>\n",
       "      <td>7</td>\n",
       "      <td>1</td>\n",
       "      <td>...</td>\n",
       "      <td>1223</td>\n",
       "      <td>1</td>\n",
       "      <td>299.735235</td>\n",
       "      <td>1</td>\n",
       "      <td>2</td>\n",
       "      <td>4</td>\n",
       "      <td>1</td>\n",
       "      <td>1</td>\n",
       "      <td>1</td>\n",
       "      <td>296</td>\n",
       "    </tr>\n",
       "    <tr>\n",
       "      <th>1</th>\n",
       "      <td>2015</td>\n",
       "      <td>76</td>\n",
       "      <td>1</td>\n",
       "      <td>1</td>\n",
       "      <td>2</td>\n",
       "      <td>1</td>\n",
       "      <td>14</td>\n",
       "      <td>4</td>\n",
       "      <td>7</td>\n",
       "      <td>1</td>\n",
       "      <td>...</td>\n",
       "      <td>1223</td>\n",
       "      <td>1</td>\n",
       "      <td>355.170081</td>\n",
       "      <td>1</td>\n",
       "      <td>2</td>\n",
       "      <td>4</td>\n",
       "      <td>1</td>\n",
       "      <td>2</td>\n",
       "      <td>1</td>\n",
       "      <td>296</td>\n",
       "    </tr>\n",
       "    <tr>\n",
       "      <th>2</th>\n",
       "      <td>2015</td>\n",
       "      <td>76</td>\n",
       "      <td>1</td>\n",
       "      <td>1</td>\n",
       "      <td>1</td>\n",
       "      <td>4</td>\n",
       "      <td>13</td>\n",
       "      <td>6</td>\n",
       "      <td>7</td>\n",
       "      <td>1</td>\n",
       "      <td>...</td>\n",
       "      <td>1223</td>\n",
       "      <td>1</td>\n",
       "      <td>299.735235</td>\n",
       "      <td>1</td>\n",
       "      <td>2</td>\n",
       "      <td>4</td>\n",
       "      <td>1</td>\n",
       "      <td>3</td>\n",
       "      <td>1</td>\n",
       "      <td>296</td>\n",
       "    </tr>\n",
       "    <tr>\n",
       "      <th>3</th>\n",
       "      <td>2015</td>\n",
       "      <td>76</td>\n",
       "      <td>1</td>\n",
       "      <td>1</td>\n",
       "      <td>1</td>\n",
       "      <td>1</td>\n",
       "      <td>14</td>\n",
       "      <td>6</td>\n",
       "      <td>7</td>\n",
       "      <td>1</td>\n",
       "      <td>...</td>\n",
       "      <td>1223</td>\n",
       "      <td>1</td>\n",
       "      <td>355.170081</td>\n",
       "      <td>1</td>\n",
       "      <td>2</td>\n",
       "      <td>4</td>\n",
       "      <td>1</td>\n",
       "      <td>4</td>\n",
       "      <td>1</td>\n",
       "      <td>296</td>\n",
       "    </tr>\n",
       "    <tr>\n",
       "      <th>4</th>\n",
       "      <td>2015</td>\n",
       "      <td>76</td>\n",
       "      <td>1</td>\n",
       "      <td>1</td>\n",
       "      <td>1</td>\n",
       "      <td>1</td>\n",
       "      <td>13</td>\n",
       "      <td>9</td>\n",
       "      <td>7</td>\n",
       "      <td>1</td>\n",
       "      <td>...</td>\n",
       "      <td>1223</td>\n",
       "      <td>1</td>\n",
       "      <td>299.735235</td>\n",
       "      <td>1</td>\n",
       "      <td>2</td>\n",
       "      <td>4</td>\n",
       "      <td>1</td>\n",
       "      <td>5</td>\n",
       "      <td>1</td>\n",
       "      <td>296</td>\n",
       "    </tr>\n",
       "  </tbody>\n",
       "</table>\n",
       "<p>5 rows × 181 columns</p>\n",
       "</div>"
      ],
      "text/plain": [
       "   ANOPESQ  PAIS  REGEOGR  VB00004  VB01001  VB01002  VB01003  VB01004  \\\n",
       "0     2015    76        1        1        2        1       13        7   \n",
       "1     2015    76        1        1        2        1       14        4   \n",
       "2     2015    76        1        1        1        4       13        6   \n",
       "3     2015    76        1        1        1        1       14        6   \n",
       "4     2015    76        1        1        1        1       13        9   \n",
       "\n",
       "   VB01005  VB01006  ...  ESTRATO_EXP  ESTRATOGEOREG        PESO  V0006  \\\n",
       "0        7        1  ...         1223              1  299.735235      1   \n",
       "1        7        1  ...         1223              1  355.170081      1   \n",
       "2        7        1  ...         1223              1  299.735235      1   \n",
       "3        7        1  ...         1223              1  355.170081      1   \n",
       "4        7        1  ...         1223              1  299.735235      1   \n",
       "\n",
       "   V0007  V0008  V0041  aluno  escola  turma  \n",
       "0      2      4      1      1       1    296  \n",
       "1      2      4      1      2       1    296  \n",
       "2      2      4      1      3       1    296  \n",
       "3      2      4      1      4       1    296  \n",
       "4      2      4      1      5       1    296  \n",
       "\n",
       "[5 rows x 181 columns]"
      ]
     },
     "execution_count": 2,
     "metadata": {},
     "output_type": "execute_result"
    }
   ],
   "source": [
    "caminho = 'PeNSE_2015_AMOSTRA2.zip'\n",
    "zip = ZipFile(caminho)\n",
    "\n",
    "caminho_pasta_zipada = zip.namelist()[1]\n",
    "\n",
    "dados = pd.read_csv(zip.open(caminho_pasta_zipada), sep = ';', decimal = ',')\n",
    "dados.head()"
   ]
  },
  {
   "cell_type": "code",
   "execution_count": 3,
   "metadata": {},
   "outputs": [
    {
     "data": {
      "text/plain": [
       "[<ZipInfo filename='arquivos csv/' external_attr=0x10>,\n",
       " <ZipInfo filename='arquivos csv/PENSE_AMOSTRA2_ALUNO.CSV' compress_type=deflate external_attr=0x20 file_size=7262170 compress_size=1235667>,\n",
       " <ZipInfo filename='arquivos csv/PENSE_AMOSTRA2_ALUNOESCOLA.CSV' compress_type=deflate external_attr=0x20 file_size=11420533 compress_size=1329882>,\n",
       " <ZipInfo filename='arquivos csv/PENSE_AMOSTRA2_ESCOLA.CSV' compress_type=deflate external_attr=0x20 file_size=5000642 compress_size=114324>,\n",
       " <ZipInfo filename='arquivos sas/' external_attr=0x10>,\n",
       " <ZipInfo filename='arquivos sas/pense_amostra2_aluno.sas7bdat' compress_type=deflate external_attr=0x20 file_size=24691712 compress_size=1957530>,\n",
       " <ZipInfo filename='arquivos sas/pense_amostra2_alunoescola.sas7bdat' compress_type=deflate external_attr=0x20 file_size=45253632 compress_size=2461932>,\n",
       " <ZipInfo filename='arquivos sas/pense_amostra2_escola.sas7bdat' compress_type=deflate external_attr=0x20 file_size=18105344 compress_size=332162>,\n",
       " <ZipInfo filename='arquivos xlsx/' external_attr=0x10>,\n",
       " <ZipInfo filename='arquivos xlsx/PENSE_AMOSTRA2_ALUNO.xlsx' compress_type=deflate external_attr=0x20 file_size=11757246 compress_size=11337133>,\n",
       " <ZipInfo filename='arquivos xlsx/PENSE_AMOSTRA2_ALUNOESCOLA.xlsx' compress_type=deflate external_attr=0x20 file_size=18732739 compress_size=17064325>,\n",
       " <ZipInfo filename='arquivos xlsx/PENSE_AMOSTRA2_ESCOLA.xlsx' compress_type=deflate external_attr=0x20 file_size=7159579 compress_size=3209953>,\n",
       " <ZipInfo filename='Dicionario_PENSE_Microdados_AMOSTRA2.xls' compress_type=deflate external_attr=0x20 file_size=144896 compress_size=35737>]"
      ]
     },
     "execution_count": 3,
     "metadata": {},
     "output_type": "execute_result"
    }
   ],
   "source": [
    "# Visualizando os dados na pasta zipada\n",
    "zip.infolist()"
   ]
  },
  {
   "cell_type": "code",
   "execution_count": 4,
   "metadata": {},
   "outputs": [
    {
     "data": {
      "text/plain": [
       "'arquivos csv/PENSE_AMOSTRA2_ALUNO.CSV'"
      ]
     },
     "execution_count": 4,
     "metadata": {},
     "output_type": "execute_result"
    }
   ],
   "source": [
    "# Visualizando os dados na pasta zipada II\n",
    "zip.namelist()[1]"
   ]
  },
  {
   "cell_type": "code",
   "execution_count": 5,
   "metadata": {},
   "outputs": [
    {
     "name": "stdout",
     "output_type": "stream",
     "text": [
      "<class 'pandas.core.frame.DataFrame'>\n",
      "RangeIndex: 16556 entries, 0 to 16555\n",
      "Columns: 181 entries, ANOPESQ to turma\n",
      "dtypes: float64(10), int64(171)\n",
      "memory usage: 22.9 MB\n"
     ]
    }
   ],
   "source": [
    "dados.info()"
   ]
  },
  {
   "cell_type": "code",
   "execution_count": 6,
   "metadata": {},
   "outputs": [
    {
     "data": {
      "text/html": [
       "<div>\n",
       "<style scoped>\n",
       "    .dataframe tbody tr th:only-of-type {\n",
       "        vertical-align: middle;\n",
       "    }\n",
       "\n",
       "    .dataframe tbody tr th {\n",
       "        vertical-align: top;\n",
       "    }\n",
       "\n",
       "    .dataframe thead th {\n",
       "        text-align: right;\n",
       "    }\n",
       "</style>\n",
       "<table border=\"1\" class=\"dataframe\">\n",
       "  <thead>\n",
       "    <tr style=\"text-align: right;\">\n",
       "      <th></th>\n",
       "    </tr>\n",
       "  </thead>\n",
       "  <tbody>\n",
       "    <tr>\n",
       "      <th>0</th>\n",
       "    </tr>\n",
       "    <tr>\n",
       "      <th>1</th>\n",
       "    </tr>\n",
       "    <tr>\n",
       "      <th>2</th>\n",
       "    </tr>\n",
       "    <tr>\n",
       "      <th>3</th>\n",
       "    </tr>\n",
       "    <tr>\n",
       "      <th>4</th>\n",
       "    </tr>\n",
       "    <tr>\n",
       "      <th>...</th>\n",
       "    </tr>\n",
       "    <tr>\n",
       "      <th>16551</th>\n",
       "    </tr>\n",
       "    <tr>\n",
       "      <th>16552</th>\n",
       "    </tr>\n",
       "    <tr>\n",
       "      <th>16553</th>\n",
       "    </tr>\n",
       "    <tr>\n",
       "      <th>16554</th>\n",
       "    </tr>\n",
       "    <tr>\n",
       "      <th>16555</th>\n",
       "    </tr>\n",
       "  </tbody>\n",
       "</table>\n",
       "<p>16556 rows × 0 columns</p>\n",
       "</div>"
      ],
      "text/plain": [
       "Empty DataFrame\n",
       "Columns: []\n",
       "Index: [0, 1, 2, 3, 4, 5, 6, 7, 8, 9, 10, 11, 12, 13, 14, 15, 16, 17, 18, 19, 20, 21, 22, 23, 24, 25, 26, 27, 28, 29, 30, 31, 32, 33, 34, 35, 36, 37, 38, 39, 40, 41, 42, 43, 44, 45, 46, 47, 48, 49, 50, 51, 52, 53, 54, 55, 56, 57, 58, 59, 60, 61, 62, 63, 64, 65, 66, 67, 68, 69, 70, 71, 72, 73, 74, 75, 76, 77, 78, 79, 80, 81, 82, 83, 84, 85, 86, 87, 88, 89, 90, 91, 92, 93, 94, 95, 96, 97, 98, 99, ...]\n",
       "\n",
       "[16556 rows x 0 columns]"
      ]
     },
     "execution_count": 6,
     "metadata": {},
     "output_type": "execute_result"
    }
   ],
   "source": [
    "dados.select_dtypes(include='object')"
   ]
  },
  {
   "cell_type": "code",
   "execution_count": 7,
   "metadata": {},
   "outputs": [
    {
     "data": {
      "text/plain": [
       "1    8287\n",
       "2    8269\n",
       "Name: VB01001, dtype: int64"
      ]
     },
     "execution_count": 7,
     "metadata": {},
     "output_type": "execute_result"
    }
   ],
   "source": [
    "# sexo dos alunos\n",
    "dados['VB01001'].value_counts()"
   ]
  },
  {
   "cell_type": "code",
   "execution_count": 8,
   "metadata": {},
   "outputs": [
    {
     "data": {
      "text/plain": [
       "1    50.054361\n",
       "2    49.945639\n",
       "Name: VB01001, dtype: float64"
      ]
     },
     "execution_count": 8,
     "metadata": {},
     "output_type": "execute_result"
    }
   ],
   "source": [
    "# sexo dos alunos - percentual\n",
    "dados['VB01001'].value_counts(normalize=True) * 100"
   ]
  },
  {
   "cell_type": "code",
   "execution_count": 9,
   "metadata": {},
   "outputs": [],
   "source": [
    "# satisfacao do aluno em relacao ao seu corpo\n",
    "frequencia = dados['VB11007'].value_counts()"
   ]
  },
  {
   "cell_type": "code",
   "execution_count": 10,
   "metadata": {},
   "outputs": [],
   "source": [
    "# satisfacao do aluno em relacao ao seu corpo - percentual\n",
    "percent = dados['VB11007'].value_counts(normalize = True) * 100"
   ]
  },
  {
   "cell_type": "code",
   "execution_count": 11,
   "metadata": {},
   "outputs": [
    {
     "data": {
      "text/html": [
       "<div>\n",
       "<style scoped>\n",
       "    .dataframe tbody tr th:only-of-type {\n",
       "        vertical-align: middle;\n",
       "    }\n",
       "\n",
       "    .dataframe tbody tr th {\n",
       "        vertical-align: top;\n",
       "    }\n",
       "\n",
       "    .dataframe thead th {\n",
       "        text-align: right;\n",
       "    }\n",
       "</style>\n",
       "<table border=\"1\" class=\"dataframe\">\n",
       "  <thead>\n",
       "    <tr style=\"text-align: right;\">\n",
       "      <th>Sentimento x corpo</th>\n",
       "      <th>frequencia</th>\n",
       "      <th>porcentagem</th>\n",
       "    </tr>\n",
       "  </thead>\n",
       "  <tbody>\n",
       "    <tr>\n",
       "      <th>satisfeito</th>\n",
       "      <td>6920</td>\n",
       "      <td>41.797536</td>\n",
       "    </tr>\n",
       "    <tr>\n",
       "      <th>muito satisfeito</th>\n",
       "      <td>4608</td>\n",
       "      <td>27.832810</td>\n",
       "    </tr>\n",
       "    <tr>\n",
       "      <th>insatisfeito</th>\n",
       "      <td>2326</td>\n",
       "      <td>14.049287</td>\n",
       "    </tr>\n",
       "    <tr>\n",
       "      <th>indiferente</th>\n",
       "      <td>1807</td>\n",
       "      <td>10.914472</td>\n",
       "    </tr>\n",
       "    <tr>\n",
       "      <th>muito insatisfeito</th>\n",
       "      <td>714</td>\n",
       "      <td>4.312636</td>\n",
       "    </tr>\n",
       "    <tr>\n",
       "      <th>nao informado</th>\n",
       "      <td>181</td>\n",
       "      <td>1.093259</td>\n",
       "    </tr>\n",
       "  </tbody>\n",
       "</table>\n",
       "</div>"
      ],
      "text/plain": [
       "Sentimento x corpo  frequencia  porcentagem\n",
       "satisfeito                6920    41.797536\n",
       "muito satisfeito          4608    27.832810\n",
       "insatisfeito              2326    14.049287\n",
       "indiferente               1807    10.914472\n",
       "muito insatisfeito         714     4.312636\n",
       "nao informado              181     1.093259"
      ]
     },
     "execution_count": 11,
     "metadata": {},
     "output_type": "execute_result"
    }
   ],
   "source": [
    "# trasnformando em um dataframe\n",
    "\n",
    "respostas = {\n",
    "    1 : 'muito satisfeito',\n",
    "    2 : 'satisfeito',\n",
    "    3 : 'indiferente',\n",
    "    4 : 'insatisfeito',\n",
    "    5 : 'muito insatisfeito',\n",
    "    99 : 'nao informado'\n",
    "}\n",
    "\n",
    "# criando um dataframe\n",
    "dist_freq = pd.DataFrame({'frequencia' : frequencia, 'porcentagem' : percent})\n",
    "\n",
    "#renomeando as colunas\n",
    "dist_freq.rename(index = respostas, inplace = True)\n",
    "\n",
    "#renomeando o index\n",
    "dist_freq.rename_axis('Sentimento x corpo', axis = 1, inplace = True)\n",
    "\n",
    "#Visualizando o df\n",
    "dist_freq"
   ]
  },
  {
   "cell_type": "code",
   "execution_count": 12,
   "metadata": {},
   "outputs": [
    {
     "data": {
      "text/plain": [
       "0        15.051321\n",
       "1        21.727839\n",
       "2        18.502907\n",
       "3        23.322831\n",
       "4        28.122076\n",
       "           ...    \n",
       "16551    20.113223\n",
       "16552    17.930782\n",
       "16553    23.968489\n",
       "16554    18.995343\n",
       "16555    23.303246\n",
       "Name: IMC, Length: 16556, dtype: float64"
      ]
     },
     "execution_count": 12,
     "metadata": {},
     "output_type": "execute_result"
    }
   ],
   "source": [
    "# calculando IMC\n",
    "dados['IMC'] = dados['VB17003'] / ((dados['VB17004']/100) ** 2)\n",
    "dados['IMC']"
   ]
  },
  {
   "cell_type": "code",
   "execution_count": 15,
   "metadata": {},
   "outputs": [
    {
     "data": {
      "text/html": [
       "<div>\n",
       "<style scoped>\n",
       "    .dataframe tbody tr th:only-of-type {\n",
       "        vertical-align: middle;\n",
       "    }\n",
       "\n",
       "    .dataframe tbody tr th {\n",
       "        vertical-align: top;\n",
       "    }\n",
       "\n",
       "    .dataframe thead th {\n",
       "        text-align: right;\n",
       "    }\n",
       "</style>\n",
       "<table border=\"1\" class=\"dataframe\">\n",
       "  <thead>\n",
       "    <tr style=\"text-align: right;\">\n",
       "      <th></th>\n",
       "      <th>IMC</th>\n",
       "      <th>CLASSE_IMC</th>\n",
       "    </tr>\n",
       "  </thead>\n",
       "  <tbody>\n",
       "    <tr>\n",
       "      <th>0</th>\n",
       "      <td>15.051321</td>\n",
       "      <td>abaixo</td>\n",
       "    </tr>\n",
       "    <tr>\n",
       "      <th>1</th>\n",
       "      <td>21.727839</td>\n",
       "      <td>normal</td>\n",
       "    </tr>\n",
       "    <tr>\n",
       "      <th>2</th>\n",
       "      <td>18.502907</td>\n",
       "      <td>normal</td>\n",
       "    </tr>\n",
       "    <tr>\n",
       "      <th>3</th>\n",
       "      <td>23.322831</td>\n",
       "      <td>normal</td>\n",
       "    </tr>\n",
       "    <tr>\n",
       "      <th>4</th>\n",
       "      <td>28.122076</td>\n",
       "      <td>sobrepeso</td>\n",
       "    </tr>\n",
       "    <tr>\n",
       "      <th>...</th>\n",
       "      <td>...</td>\n",
       "      <td>...</td>\n",
       "    </tr>\n",
       "    <tr>\n",
       "      <th>16551</th>\n",
       "      <td>20.113223</td>\n",
       "      <td>normal</td>\n",
       "    </tr>\n",
       "    <tr>\n",
       "      <th>16552</th>\n",
       "      <td>17.930782</td>\n",
       "      <td>abaixo</td>\n",
       "    </tr>\n",
       "    <tr>\n",
       "      <th>16553</th>\n",
       "      <td>23.968489</td>\n",
       "      <td>normal</td>\n",
       "    </tr>\n",
       "    <tr>\n",
       "      <th>16554</th>\n",
       "      <td>18.995343</td>\n",
       "      <td>normal</td>\n",
       "    </tr>\n",
       "    <tr>\n",
       "      <th>16555</th>\n",
       "      <td>23.303246</td>\n",
       "      <td>normal</td>\n",
       "    </tr>\n",
       "  </tbody>\n",
       "</table>\n",
       "<p>16556 rows × 2 columns</p>\n",
       "</div>"
      ],
      "text/plain": [
       "             IMC CLASSE_IMC\n",
       "0      15.051321     abaixo\n",
       "1      21.727839     normal\n",
       "2      18.502907     normal\n",
       "3      23.322831     normal\n",
       "4      28.122076  sobrepeso\n",
       "...          ...        ...\n",
       "16551  20.113223     normal\n",
       "16552  17.930782     abaixo\n",
       "16553  23.968489     normal\n",
       "16554  18.995343     normal\n",
       "16555  23.303246     normal\n",
       "\n",
       "[16556 rows x 2 columns]"
      ]
     },
     "execution_count": 15,
     "metadata": {},
     "output_type": "execute_result"
    }
   ],
   "source": [
    "classes = [0, 18.5, 25, 30, 60]\n",
    "labels = ['abaixo', 'normal', 'sobrepeso', 'obesidade']\n",
    "\n",
    "dados['CLASSE_IMC'] = pd.cut(x = dados['IMC'], bins = classes, labels = labels, include_lowest = True)\n",
    "\n",
    "dados[['IMC', 'CLASSE_IMC']]"
   ]
  },
  {
   "cell_type": "code",
   "execution_count": 16,
   "metadata": {},
   "outputs": [
    {
     "data": {
      "text/html": [
       "<div>\n",
       "<style scoped>\n",
       "    .dataframe tbody tr th:only-of-type {\n",
       "        vertical-align: middle;\n",
       "    }\n",
       "\n",
       "    .dataframe tbody tr th {\n",
       "        vertical-align: top;\n",
       "    }\n",
       "\n",
       "    .dataframe thead th {\n",
       "        text-align: right;\n",
       "    }\n",
       "</style>\n",
       "<table border=\"1\" class=\"dataframe\">\n",
       "  <thead>\n",
       "    <tr style=\"text-align: right;\">\n",
       "      <th></th>\n",
       "      <th>Frequencia</th>\n",
       "      <th>Percentual</th>\n",
       "    </tr>\n",
       "  </thead>\n",
       "  <tbody>\n",
       "    <tr>\n",
       "      <th>normal</th>\n",
       "      <td>9188</td>\n",
       "      <td>55.496497</td>\n",
       "    </tr>\n",
       "    <tr>\n",
       "      <th>abaixo</th>\n",
       "      <td>4975</td>\n",
       "      <td>30.049529</td>\n",
       "    </tr>\n",
       "    <tr>\n",
       "      <th>sobrepeso</th>\n",
       "      <td>1760</td>\n",
       "      <td>10.630587</td>\n",
       "    </tr>\n",
       "    <tr>\n",
       "      <th>obesidade</th>\n",
       "      <td>633</td>\n",
       "      <td>3.823387</td>\n",
       "    </tr>\n",
       "  </tbody>\n",
       "</table>\n",
       "</div>"
      ],
      "text/plain": [
       "           Frequencia  Percentual\n",
       "normal           9188   55.496497\n",
       "abaixo           4975   30.049529\n",
       "sobrepeso        1760   10.630587\n",
       "obesidade         633    3.823387"
      ]
     },
     "execution_count": 16,
     "metadata": {},
     "output_type": "execute_result"
    }
   ],
   "source": [
    "# criando a tabela de frequencias\n",
    "\n",
    "frequencia = dados['CLASSE_IMC'].value_counts()\n",
    "percentual = dados['CLASSE_IMC'].value_counts(normalize = True) * 100\n",
    "\n",
    "dist_freq = pd.DataFrame({'Frequencia' : frequencia, 'Percentual' : percentual})\n",
    "dist_freq\n"
   ]
  },
  {
   "cell_type": "code",
   "execution_count": 21,
   "metadata": {},
   "outputs": [
    {
     "data": {
      "text/plain": [
       "15"
      ]
     },
     "execution_count": 21,
     "metadata": {},
     "output_type": "execute_result"
    }
   ],
   "source": [
    "## Sturges\n",
    "\n",
    "tamanho_amostra = len(dados)\n",
    "\n",
    "k = int((1 + ((10/3) * np.log10(tamanho_amostra))))\n",
    "k"
   ]
  },
  {
   "cell_type": "code",
   "execution_count": 22,
   "metadata": {},
   "outputs": [],
   "source": [
    "dados['CLASSE_ALTURA'] = pd.cut(x = dados['VB17004'], bins = k, include_lowest = True)"
   ]
  },
  {
   "cell_type": "code",
   "execution_count": 24,
   "metadata": {},
   "outputs": [
    {
     "data": {
      "text/html": [
       "<div>\n",
       "<style scoped>\n",
       "    .dataframe tbody tr th:only-of-type {\n",
       "        vertical-align: middle;\n",
       "    }\n",
       "\n",
       "    .dataframe tbody tr th {\n",
       "        vertical-align: top;\n",
       "    }\n",
       "\n",
       "    .dataframe thead th {\n",
       "        text-align: right;\n",
       "    }\n",
       "</style>\n",
       "<table border=\"1\" class=\"dataframe\">\n",
       "  <thead>\n",
       "    <tr style=\"text-align: right;\">\n",
       "      <th></th>\n",
       "      <th>Frequencia</th>\n",
       "      <th>Percentual</th>\n",
       "    </tr>\n",
       "  </thead>\n",
       "  <tbody>\n",
       "    <tr>\n",
       "      <th>(157.327, 162.073]</th>\n",
       "      <td>3110</td>\n",
       "      <td>18.784731</td>\n",
       "    </tr>\n",
       "    <tr>\n",
       "      <th>(152.58, 157.327]</th>\n",
       "      <td>2734</td>\n",
       "      <td>16.513651</td>\n",
       "    </tr>\n",
       "    <tr>\n",
       "      <th>(162.073, 166.82]</th>\n",
       "      <td>2550</td>\n",
       "      <td>15.402271</td>\n",
       "    </tr>\n",
       "    <tr>\n",
       "      <th>(166.82, 171.567]</th>\n",
       "      <td>2063</td>\n",
       "      <td>12.460739</td>\n",
       "    </tr>\n",
       "    <tr>\n",
       "      <th>(147.833, 152.58]</th>\n",
       "      <td>1782</td>\n",
       "      <td>10.763469</td>\n",
       "    </tr>\n",
       "    <tr>\n",
       "      <th>(171.567, 176.313]</th>\n",
       "      <td>1416</td>\n",
       "      <td>8.552791</td>\n",
       "    </tr>\n",
       "    <tr>\n",
       "      <th>(143.087, 147.833]</th>\n",
       "      <td>1012</td>\n",
       "      <td>6.112588</td>\n",
       "    </tr>\n",
       "    <tr>\n",
       "      <th>(176.313, 181.06]</th>\n",
       "      <td>749</td>\n",
       "      <td>4.524040</td>\n",
       "    </tr>\n",
       "    <tr>\n",
       "      <th>(138.34, 143.087]</th>\n",
       "      <td>484</td>\n",
       "      <td>2.923411</td>\n",
       "    </tr>\n",
       "    <tr>\n",
       "      <th>(181.06, 185.807]</th>\n",
       "      <td>300</td>\n",
       "      <td>1.812032</td>\n",
       "    </tr>\n",
       "    <tr>\n",
       "      <th>(133.593, 138.34]</th>\n",
       "      <td>199</td>\n",
       "      <td>1.201981</td>\n",
       "    </tr>\n",
       "    <tr>\n",
       "      <th>(185.807, 190.553]</th>\n",
       "      <td>94</td>\n",
       "      <td>0.567770</td>\n",
       "    </tr>\n",
       "    <tr>\n",
       "      <th>(128.847, 133.593]</th>\n",
       "      <td>47</td>\n",
       "      <td>0.283885</td>\n",
       "    </tr>\n",
       "    <tr>\n",
       "      <th>(190.553, 195.3]</th>\n",
       "      <td>13</td>\n",
       "      <td>0.078521</td>\n",
       "    </tr>\n",
       "    <tr>\n",
       "      <th>(124.02799999999999, 128.847]</th>\n",
       "      <td>3</td>\n",
       "      <td>0.018120</td>\n",
       "    </tr>\n",
       "  </tbody>\n",
       "</table>\n",
       "</div>"
      ],
      "text/plain": [
       "                               Frequencia  Percentual\n",
       "(157.327, 162.073]                   3110   18.784731\n",
       "(152.58, 157.327]                    2734   16.513651\n",
       "(162.073, 166.82]                    2550   15.402271\n",
       "(166.82, 171.567]                    2063   12.460739\n",
       "(147.833, 152.58]                    1782   10.763469\n",
       "(171.567, 176.313]                   1416    8.552791\n",
       "(143.087, 147.833]                   1012    6.112588\n",
       "(176.313, 181.06]                     749    4.524040\n",
       "(138.34, 143.087]                     484    2.923411\n",
       "(181.06, 185.807]                     300    1.812032\n",
       "(133.593, 138.34]                     199    1.201981\n",
       "(185.807, 190.553]                     94    0.567770\n",
       "(128.847, 133.593]                     47    0.283885\n",
       "(190.553, 195.3]                       13    0.078521\n",
       "(124.02799999999999, 128.847]           3    0.018120"
      ]
     },
     "execution_count": 24,
     "metadata": {},
     "output_type": "execute_result"
    }
   ],
   "source": [
    "# Criando a tabela de frequencia\n",
    "\n",
    "frequencia = dados['CLASSE_ALTURA'].value_counts()\n",
    "percentual = dados['CLASSE_ALTURA'].value_counts(normalize = True) * 100\n",
    "\n",
    "dist_freq = pd.DataFrame({'Frequencia' : frequencia, 'Percentual' : percentual})\n",
    "dist_freq"
   ]
  },
  {
   "cell_type": "code",
   "execution_count": 32,
   "metadata": {},
   "outputs": [
    {
     "data": {
      "text/html": [
       "<div>\n",
       "<style scoped>\n",
       "    .dataframe tbody tr th:only-of-type {\n",
       "        vertical-align: middle;\n",
       "    }\n",
       "\n",
       "    .dataframe tbody tr th {\n",
       "        vertical-align: top;\n",
       "    }\n",
       "\n",
       "    .dataframe thead th {\n",
       "        text-align: right;\n",
       "    }\n",
       "</style>\n",
       "<table border=\"1\" class=\"dataframe\">\n",
       "  <thead>\n",
       "    <tr style=\"text-align: right;\">\n",
       "      <th>VB01001</th>\n",
       "      <th>Masculino</th>\n",
       "      <th>Feminino</th>\n",
       "    </tr>\n",
       "    <tr>\n",
       "      <th>VB11007</th>\n",
       "      <th></th>\n",
       "      <th></th>\n",
       "    </tr>\n",
       "  </thead>\n",
       "  <tbody>\n",
       "    <tr>\n",
       "      <th>muito satisfeito</th>\n",
       "      <td>0.161996</td>\n",
       "      <td>0.116332</td>\n",
       "    </tr>\n",
       "    <tr>\n",
       "      <th>satisfeito</th>\n",
       "      <td>0.210800</td>\n",
       "      <td>0.207176</td>\n",
       "    </tr>\n",
       "    <tr>\n",
       "      <th>indiferente</th>\n",
       "      <td>0.057381</td>\n",
       "      <td>0.051764</td>\n",
       "    </tr>\n",
       "    <tr>\n",
       "      <th>insatisfeito</th>\n",
       "      <td>0.047475</td>\n",
       "      <td>0.093018</td>\n",
       "    </tr>\n",
       "    <tr>\n",
       "      <th>muito insatisfeito</th>\n",
       "      <td>0.015704</td>\n",
       "      <td>0.027422</td>\n",
       "    </tr>\n",
       "    <tr>\n",
       "      <th>nao informado</th>\n",
       "      <td>0.007188</td>\n",
       "      <td>0.003745</td>\n",
       "    </tr>\n",
       "  </tbody>\n",
       "</table>\n",
       "</div>"
      ],
      "text/plain": [
       "VB01001             Masculino  Feminino\n",
       "VB11007                                \n",
       "muito satisfeito     0.161996  0.116332\n",
       "satisfeito           0.210800  0.207176\n",
       "indiferente          0.057381  0.051764\n",
       "insatisfeito         0.047475  0.093018\n",
       "muito insatisfeito   0.015704  0.027422\n",
       "nao informado        0.007188  0.003745"
      ]
     },
     "execution_count": 32,
     "metadata": {},
     "output_type": "execute_result"
    }
   ],
   "source": [
    "# criando a tabela de frequencia cruzada\n",
    "frequencia_cruzada = pd.crosstab(dados['VB11007'], dados['VB01001'], normalize = True)\n",
    "\n",
    "#renomeando as colunas\n",
    "frequencia_cruzada.rename(index = respostas, inplace = True)\n",
    "frequencia_cruzada.rename(columns = {1 : 'Masculino', 2 : 'Feminino'}, inplace = True)\n",
    "frequencia_cruzada"
   ]
  },
  {
   "cell_type": "code",
   "execution_count": 35,
   "metadata": {},
   "outputs": [
    {
     "data": {
      "text/html": [
       "<div>\n",
       "<style scoped>\n",
       "    .dataframe tbody tr th:only-of-type {\n",
       "        vertical-align: middle;\n",
       "    }\n",
       "\n",
       "    .dataframe tbody tr th {\n",
       "        vertical-align: top;\n",
       "    }\n",
       "\n",
       "    .dataframe thead th {\n",
       "        text-align: right;\n",
       "    }\n",
       "</style>\n",
       "<table border=\"1\" class=\"dataframe\">\n",
       "  <thead>\n",
       "    <tr style=\"text-align: right;\">\n",
       "      <th>VB01001</th>\n",
       "      <th>Masculino</th>\n",
       "      <th>Feminino</th>\n",
       "    </tr>\n",
       "    <tr>\n",
       "      <th>VB11007</th>\n",
       "      <th></th>\n",
       "      <th></th>\n",
       "    </tr>\n",
       "  </thead>\n",
       "  <tbody>\n",
       "    <tr>\n",
       "      <th>muito satisfeito</th>\n",
       "      <td>32.363944</td>\n",
       "      <td>23.291813</td>\n",
       "    </tr>\n",
       "    <tr>\n",
       "      <th>satisfeito</th>\n",
       "      <td>42.114155</td>\n",
       "      <td>41.480227</td>\n",
       "    </tr>\n",
       "    <tr>\n",
       "      <th>indiferente</th>\n",
       "      <td>11.463738</td>\n",
       "      <td>10.364010</td>\n",
       "    </tr>\n",
       "    <tr>\n",
       "      <th>insatisfeito</th>\n",
       "      <td>9.484735</td>\n",
       "      <td>18.623776</td>\n",
       "    </tr>\n",
       "    <tr>\n",
       "      <th>muito insatisfeito</th>\n",
       "      <td>3.137444</td>\n",
       "      <td>5.490386</td>\n",
       "    </tr>\n",
       "    <tr>\n",
       "      <th>nao informado</th>\n",
       "      <td>1.435984</td>\n",
       "      <td>0.749788</td>\n",
       "    </tr>\n",
       "  </tbody>\n",
       "</table>\n",
       "</div>"
      ],
      "text/plain": [
       "VB01001             Masculino   Feminino\n",
       "VB11007                                 \n",
       "muito satisfeito    32.363944  23.291813\n",
       "satisfeito          42.114155  41.480227\n",
       "indiferente         11.463738  10.364010\n",
       "insatisfeito         9.484735  18.623776\n",
       "muito insatisfeito   3.137444   5.490386\n",
       "nao informado        1.435984   0.749788"
      ]
     },
     "execution_count": 35,
     "metadata": {},
     "output_type": "execute_result"
    }
   ],
   "source": [
    "# criando a tabela de frequencia cruzada\n",
    "frequencia_cruzada = pd.crosstab(dados['VB11007'], dados['VB01001'], normalize = 'columns') * 100 # Normalização em relação a coluna\n",
    "\n",
    "#renomeando as colunas\n",
    "frequencia_cruzada.rename(index = respostas, inplace = True)\n",
    "frequencia_cruzada.rename(columns = {1 : 'Masculino', 2 : 'Feminino'}, inplace = True)\n",
    "frequencia_cruzada"
   ]
  },
  {
   "cell_type": "code",
   "execution_count": 36,
   "metadata": {},
   "outputs": [],
   "source": [
    "## AGG FUNC"
   ]
  },
  {
   "cell_type": "code",
   "execution_count": null,
   "metadata": {},
   "outputs": [],
   "source": []
  }
 ],
 "metadata": {
  "kernelspec": {
   "display_name": "Python 3",
   "language": "python",
   "name": "python3"
  },
  "language_info": {
   "codemirror_mode": {
    "name": "ipython",
    "version": 3
   },
   "file_extension": ".py",
   "mimetype": "text/x-python",
   "name": "python",
   "nbconvert_exporter": "python",
   "pygments_lexer": "ipython3",
   "version": "3.7.6"
  },
  "toc": {
   "base_numbering": 1,
   "nav_menu": {},
   "number_sections": true,
   "sideBar": true,
   "skip_h1_title": false,
   "title_cell": "Table of Contents",
   "title_sidebar": "Contents",
   "toc_cell": false,
   "toc_position": {},
   "toc_section_display": true,
   "toc_window_display": false
  }
 },
 "nbformat": 4,
 "nbformat_minor": 4
}
