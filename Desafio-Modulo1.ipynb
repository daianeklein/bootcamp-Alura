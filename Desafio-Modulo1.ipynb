{
 "cells": [
  {
   "cell_type": "markdown",
   "metadata": {},
   "source": [
    "# PROJETO MÓDULO I - Data Science Aplicada\n",
    "\n",
    "***\n",
    "\n",
    "## Python e pandas para análise de dados reais"
   ]
  },
  {
   "cell_type": "markdown",
   "metadata": {},
   "source": [
    "\n",
    "    O projeto do módulo I do Bootcamp Data Science aplicada promovida pela Alura consiste em analisar dados da saúde disponíveis no DATASUS (departamento de informática do Sistema Único de Saúde do Brasil.) \n",
    "    \n",
    "    A temática de análise (escolha pessoal) será o dataset de casos diagnosticados de AIDS (seção: Epidemiológicas e Morbidade) - Casos de AIDS notificados no SINAN, declarados no SIM e registrados no SISCEL/SICLOM por ano de diagnóstico"
   ]
  },
  {
   "attachments": {
    "image.png": {
     "image/png": "[encoded data removed]"
    }
   },
   "cell_type": "markdown",
   "metadata": {},
   "source": [
    "\t\t\t\t\t\t\t\t\t\t\t\t\t\n",
    "![image.png](attachment:image.png)"
   ]
  },
  {
   "cell_type": "markdown",
   "metadata": {
    "heading_collapsed": true
   },
   "source": [
    "## Lógica de análise"
   ]
  },
  {
   "cell_type": "markdown",
   "metadata": {
    "hidden": true
   },
   "source": [
    "**1.** Os dados analisados se referem a soma de casos diagnosticados no SINAN, declarados no SIM e registrados no SISCEL/SICLOM por ano de diagnóstico.\n",
    "\n",
    "**2.** O objetivo I é analisar o comportamento da epidemia desde o primeiro caso diagnosticado no Brasil até o ano de 2019\n",
    "\n",
    "\n",
    "***\n",
    "\n",
    "**SIGNIFICADO DE SIGLAS E ACRÔNIMOS**\n",
    "\n",
    "**1.** DATASUS: departamento de informática do Sistema Único de Saúde do Brasil.\n",
    "\n",
    "**2.** SINAN: Sistema de Informação de Agravos de Notificação\n",
    "\n",
    "**3.** SIM: Sistema de Informação sobre Mortalidade \n",
    "\n",
    "**4.** SISCEL: Sistema de Controle de Exames Laboratoriais de CD4+/CD8+ e Carga Viral do HIV\n",
    "\n",
    "**5.** Sistema de Controle Logístico de Medicamentos\n",
    "\n",
    "***\n",
    "\n",
    "**REFERÊNCIAS**\n",
    "\n",
    "**1.** Dataset utilizado: <a href=\"https://datasus.saude.gov.br/acesso-a-informacao/casos-de-aids-desde-1980-sinan/\"> DATASUS </a>\n",
    "\n",
    "**2.** Programa das Nações Unidas focado em ajudar nações no combate à AIDS: <a href=\"https://unaids.org.br/\"> UNAIDS </a>\n",
    "\n",
    "**3.** História de AIDS no Brasil: <a href=\"http://www.aids.gov.br/pt-br/centrais-de-conteudos/historia-aids-linha-do-tempo\"> AIDS.GOV </a>\n",
    "\n"
   ]
  },
  {
   "cell_type": "markdown",
   "metadata": {},
   "source": [
    "# ANÁLISE - CASOS DA AIDS DIAGNOSTICADOS NO BRASIL"
   ]
  },
  {
   "cell_type": "markdown",
   "metadata": {},
   "source": [
    "## Importação das Bibliotecas"
   ]
  },
  {
   "cell_type": "code",
   "execution_count": 48,
   "metadata": {},
   "outputs": [],
   "source": [
    "import pandas            as pd\n",
    "import seaborn           as sns\n",
    "import numpy             as np\n",
    "\n",
    "import matplotlib\n",
    "import matplotlib.pyplot as plt\n",
    "import matplotlib.ticker as ticker\n",
    "\n",
    "import warnings\n",
    "warnings.filterwarnings('ignore')\n"
   ]
  },
  {
   "cell_type": "markdown",
   "metadata": {
    "heading_collapsed": true
   },
   "source": [
    "## Cronologia"
   ]
  },
  {
   "cell_type": "markdown",
   "metadata": {
    "hidden": true
   },
   "source": [
    "Abaixo consta a cronologia da doença desde os primeiros casos em 1977 até 2017.\n",
    "\n",
    "As informações foram retiradas do site AIDS.GOV e não há registros de 1992 à 2012.\n",
    "Nota-se fortes ações do Estado como de ONG's e organizações mundiais para conter a doença, o que foi primordial para a redução de contaminações do vírus HIV e o desenvolvimento da AIDS."
   ]
  },
  {
   "cell_type": "markdown",
   "metadata": {
    "hidden": true
   },
   "source": [
    "<img src=\"https://i.ibb.co/GTw8F7y/Data-Science.jpg\" alt=\"Data-Science\" width=\"1132\" height=\"882\" data-load=\"full\" style=\"\">"
   ]
  },
  {
   "cell_type": "markdown",
   "metadata": {},
   "source": [
    "## Análise dos Dados"
   ]
  },
  {
   "cell_type": "code",
   "execution_count": 10,
   "metadata": {},
   "outputs": [
    {
     "data": {
      "text/html": [
       "<div>\n",
       "<style scoped>\n",
       "    .dataframe tbody tr th:only-of-type {\n",
       "        vertical-align: middle;\n",
       "    }\n",
       "\n",
       "    .dataframe tbody tr th {\n",
       "        vertical-align: top;\n",
       "    }\n",
       "\n",
       "    .dataframe thead th {\n",
       "        text-align: right;\n",
       "    }\n",
       "</style>\n",
       "<table border=\"1\" class=\"dataframe\">\n",
       "  <thead>\n",
       "    <tr style=\"text-align: right;\">\n",
       "      <th></th>\n",
       "      <th>Fx. Etária(SINAN)</th>\n",
       "      <th>1980</th>\n",
       "      <th>1982</th>\n",
       "      <th>1983</th>\n",
       "      <th>1984</th>\n",
       "      <th>1985</th>\n",
       "      <th>1986</th>\n",
       "      <th>1987</th>\n",
       "      <th>1988</th>\n",
       "      <th>1989</th>\n",
       "      <th>...</th>\n",
       "      <th>2011</th>\n",
       "      <th>2012</th>\n",
       "      <th>2013</th>\n",
       "      <th>2014</th>\n",
       "      <th>2015</th>\n",
       "      <th>2016</th>\n",
       "      <th>2017</th>\n",
       "      <th>2018</th>\n",
       "      <th>2019</th>\n",
       "      <th>Total</th>\n",
       "    </tr>\n",
       "  </thead>\n",
       "  <tbody>\n",
       "    <tr>\n",
       "      <th>0</th>\n",
       "      <td>&lt; 1 ano</td>\n",
       "      <td>0</td>\n",
       "      <td>2</td>\n",
       "      <td>0</td>\n",
       "      <td>4</td>\n",
       "      <td>6</td>\n",
       "      <td>1</td>\n",
       "      <td>29</td>\n",
       "      <td>60</td>\n",
       "      <td>63</td>\n",
       "      <td>...</td>\n",
       "      <td>280</td>\n",
       "      <td>228</td>\n",
       "      <td>207</td>\n",
       "      <td>192</td>\n",
       "      <td>176</td>\n",
       "      <td>148</td>\n",
       "      <td>147</td>\n",
       "      <td>127</td>\n",
       "      <td>59</td>\n",
       "      <td>7944</td>\n",
       "    </tr>\n",
       "    <tr>\n",
       "      <th>1</th>\n",
       "      <td>1-4</td>\n",
       "      <td>0</td>\n",
       "      <td>0</td>\n",
       "      <td>0</td>\n",
       "      <td>3</td>\n",
       "      <td>3</td>\n",
       "      <td>8</td>\n",
       "      <td>21</td>\n",
       "      <td>41</td>\n",
       "      <td>56</td>\n",
       "      <td>...</td>\n",
       "      <td>217</td>\n",
       "      <td>282</td>\n",
       "      <td>260</td>\n",
       "      <td>216</td>\n",
       "      <td>186</td>\n",
       "      <td>203</td>\n",
       "      <td>180</td>\n",
       "      <td>157</td>\n",
       "      <td>68</td>\n",
       "      <td>9940</td>\n",
       "    </tr>\n",
       "    <tr>\n",
       "      <th>2</th>\n",
       "      <td>5-9</td>\n",
       "      <td>0</td>\n",
       "      <td>0</td>\n",
       "      <td>0</td>\n",
       "      <td>1</td>\n",
       "      <td>5</td>\n",
       "      <td>6</td>\n",
       "      <td>12</td>\n",
       "      <td>16</td>\n",
       "      <td>25</td>\n",
       "      <td>...</td>\n",
       "      <td>164</td>\n",
       "      <td>123</td>\n",
       "      <td>122</td>\n",
       "      <td>117</td>\n",
       "      <td>95</td>\n",
       "      <td>77</td>\n",
       "      <td>77</td>\n",
       "      <td>76</td>\n",
       "      <td>43</td>\n",
       "      <td>5242</td>\n",
       "    </tr>\n",
       "    <tr>\n",
       "      <th>3</th>\n",
       "      <td>10-14</td>\n",
       "      <td>0</td>\n",
       "      <td>1</td>\n",
       "      <td>0</td>\n",
       "      <td>3</td>\n",
       "      <td>6</td>\n",
       "      <td>9</td>\n",
       "      <td>21</td>\n",
       "      <td>27</td>\n",
       "      <td>39</td>\n",
       "      <td>...</td>\n",
       "      <td>192</td>\n",
       "      <td>161</td>\n",
       "      <td>145</td>\n",
       "      <td>112</td>\n",
       "      <td>90</td>\n",
       "      <td>80</td>\n",
       "      <td>76</td>\n",
       "      <td>68</td>\n",
       "      <td>32</td>\n",
       "      <td>3500</td>\n",
       "    </tr>\n",
       "    <tr>\n",
       "      <th>4</th>\n",
       "      <td>15-19</td>\n",
       "      <td>0</td>\n",
       "      <td>0</td>\n",
       "      <td>1</td>\n",
       "      <td>6</td>\n",
       "      <td>27</td>\n",
       "      <td>49</td>\n",
       "      <td>127</td>\n",
       "      <td>209</td>\n",
       "      <td>245</td>\n",
       "      <td>...</td>\n",
       "      <td>804</td>\n",
       "      <td>895</td>\n",
       "      <td>983</td>\n",
       "      <td>1033</td>\n",
       "      <td>1025</td>\n",
       "      <td>970</td>\n",
       "      <td>899</td>\n",
       "      <td>794</td>\n",
       "      <td>323</td>\n",
       "      <td>19934</td>\n",
       "    </tr>\n",
       "    <tr>\n",
       "      <th>5</th>\n",
       "      <td>20-34</td>\n",
       "      <td>1</td>\n",
       "      <td>10</td>\n",
       "      <td>26</td>\n",
       "      <td>64</td>\n",
       "      <td>259</td>\n",
       "      <td>588</td>\n",
       "      <td>1481</td>\n",
       "      <td>2411</td>\n",
       "      <td>3355</td>\n",
       "      <td>...</td>\n",
       "      <td>16837</td>\n",
       "      <td>16964</td>\n",
       "      <td>17408</td>\n",
       "      <td>16842</td>\n",
       "      <td>16381</td>\n",
       "      <td>15544</td>\n",
       "      <td>15677</td>\n",
       "      <td>15016</td>\n",
       "      <td>6706</td>\n",
       "      <td>422557</td>\n",
       "    </tr>\n",
       "    <tr>\n",
       "      <th>6</th>\n",
       "      <td>35-49</td>\n",
       "      <td>0</td>\n",
       "      <td>2</td>\n",
       "      <td>12</td>\n",
       "      <td>42</td>\n",
       "      <td>188</td>\n",
       "      <td>379</td>\n",
       "      <td>820</td>\n",
       "      <td>1291</td>\n",
       "      <td>1807</td>\n",
       "      <td>...</td>\n",
       "      <td>17223</td>\n",
       "      <td>16594</td>\n",
       "      <td>16498</td>\n",
       "      <td>15959</td>\n",
       "      <td>15236</td>\n",
       "      <td>14659</td>\n",
       "      <td>13810</td>\n",
       "      <td>13760</td>\n",
       "      <td>5800</td>\n",
       "      <td>370308</td>\n",
       "    </tr>\n",
       "    <tr>\n",
       "      <th>7</th>\n",
       "      <td>50-64</td>\n",
       "      <td>0</td>\n",
       "      <td>2</td>\n",
       "      <td>2</td>\n",
       "      <td>7</td>\n",
       "      <td>32</td>\n",
       "      <td>70</td>\n",
       "      <td>155</td>\n",
       "      <td>241</td>\n",
       "      <td>366</td>\n",
       "      <td>...</td>\n",
       "      <td>5812</td>\n",
       "      <td>5988</td>\n",
       "      <td>6309</td>\n",
       "      <td>6325</td>\n",
       "      <td>6295</td>\n",
       "      <td>6206</td>\n",
       "      <td>6040</td>\n",
       "      <td>6020</td>\n",
       "      <td>2469</td>\n",
       "      <td>110204</td>\n",
       "    </tr>\n",
       "    <tr>\n",
       "      <th>8</th>\n",
       "      <td>65-79</td>\n",
       "      <td>0</td>\n",
       "      <td>0</td>\n",
       "      <td>0</td>\n",
       "      <td>1</td>\n",
       "      <td>2</td>\n",
       "      <td>2</td>\n",
       "      <td>25</td>\n",
       "      <td>37</td>\n",
       "      <td>43</td>\n",
       "      <td>...</td>\n",
       "      <td>775</td>\n",
       "      <td>791</td>\n",
       "      <td>940</td>\n",
       "      <td>881</td>\n",
       "      <td>962</td>\n",
       "      <td>967</td>\n",
       "      <td>1019</td>\n",
       "      <td>1061</td>\n",
       "      <td>396</td>\n",
       "      <td>15305</td>\n",
       "    </tr>\n",
       "    <tr>\n",
       "      <th>9</th>\n",
       "      <td>80 e mais</td>\n",
       "      <td>0</td>\n",
       "      <td>0</td>\n",
       "      <td>0</td>\n",
       "      <td>1</td>\n",
       "      <td>0</td>\n",
       "      <td>0</td>\n",
       "      <td>2</td>\n",
       "      <td>1</td>\n",
       "      <td>3</td>\n",
       "      <td>...</td>\n",
       "      <td>51</td>\n",
       "      <td>59</td>\n",
       "      <td>62</td>\n",
       "      <td>69</td>\n",
       "      <td>60</td>\n",
       "      <td>70</td>\n",
       "      <td>74</td>\n",
       "      <td>82</td>\n",
       "      <td>27</td>\n",
       "      <td>926</td>\n",
       "    </tr>\n",
       "    <tr>\n",
       "      <th>10</th>\n",
       "      <td>ignorado</td>\n",
       "      <td>0</td>\n",
       "      <td>0</td>\n",
       "      <td>1</td>\n",
       "      <td>1</td>\n",
       "      <td>5</td>\n",
       "      <td>6</td>\n",
       "      <td>10</td>\n",
       "      <td>13</td>\n",
       "      <td>3</td>\n",
       "      <td>...</td>\n",
       "      <td>0</td>\n",
       "      <td>1</td>\n",
       "      <td>0</td>\n",
       "      <td>0</td>\n",
       "      <td>0</td>\n",
       "      <td>0</td>\n",
       "      <td>0</td>\n",
       "      <td>0</td>\n",
       "      <td>0</td>\n",
       "      <td>198</td>\n",
       "    </tr>\n",
       "  </tbody>\n",
       "</table>\n",
       "<p>11 rows × 41 columns</p>\n",
       "</div>"
      ],
      "text/plain": [
       "   Fx. Etária(SINAN)  1980  1982  1983  1984  1985  1986  1987  1988  1989  \\\n",
       "0            < 1 ano     0     2     0     4     6     1    29    60    63   \n",
       "1                1-4     0     0     0     3     3     8    21    41    56   \n",
       "2                5-9     0     0     0     1     5     6    12    16    25   \n",
       "3              10-14     0     1     0     3     6     9    21    27    39   \n",
       "4              15-19     0     0     1     6    27    49   127   209   245   \n",
       "5              20-34     1    10    26    64   259   588  1481  2411  3355   \n",
       "6              35-49     0     2    12    42   188   379   820  1291  1807   \n",
       "7              50-64     0     2     2     7    32    70   155   241   366   \n",
       "8              65-79     0     0     0     1     2     2    25    37    43   \n",
       "9          80 e mais     0     0     0     1     0     0     2     1     3   \n",
       "10          ignorado     0     0     1     1     5     6    10    13     3   \n",
       "\n",
       "    ...   2011   2012   2013   2014   2015   2016   2017   2018  2019   Total  \n",
       "0   ...    280    228    207    192    176    148    147    127    59    7944  \n",
       "1   ...    217    282    260    216    186    203    180    157    68    9940  \n",
       "2   ...    164    123    122    117     95     77     77     76    43    5242  \n",
       "3   ...    192    161    145    112     90     80     76     68    32    3500  \n",
       "4   ...    804    895    983   1033   1025    970    899    794   323   19934  \n",
       "5   ...  16837  16964  17408  16842  16381  15544  15677  15016  6706  422557  \n",
       "6   ...  17223  16594  16498  15959  15236  14659  13810  13760  5800  370308  \n",
       "7   ...   5812   5988   6309   6325   6295   6206   6040   6020  2469  110204  \n",
       "8   ...    775    791    940    881    962    967   1019   1061   396   15305  \n",
       "9   ...     51     59     62     69     60     70     74     82    27     926  \n",
       "10  ...      0      1      0      0      0      0      0      0     0     198  \n",
       "\n",
       "[11 rows x 41 columns]"
      ]
     },
     "execution_count": 10,
     "metadata": {},
     "output_type": "execute_result"
    }
   ],
   "source": [
    "# importação do dataset\n",
    "df = pd.read_csv('HIV-AIDS.csv',thousands = '.')\n",
    "df"
   ]
  },
  {
   "cell_type": "code",
   "execution_count": 7,
   "metadata": {},
   "outputs": [
    {
     "name": "stdout",
     "output_type": "stream",
     "text": [
      "40882.0\n",
      "40409.0\n"
     ]
    }
   ],
   "source": [
    "# conferindo manualmente se os valores estão corretos (conforme dados no site do SINAN)\n",
    "print(df.T[28:29].sum().sum())\n",
    "print(df.T[30:31].sum().sum())"
   ]
  },
  {
   "cell_type": "code",
   "execution_count": 16,
   "metadata": {},
   "outputs": [
    {
     "data": {
      "text/html": [
       "<div>\n",
       "<style scoped>\n",
       "    .dataframe tbody tr th:only-of-type {\n",
       "        vertical-align: middle;\n",
       "    }\n",
       "\n",
       "    .dataframe tbody tr th {\n",
       "        vertical-align: top;\n",
       "    }\n",
       "\n",
       "    .dataframe thead th {\n",
       "        text-align: right;\n",
       "    }\n",
       "</style>\n",
       "<table border=\"1\" class=\"dataframe\">\n",
       "  <thead>\n",
       "    <tr style=\"text-align: right;\">\n",
       "      <th></th>\n",
       "      <th>fx_idade</th>\n",
       "      <th>1980</th>\n",
       "      <th>1982</th>\n",
       "      <th>1983</th>\n",
       "      <th>1984</th>\n",
       "      <th>1985</th>\n",
       "      <th>1986</th>\n",
       "      <th>1987</th>\n",
       "      <th>1988</th>\n",
       "      <th>1989</th>\n",
       "      <th>...</th>\n",
       "      <th>2011</th>\n",
       "      <th>2012</th>\n",
       "      <th>2013</th>\n",
       "      <th>2014</th>\n",
       "      <th>2015</th>\n",
       "      <th>2016</th>\n",
       "      <th>2017</th>\n",
       "      <th>2018</th>\n",
       "      <th>2019</th>\n",
       "      <th>Total</th>\n",
       "    </tr>\n",
       "  </thead>\n",
       "  <tbody>\n",
       "    <tr>\n",
       "      <th>0</th>\n",
       "      <td>&lt; 1 ano</td>\n",
       "      <td>0</td>\n",
       "      <td>2</td>\n",
       "      <td>0</td>\n",
       "      <td>4</td>\n",
       "      <td>6</td>\n",
       "      <td>1</td>\n",
       "      <td>29</td>\n",
       "      <td>60</td>\n",
       "      <td>63</td>\n",
       "      <td>...</td>\n",
       "      <td>280</td>\n",
       "      <td>228</td>\n",
       "      <td>207</td>\n",
       "      <td>192</td>\n",
       "      <td>176</td>\n",
       "      <td>148</td>\n",
       "      <td>147</td>\n",
       "      <td>127</td>\n",
       "      <td>59</td>\n",
       "      <td>7944</td>\n",
       "    </tr>\n",
       "    <tr>\n",
       "      <th>1</th>\n",
       "      <td>1-4</td>\n",
       "      <td>0</td>\n",
       "      <td>0</td>\n",
       "      <td>0</td>\n",
       "      <td>3</td>\n",
       "      <td>3</td>\n",
       "      <td>8</td>\n",
       "      <td>21</td>\n",
       "      <td>41</td>\n",
       "      <td>56</td>\n",
       "      <td>...</td>\n",
       "      <td>217</td>\n",
       "      <td>282</td>\n",
       "      <td>260</td>\n",
       "      <td>216</td>\n",
       "      <td>186</td>\n",
       "      <td>203</td>\n",
       "      <td>180</td>\n",
       "      <td>157</td>\n",
       "      <td>68</td>\n",
       "      <td>9940</td>\n",
       "    </tr>\n",
       "  </tbody>\n",
       "</table>\n",
       "<p>2 rows × 41 columns</p>\n",
       "</div>"
      ],
      "text/plain": [
       "  fx_idade  1980  1982  1983  1984  1985  1986  1987  1988  1989  ...  2011  \\\n",
       "0  < 1 ano     0     2     0     4     6     1    29    60    63  ...   280   \n",
       "1      1-4     0     0     0     3     3     8    21    41    56  ...   217   \n",
       "\n",
       "   2012  2013  2014  2015  2016  2017  2018  2019  Total  \n",
       "0   228   207   192   176   148   147   127    59   7944  \n",
       "1   282   260   216   186   203   180   157    68   9940  \n",
       "\n",
       "[2 rows x 41 columns]"
      ]
     },
     "execution_count": 16,
     "metadata": {},
     "output_type": "execute_result"
    }
   ],
   "source": [
    "#Renomeando a coluna para facilitar as análises\n",
    "df.rename(columns={'Fx. Etária(SINAN)' : 'fx_idade'}, inplace = True)\n",
    "df.head(2)"
   ]
  },
  {
   "cell_type": "markdown",
   "metadata": {},
   "source": [
    "### VISUALIZAÇÃO"
   ]
  },
  {
   "cell_type": "code",
   "execution_count": 54,
   "metadata": {},
   "outputs": [
    {
     "data": {
      "image/png": "[encoded data removed]",
      "text/plain": [
       "<Figure size 864x360 with 1 Axes>"
      ]
     },
     "metadata": {
      "needs_background": "light"
     },
     "output_type": "display_data"
    }
   ],
   "source": [
    "\n",
    "s2 = df.set_index('fx_idade').T.sum().plot(kind = 'bar', figsize=(12, 5))\n",
    "\n",
    "s2 = plt.title('QT CASOS DIAGNOSTICADOS ENTRE 1980 À 2019 POR FAIXA DE IDADE',\n",
    "               pad = 20,\n",
    "         fontsize = 13, color ='dimgrey', fontweight = 'bold')\n",
    "\n",
    "#s2.yaxis.set_major_formatter(ticker.StrMethodFormatter('{x:,.2f}'))\n",
    "\n",
    "s2 = sns.despine(bottom = True, left=True)\n",
    "s2 = plt.xlabel('IDADE', color = 'grey', labelpad = 20, fontsize = 8)\n",
    "s2 = plt.ylabel('CASOS DIAGNOSTICADOS', color = 'grey', labelpad = 20, fontsize = 8)\n"
   ]
  },
  {
   "cell_type": "markdown",
   "metadata": {},
   "source": [
    "Jovens entre 20 - 34 anos foram o grupo com maior casos diagnosticados, seguido pelo grupo de de 35 à 49 anos.\n",
    "As idades entre 20 - 49 anos são as que concentram maior quantidade de casos de AIDS"
   ]
  },
  {
   "cell_type": "code",
   "execution_count": 47,
   "metadata": {},
   "outputs": [
    {
     "data": {
      "image/png": "[encoded data removed]",
      "text/plain": [
       "<Figure size 864x360 with 1 Axes>"
      ]
     },
     "metadata": {
      "needs_background": "light"
     },
     "output_type": "display_data"
    }
   ],
   "source": [
    "\n",
    "df.drop(['fx_idade', 'Total'], axis = 1).sum().plot(figsize=(12,5))\n",
    "\n",
    "s2 = plt.title('QT CASOS DIAGNOSTICADOS TOTAIS DE 1980 À 2019',\n",
    "               pad = 20,\n",
    "         fontsize = 13, color ='dimgrey', fontweight = 'bold')\n",
    "\n",
    "s2 = sns.despine(bottom = True, left=True)\n",
    "s2 = plt.xlabel('ANOS', color = 'grey', labelpad = 20, fontsize = 8)\n",
    "s2 = plt.ylabel('CASOS DIAGNOSTICADOS', color = 'grey', labelpad = 20, fontsize = 8)\n"
   ]
  },
  {
   "cell_type": "markdown",
   "metadata": {},
   "source": [
    "Os anos 2000 até meados de 2012 concentram o pico da doença, com forte queda a partir de 2016"
   ]
  },
  {
   "cell_type": "code",
   "execution_count": null,
   "metadata": {},
   "outputs": [],
   "source": []
  }
 ],
 "metadata": {
  "kernelspec": {
   "display_name": "Python 3",
   "language": "python",
   "name": "python3"
  },
  "language_info": {
   "codemirror_mode": {
    "name": "ipython",
    "version": 3
   },
   "file_extension": ".py",
   "mimetype": "text/x-python",
   "name": "python",
   "nbconvert_exporter": "python",
   "pygments_lexer": "ipython3",
   "version": "3.7.6"
  },
  "toc": {
   "base_numbering": 1,
   "nav_menu": {},
   "number_sections": true,
   "sideBar": true,
   "skip_h1_title": false,
   "title_cell": "Table of Contents",
   "title_sidebar": "Contents",
   "toc_cell": false,
   "toc_position": {},
   "toc_section_display": true,
   "toc_window_display": false
  }
 },
 "nbformat": 4,
 "nbformat_minor": 4
}
